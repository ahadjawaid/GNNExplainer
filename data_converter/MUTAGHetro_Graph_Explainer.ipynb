{
 "cells": [
  {
   "cell_type": "code",
   "execution_count": 1,
   "id": "0871b86f",
   "metadata": {},
   "outputs": [],
   "source": [
    "import dgl\n",
    "import dgl.function as fn\n",
    "import torch\n",
    "import torch.nn as nn\n",
    "import dgl.nn as dglnn\n",
    "import torch.nn.functional as F\n",
    "from dgl.dataloading import GraphDataLoader\n",
    "from mutagDataset import MUTAG"
   ]
  },
  {
   "cell_type": "code",
   "execution_count": 2,
   "id": "884fada9",
   "metadata": {},
   "outputs": [],
   "source": [
    "from dgl.dataloading import GraphDataLoader\n",
    "from torch.utils.data.sampler import SubsetRandomSampler\n",
    "\n",
    "data = MUTAG()\n",
    "\n",
    "num_examples = len(data)\n",
    "num_train = int(num_examples * 0.8)\n",
    "\n",
    "train_sampler = SubsetRandomSampler(torch.arange(num_train))\n",
    "test_sampler = SubsetRandomSampler(torch.arange(num_train, num_examples))\n",
    "\n",
    "train_dataloader = GraphDataLoader(\n",
    "    data, sampler=train_sampler)\n",
    "test_dataloader = GraphDataLoader(\n",
    "    data, sampler=test_sampler)"
   ]
  },
  {
   "cell_type": "code",
   "execution_count": 3,
   "id": "3fe46b00",
   "metadata": {},
   "outputs": [],
   "source": [
    "class RGCN(nn.Module):\n",
    "    def __init__(self, in_feats, hid_feats, out_feats, rel_names):\n",
    "        super().__init__()\n",
    "        self.conv1 = dglnn.HeteroGraphConv({\n",
    "            rel: dglnn.GraphConv(in_feats, hid_feats)\n",
    "            for rel in rel_names}, aggregate='sum')\n",
    "        self.conv2 = dglnn.HeteroGraphConv({\n",
    "            rel: dglnn.GraphConv(hid_feats, out_feats)\n",
    "            for rel in rel_names}, aggregate='sum')\n",
    "        self.conv3 = dglnn.HeteroGraphConv({\n",
    "            rel: dglnn.GraphConv(hid_feats, out_feats)\n",
    "            for rel in rel_names}, aggregate='sum')\n",
    "        self.conv4 = dglnn.HeteroGraphConv({\n",
    "            rel: dglnn.GraphConv(hid_feats, out_feats)\n",
    "            for rel in rel_names}, aggregate='sum')\n",
    "        \n",
    "        \n",
    "    def forward(self, graph, inputs):\n",
    "        # inputs is features of nodes\n",
    "        h = self.conv1(graph, inputs)\n",
    "        h = {k: F.normalize(v) for k, v in h.items()}\n",
    "        h = {k: F.leaky_relu(v) for k, v in h.items()}\n",
    "        \n",
    "        h = self.conv2(graph, h)\n",
    "        h = {k: F.leaky_relu(v) for k, v in h.items()}\n",
    "    \n",
    "        h = self.conv3(graph, h)\n",
    "        h = {k: F.leaky_relu(v) for k, v in h.items()}\n",
    "        \n",
    "        h = self.conv4(graph, h)\n",
    "        h = {k: F.dropout(v, p=0.5) for k, v in h.items()}\n",
    "        return h\n",
    "\n",
    "class HeteroClassifier(nn.Module):\n",
    "    def __init__(self, in_dim, hidden_dim, n_classes, rel_names):\n",
    "        super().__init__()\n",
    "        self.in_dim = in_dim\n",
    "        self.rgcn = RGCN(in_dim, hidden_dim, hidden_dim, rel_names)\n",
    "        self.linear = nn.Linear(hidden_dim, n_classes)\n",
    "\n",
    "    def forward(self, g, feat=None, eweight=None):\n",
    "        if not feat:\n",
    "            feat = {ntype:torch.zeros((g.num_nodes(ntype), self.in_dim)) for ntype in g.ntypes}\n",
    "    \n",
    "        h = feat    \n",
    "        h = self.rgcn(g, h)\n",
    "\n",
    "        with g.local_scope():\n",
    "            g.ndata['h'] = h\n",
    "    \n",
    "            if eweight is None:\n",
    "                g.update_all(fn.copy_u('h', 'm'), fn.sum('m', 'h'))\n",
    "            else:\n",
    "                g.edata['w'] = eweight\n",
    "                g.update_all(fn.u_mul_e('h', 'w', 'm'), fn.sum('m', 'h'))\n",
    "                \n",
    "            # Calculate graph representation by average readout.\n",
    "            hg = 0\n",
    "            for ntype in g.ntypes: \n",
    "                hg = hg + dgl.mean_nodes(g, 'h', ntype=ntype)\n",
    "            return torch.sigmoid(self.linear(hg))\n"
   ]
  },
  {
   "cell_type": "code",
   "execution_count": 4,
   "id": "df22e4e0",
   "metadata": {},
   "outputs": [],
   "source": [
    "rel_names = set()\n",
    "\n",
    "for graph in data:\n",
    "    for edge in graph[0].etypes:\n",
    "        rel_names.add(str(edge))\n",
    "\n",
    "rel_names = list(rel_names)"
   ]
  },
  {
   "cell_type": "code",
   "execution_count": 5,
   "id": "77b2fd95",
   "metadata": {},
   "outputs": [],
   "source": [
    "# model = HeteroClassifier(10, 30, 2, rel_names)\n",
    "# model = torch.load('./MUTAG_Trained_Model.pt')\n",
    "# training_loss, test_loss = [], []"
   ]
  },
  {
   "cell_type": "code",
   "execution_count": null,
   "id": "c9518b6e",
   "metadata": {},
   "outputs": [
    {
     "name": "stderr",
     "output_type": "stream",
     "text": [
      "/Users/tk178/opt/anaconda3/envs/torchenv/lib/python3.9/site-packages/torch/autocast_mode.py:162: UserWarning: User provided device_type of 'cuda', but CUDA is not available. Disabling\n",
      "  warnings.warn('User provided device_type of \\'cuda\\', but CUDA is not available. Disabling')\n"
     ]
    },
    {
     "name": "stdout",
     "output_type": "stream",
     "text": [
      "Epoch 0, Train accuracy: 81.33%, Test accuracy: 63.16%\n",
      "Epoch 3, Train accuracy: 80.00%, Test accuracy: 86.84%\n",
      "Epoch 6, Train accuracy: 76.67%, Test accuracy: 73.68%\n",
      "Epoch 9, Train accuracy: 82.00%, Test accuracy: 76.32%\n",
      "Epoch 12, Train accuracy: 84.00%, Test accuracy: 76.32%\n",
      "Epoch 15, Train accuracy: 84.00%, Test accuracy: 86.84%\n",
      "Epoch 18, Train accuracy: 83.33%, Test accuracy: 84.21%\n",
      "Epoch 21, Train accuracy: 82.00%, Test accuracy: 86.84%\n",
      "Epoch 24, Train accuracy: 82.00%, Test accuracy: 84.21%\n",
      "Epoch 27, Train accuracy: 83.33%, Test accuracy: 84.21%\n",
      "Epoch 30, Train accuracy: 83.33%, Test accuracy: 76.32%\n",
      "Epoch 33, Train accuracy: 78.00%, Test accuracy: 81.58%\n",
      "Epoch 36, Train accuracy: 82.67%, Test accuracy: 76.32%\n"
     ]
    }
   ],
   "source": [
    "# opt = torch.optim.Adam(model.parameters(), lr=0.02)\n",
    "\n",
    "# for epoch in range(100):\n",
    "#     num_correct, num_tests, batchLoss = 0, 0, 0\n",
    "#     for batched_graph, labels in train_dataloader:\n",
    "#         logits = model(batched_graph)\n",
    "#         loss = F.cross_entropy(logits, labels)\n",
    "#         opt.zero_grad()\n",
    "#         loss.backward()\n",
    "        \n",
    "#         nn.utils.clip_grad_value_(model.parameters(), clip_value=1.0)\n",
    "#         opt.step()\n",
    "        \n",
    "#         batchLoss+= loss\n",
    "#         num_correct += (logits.argmax(1) == labels).sum().item()\n",
    "#         num_tests += len(labels)\n",
    "\n",
    "#     training_loss.append(batchLoss/num_tests)\n",
    "    \n",
    "#     num_correct_test, num_tests_t = 0, 0 \n",
    "#     batchTestLoss = 0\n",
    "#     for batched_graph, labels in test_dataloader:\n",
    "#         pred = model(batched_graph)\n",
    "#         loss = F.cross_entropy(pred, labels)\n",
    "#         num_correct_test += (pred.argmax(1) == labels).sum().item()\n",
    "#         num_tests_t += len(labels)        \n",
    "#         batchTestLoss += loss\n",
    "\n",
    "#     test_loss.append(batchTestLoss/num_tests)\n",
    "    \n",
    "#     if epoch % 3 == 0:\n",
    "#         print(f'Epoch {epoch}, Train accuracy: {num_correct / num_tests * 100:.2f}%, Test accuracy: {num_correct_test / num_tests_t * 100:.2f}%')\n",
    "    \n",
    "#     if epoch % 30 == 0 and epoch != 0:\n",
    "#         torch.save(model, './MUTAG_Trained_Model.pt')"
   ]
  },
  {
   "cell_type": "code",
   "execution_count": null,
   "id": "85b9fd4b",
   "metadata": {},
   "outputs": [],
   "source": [
    "# import matplotlib.pyplot as plt\n",
    "\n",
    "# plt.plot(training_loss, label='train_loss')\n",
    "# plt.plot(test_loss, label='test_loss')\n",
    "# plt.ylabel('Loss')\n",
    "# plt.xlabel('Epoch')\n",
    "# plt.show()"
   ]
  },
  {
   "cell_type": "code",
   "execution_count": 17,
   "id": "28c00e65",
   "metadata": {},
   "outputs": [],
   "source": [
    "def createMaskMeanDict(mask):\n",
    "    maskMean = {}\n",
    "    for key in mask:\n",
    "        if list(mask[key]):\n",
    "            maskMean[key] =  torch.mean(mask[key])\n",
    "    return maskMean\n",
    "\n",
    "def getMaxKey(dictionary):\n",
    "    maxKey = None\n",
    "    maxValue = 0\n",
    "    for key in dictionary:\n",
    "        if dictionary[key] > maxValue:\n",
    "            maxValue = dictionary[key]\n",
    "            maxKey = key\n",
    "    \n",
    "    return maxKey, maxValue"
   ]
  },
  {
   "cell_type": "code",
   "execution_count": 116,
   "id": "2b147233",
   "metadata": {},
   "outputs": [],
   "source": [
    "# model = torch.save(model, './MUTAG_Trained_Model.pt')\n",
    "model = torch.load('./MUTAG_Trained_Model.pt')"
   ]
  },
  {
   "cell_type": "code",
   "execution_count": 11,
   "id": "5fda1e09",
   "metadata": {},
   "outputs": [
    {
     "name": "stdout",
     "output_type": "stream",
     "text": [
      "Accuracy: 83.51%\n"
     ]
    }
   ],
   "source": [
    "dataloader = GraphDataLoader(data)\n",
    "\n",
    "num_correct, num_tests = 0, 0\n",
    "for batched_graph, labels in dataloader:\n",
    "    pred = model(batched_graph)\n",
    "    num_correct += (pred.argmax(1) == labels).sum().item()\n",
    "    num_tests += len(labels)\n",
    "\n",
    "print(f'Accuracy: {num_correct / num_tests * 100:.2f}%')"
   ]
  },
  {
   "cell_type": "code",
   "execution_count": 22,
   "id": "c203bcb6",
   "metadata": {},
   "outputs": [],
   "source": [
    "from gnnexplainer import HeteroGNNExplainer\n",
    "\n",
    "mostIndicativeNode = []\n",
    "mostIndicativeEdge = []\n",
    "\n",
    "for i in range(188):\n",
    "    g = data[i][0]\n",
    "    feat = {ntype:torch.zeros((g.num_nodes(ntype), 10)) for ntype in g.ntypes}\n",
    "    explainer = HeteroGNNExplainer(model, num_hops=4, log=False)\n",
    "    feat_mask, edge_mask = explainer.explain_graph(g, feat)\n",
    "    mostIndicativeNode.append(getMaxKey(createMaskMeanDict(feat_mask))[0])\n",
    "    mostIndicativeEdge.append(getMaxKey(createMaskMeanDict(edge_mask))[0])"
   ]
  },
  {
   "cell_type": "code",
   "execution_count": 30,
   "id": "3b65629a",
   "metadata": {},
   "outputs": [],
   "source": [
    "from collections import Counter\n",
    "\n",
    "importantNodes = Counter(mostIndicativeNode)\n",
    "importantEdges = Counter(mostIndicativeEdge)"
   ]
  },
  {
   "cell_type": "code",
   "execution_count": 79,
   "id": "1b66f342",
   "metadata": {},
   "outputs": [
    {
     "data": {
      "image/png": "[encoded data removed]",
      "text/plain": [
       "<Figure size 432x288 with 1 Axes>"
      ]
     },
     "metadata": {
      "needs_background": "light"
     },
     "output_type": "display_data"
    }
   ],
   "source": [
    "import matplotlib.pyplot as plt\n",
    "\n",
    "x = importantNodes.keys()\n",
    "height = importantNodes.values()\n",
    "color = ['lavender', 'lightBlue', 'darkSeaGreen', 'darkSalmon', 'gold']\n",
    "\n",
    "plt.bar(x, height, color=color)\n",
    "plt.xlabel('Nodes')\n",
    "plt.ylabel('Number of Occurance as Influential')\n",
    "plt.title('Most Influential Nodes for Classifcation')\n",
    "# plt.savefig('Influential_Nodes_Bar.jpg', dpi=150, pad_inches=0.1,\n",
    "#         facecolor='auto', edgecolor='auto')\n",
    "plt.show()"
   ]
  },
  {
   "cell_type": "code",
   "execution_count": 74,
   "id": "5632fb9b",
   "metadata": {},
   "outputs": [
    {
     "data": {
      "image/png": "[encoded data removed]",
      "text/plain": [
       "<Figure size 432x288 with 1 Axes>"
      ]
     },
     "metadata": {},
     "output_type": "display_data"
    }
   ],
   "source": [
    "color = ['lavender', 'lightBlue', 'darkSeaGreen', 'darkSalmon', 'gold']\n",
    "plt.pie(x=height, labels=x, autopct='%1.1f%%', colors=color)\n",
    "plt.title('Most Influential Nodes for Classifcation')\n",
    "# plt.savefig('Influential_Nodes_Pie.jpg', dpi=150, pad_inches=0.1,\n",
    "#             facecolor='auto', edgecolor='auto')\n",
    "plt.show()"
   ]
  },
  {
   "cell_type": "code",
   "execution_count": 106,
   "id": "d5bf58ea",
   "metadata": {},
   "outputs": [
    {
     "data": {
      "image/png": "[encoded data removed]",
      "text/plain": [
       "<Figure size 432x288 with 1 Axes>"
      ]
     },
     "metadata": {
      "needs_background": "light"
     },
     "output_type": "display_data"
    }
   ],
   "source": [
    "import matplotlib.pyplot as plt\n",
    "\n",
    "x = list(map(lambda x: str(x[1]), importantEdges.keys()))\n",
    "height = importantEdges.values()\n",
    "# color = ['lavender', 'lightBlue', 'darkSeaGreen', 'darkSalmon', 'gold']\n",
    "# x = ['Double', 'Single', 'Aromatic']\n",
    "plt.bar(x, height)\n",
    "plt.xlabel('Edge Type')\n",
    "plt.ylabel('Number of Occurance as Influential')\n",
    "plt.title('Most Influential Edge Types for Classifcation')\n",
    "plt.savefig('Influential_Etype_Bar.jpg', dpi=150, pad_inches=0.1,\n",
    "        facecolor='auto', edgecolor='auto')\n",
    "plt.show()"
   ]
  },
  {
   "cell_type": "code",
   "execution_count": 107,
   "id": "4ec0bf18",
   "metadata": {},
   "outputs": [
    {
     "data": {
      "text/plain": [
       "[('O', 'doub', 'N'),\n",
       " ('O', 'single', 'N'),\n",
       " ('O', 'doub', 'N'),\n",
       " ('N', 'single', 'O'),\n",
       " ('O', 'doub', 'N'),\n",
       " ('N', 'single', 'C'),\n",
       " ('O', 'single', 'N'),\n",
       " ('N', 'single', 'C'),\n",
       " ('O', 'single', 'N'),\n",
       " ('O', 'single', 'N'),\n",
       " ('N', 'single', 'C'),\n",
       " ('N', 'doub', 'O'),\n",
       " ('N', 'single', 'C'),\n",
       " ('N', 'single', 'N'),\n",
       " ('N', 'single', 'O'),\n",
       " ('N', 'single', 'C'),\n",
       " ('O', 'doub', 'N'),\n",
       " ('N', 'single', 'O'),\n",
       " ('C', 'single', 'N'),\n",
       " ('O', 'doub', 'N'),\n",
       " ('O', 'single', 'N'),\n",
       " ('N', 'single', 'O'),\n",
       " ('N', 'single', 'C'),\n",
       " ('N', 'doub', 'O'),\n",
       " ('N', 'single', 'O'),\n",
       " ('N', 'single', 'O'),\n",
       " ('C', 'aromatic', 'C'),\n",
       " ('O', 'doub', 'N'),\n",
       " ('O', 'doub', 'N'),\n",
       " ('O', 'doub', 'N'),\n",
       " ('N', 'single', 'O'),\n",
       " ('N', 'single', 'O'),\n",
       " ('O', 'doub', 'N'),\n",
       " ('O', 'single', 'N'),\n",
       " ('N', 'single', 'O'),\n",
       " ('C', 'single', 'N'),\n",
       " ('C', 'single', 'N'),\n",
       " ('N', 'single', 'O'),\n",
       " ('O', 'single', 'C'),\n",
       " ('N', 'doub', 'O'),\n",
       " ('N', 'single', 'C'),\n",
       " ('N', 'doub', 'O'),\n",
       " ('O', 'single', 'N'),\n",
       " ('O', 'doub', 'N'),\n",
       " ('C', 'aromatic', 'C'),\n",
       " ('N', 'doub', 'O'),\n",
       " ('O', 'doub', 'N'),\n",
       " ('N', 'single', 'O'),\n",
       " ('N', 'doub', 'O'),\n",
       " ('N', 'single', 'O'),\n",
       " ('C', 'single', 'N'),\n",
       " ('N', 'single', 'C'),\n",
       " ('N', 'single', 'O'),\n",
       " ('N', 'single', 'O'),\n",
       " ('N', 'single', 'C'),\n",
       " ('O', 'doub', 'N'),\n",
       " ('C', 'single', 'C'),\n",
       " ('C', 'doub', 'C'),\n",
       " ('O', 'doub', 'N'),\n",
       " ('N', 'single', 'C'),\n",
       " ('C', 'single', 'Cl'),\n",
       " ('N', 'doub', 'O'),\n",
       " ('O', 'doub', 'C'),\n",
       " ('C', 'doub', 'O'),\n",
       " ('C', 'single', 'N'),\n",
       " ('O', 'doub', 'N'),\n",
       " ('N', 'single', 'C'),\n",
       " ('N', 'single', 'O'),\n",
       " ('N', 'doub', 'O'),\n",
       " ('O', 'single', 'N'),\n",
       " ('O', 'single', 'N'),\n",
       " ('C', 'single', 'N'),\n",
       " ('N', 'doub', 'O'),\n",
       " ('N', 'single', 'C'),\n",
       " ('C', 'single', 'N'),\n",
       " ('C', 'single', 'N'),\n",
       " ('O', 'single', 'N'),\n",
       " ('O', 'doub', 'N'),\n",
       " ('N', 'doub', 'O'),\n",
       " ('N', 'doub', 'O'),\n",
       " ('C', 'single', 'N'),\n",
       " ('N', 'single', 'O'),\n",
       " ('N', 'doub', 'O'),\n",
       " ('N', 'doub', 'O'),\n",
       " ('C', 'doub', 'C'),\n",
       " ('C', 'doub', 'C'),\n",
       " ('C', 'aromatic', 'O'),\n",
       " ('O', 'doub', 'N'),\n",
       " ('C', 'single', 'N'),\n",
       " ('O', 'doub', 'N'),\n",
       " ('O', 'doub', 'N'),\n",
       " ('N', 'single', 'O'),\n",
       " ('N', 'single', 'C'),\n",
       " ('O', 'doub', 'N'),\n",
       " ('C', 'single', 'N'),\n",
       " ('N', 'single', 'O'),\n",
       " ('O', 'doub', 'N'),\n",
       " ('C', 'single', 'N'),\n",
       " ('N', 'single', 'O'),\n",
       " ('N', 'doub', 'O'),\n",
       " ('C', 'single', 'N'),\n",
       " ('O', 'doub', 'C'),\n",
       " ('N', 'single', 'O'),\n",
       " ('N', 'single', 'C'),\n",
       " ('N', 'single', 'O'),\n",
       " ('N', 'doub', 'O'),\n",
       " ('C', 'single', 'C'),\n",
       " ('N', 'single', 'C'),\n",
       " ('C', 'single', 'N'),\n",
       " ('C', 'single', 'C'),\n",
       " ('C', 'doub', 'O'),\n",
       " ('C', 'single', 'N'),\n",
       " ('N', 'doub', 'O'),\n",
       " ('N', 'doub', 'O'),\n",
       " ('N', 'doub', 'O'),\n",
       " ('N', 'doub', 'O'),\n",
       " ('C', 'single', 'N'),\n",
       " ('N', 'single', 'O'),\n",
       " ('C', 'single', 'C'),\n",
       " ('N', 'single', 'C'),\n",
       " ('C', 'single', 'C'),\n",
       " ('C', 'single', 'N'),\n",
       " ('O', 'doub', 'N'),\n",
       " ('C', 'single', 'N'),\n",
       " ('O', 'doub', 'N'),\n",
       " ('N', 'single', 'O'),\n",
       " ('C', 'single', 'N'),\n",
       " ('N', 'single', 'C'),\n",
       " ('N', 'single', 'O'),\n",
       " ('O', 'single', 'N'),\n",
       " ('N', 'single', 'C'),\n",
       " ('O', 'single', 'N'),\n",
       " ('O', 'doub', 'N'),\n",
       " ('O', 'single', 'N'),\n",
       " ('C', 'single', 'Cl'),\n",
       " ('N', 'single', 'O'),\n",
       " ('C', 'single', 'N'),\n",
       " ('N', 'doub', 'O'),\n",
       " ('N', 'single', 'O'),\n",
       " ('C', 'single', 'N'),\n",
       " ('C', 'single', 'N'),\n",
       " ('N', 'doub', 'O'),\n",
       " ('O', 'doub', 'N'),\n",
       " ('O', 'doub', 'N'),\n",
       " ('N', 'single', 'O'),\n",
       " ('N', 'single', 'O'),\n",
       " ('O', 'doub', 'N'),\n",
       " ('N', 'single', 'O'),\n",
       " ('O', 'doub', 'N'),\n",
       " ('C', 'single', 'O'),\n",
       " ('N', 'doub', 'O'),\n",
       " ('C', 'single', 'N'),\n",
       " ('N', 'doub', 'O'),\n",
       " ('N', 'doub', 'O'),\n",
       " ('C', 'single', 'O'),\n",
       " ('N', 'doub', 'O'),\n",
       " ('O', 'doub', 'N'),\n",
       " ('O', 'doub', 'N'),\n",
       " ('C', 'aromatic', 'C'),\n",
       " ('Br', 'single', 'C'),\n",
       " ('N', 'single', 'O'),\n",
       " ('N', 'single', 'C'),\n",
       " ('C', 'single', 'N'),\n",
       " ('O', 'single', 'N'),\n",
       " ('O', 'single', 'N'),\n",
       " ('C', 'single', 'O'),\n",
       " ('N', 'single', 'O'),\n",
       " ('N', 'doub', 'O'),\n",
       " ('O', 'doub', 'N'),\n",
       " ('N', 'single', 'C'),\n",
       " ('N', 'single', 'O'),\n",
       " ('O', 'single', 'N'),\n",
       " ('C', 'single', 'N'),\n",
       " ('C', 'single', 'N'),\n",
       " ('C', 'single', 'N'),\n",
       " ('O', 'doub', 'N'),\n",
       " ('O', 'doub', 'N'),\n",
       " ('O', 'single', 'N'),\n",
       " ('O', 'doub', 'N'),\n",
       " ('N', 'doub', 'O'),\n",
       " ('O', 'doub', 'N'),\n",
       " ('O', 'single', 'N'),\n",
       " ('C', 'single', 'N'),\n",
       " ('O', 'doub', 'N'),\n",
       " ('O', 'doub', 'N'),\n",
       " ('O', 'doub', 'N'),\n",
       " ('N', 'doub', 'O'),\n",
       " ('C', 'single', 'N')]"
      ]
     },
     "execution_count": 107,
     "metadata": {},
     "output_type": "execute_result"
    }
   ],
   "source": [
    "mostIndicativeEdge"
   ]
  },
  {
   "cell_type": "code",
   "execution_count": null,
   "id": "40b07a64",
   "metadata": {},
   "outputs": [],
   "source": []
  }
 ],
 "metadata": {
  "kernelspec": {
   "display_name": "Python 3 (ipykernel)",
   "language": "python",
   "name": "python3"
  },
  "language_info": {
   "codemirror_mode": {
    "name": "ipython",
    "version": 3
   },
   "file_extension": ".py",
   "mimetype": "text/x-python",
   "name": "python",
   "nbconvert_exporter": "python",
   "pygments_lexer": "ipython3",
   "version": "3.9.12"
  },
  "vscode": {
   "interpreter": {
    "hash": "52a1247295e863e40f125e885a5b631c695645c0d33ab07351ae8c1fac1d4e67"
   }
  }
 },
 "nbformat": 4,
 "nbformat_minor": 5
}
