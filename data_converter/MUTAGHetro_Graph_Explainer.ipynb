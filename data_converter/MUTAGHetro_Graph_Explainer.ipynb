{
 "cells": [
  {
   "cell_type": "code",
   "execution_count": 1,
   "id": "0871b86f",
   "metadata": {},
   "outputs": [],
   "source": [
    "import dgl\n",
    "import dgl.function as fn\n",
    "import torch\n",
    "import torch.nn as nn\n",
    "import dgl.nn as dglnn\n",
    "import torch.nn.functional as F\n",
    "from dgl.dataloading import GraphDataLoader\n",
    "from mutagDataset import MUTAG, MUTAGOneNtype"
   ]
  },
  {
   "cell_type": "code",
   "execution_count": 2,
   "id": "aa66f285",
   "metadata": {},
   "outputs": [],
   "source": [
    "class RGCN(nn.Module):\n",
    "    def __init__(self, in_feats, hid_feats, out_feats, rel_names):\n",
    "        super().__init__()\n",
    "        self.conv1 = dglnn.HeteroGraphConv({\n",
    "            rel: dglnn.GraphConv(in_feats, hid_feats)\n",
    "            for rel in rel_names}, aggregate='sum')\n",
    "        self.conv2 = dglnn.HeteroGraphConv({\n",
    "            rel: dglnn.GraphConv(hid_feats, out_feats)\n",
    "            for rel in rel_names}, aggregate='sum')\n",
    "\n",
    "    def forward(self, graph, inputs):\n",
    "        # inputs is features of nodes\n",
    "        h = self.conv1(graph, inputs)\n",
    "        h = {k: F.relu(v) for k, v in h.items()}\n",
    "        h = self.conv2(graph, h)\n",
    "        return h\n",
    "\n",
    "class HeteroClassifier(nn.Module):\n",
    "    def __init__(self, in_dim, hidden_dim, n_classes, rel_names):\n",
    "        super().__init__()\n",
    "        self.in_dim = in_dim\n",
    "        self.rgcn = RGCN(in_dim, hidden_dim, hidden_dim, rel_names)\n",
    "        self.classify = nn.Linear(hidden_dim, n_classes)\n",
    "\n",
    "    def forward(self, g):\n",
    "        h = {ntype:torch.zeros((g.num_nodes(ntype), self.in_dim)) for ntype in g.ntypes}\n",
    "        \n",
    "        h = self.rgcn(g, h)\n",
    "\n",
    "        with g.local_scope():\n",
    "            g.ndata['h'] = h\n",
    "            # Calculate graph representation by average readout.\n",
    "            hg = 0\n",
    "            for ntype in g.ntypes:\n",
    "                hg = hg + dgl.mean_nodes(g, 'h', ntype=ntype)\n",
    "            return self.classify(hg)\n"
   ]
  },
  {
   "cell_type": "code",
   "execution_count": 4,
   "id": "884fada9",
   "metadata": {},
   "outputs": [],
   "source": [
    "from dgl.dataloading import GraphDataLoader\n",
    "\n",
    "data = MUTAG()\n",
    "dataloader = GraphDataLoader(data)"
   ]
  },
  {
   "cell_type": "code",
   "execution_count": 6,
   "id": "df22e4e0",
   "metadata": {},
   "outputs": [],
   "source": [
    "rel_names = set()\n",
    "\n",
    "for graph in data:\n",
    "    for edge in graph[0].etypes:\n",
    "        rel_names.add(str(edge))\n",
    "\n",
    "rel_names = list(rel_names)"
   ]
  },
  {
   "cell_type": "code",
   "execution_count": 7,
   "id": "d3233a95",
   "metadata": {},
   "outputs": [],
   "source": [
    "model = HeteroClassifier(10, 20, 2, rel_names)"
   ]
  },
  {
   "cell_type": "code",
   "execution_count": 22,
   "id": "c9518b6e",
   "metadata": {},
   "outputs": [
    {
     "name": "stdout",
     "output_type": "stream",
     "text": [
      "Epochs 0 Train accuracy: 67.55%\n",
      "Epochs 1 Train accuracy: 67.02%\n"
     ]
    }
   ],
   "source": [
    "opt = torch.optim.Adam(model.parameters())\n",
    "for epoch in range(2):\n",
    "    num_correct, num_tests = 0, 0\n",
    "    for batched_graph, labels in dataloader:\n",
    "        logits = model(batched_graph)\n",
    "        loss = F.cross_entropy(logits, labels)\n",
    "        opt.zero_grad()\n",
    "        loss.backward()\n",
    "        opt.step()\n",
    "        \n",
    "        num_correct += (logits.argmax(1) == labels).sum().item()\n",
    "        num_tests += len(labels)\n",
    "    print(f'Epochs {epoch}, Train accuracy: {num_correct / num_tests * 100:.2f}%')"
   ]
  },
  {
   "cell_type": "code",
   "execution_count": null,
   "id": "cfe2d3b2",
   "metadata": {},
   "outputs": [],
   "source": []
  },
  {
   "cell_type": "code",
   "execution_count": null,
   "id": "9b745005",
   "metadata": {},
   "outputs": [],
   "source": []
  }
 ],
 "metadata": {
  "kernelspec": {
   "display_name": "Python 3 (ipykernel)",
   "language": "python",
   "name": "python3"
  },
  "language_info": {
   "codemirror_mode": {
    "name": "ipython",
    "version": 3
   },
   "file_extension": ".py",
   "mimetype": "text/x-python",
   "name": "python",
   "nbconvert_exporter": "python",
   "pygments_lexer": "ipython3",
   "version": "3.9.12"
  },
  "vscode": {
   "interpreter": {
    "hash": "52a1247295e863e40f125e885a5b631c695645c0d33ab07351ae8c1fac1d4e67"
   }
  }
 },
 "nbformat": 4,
 "nbformat_minor": 5
}
