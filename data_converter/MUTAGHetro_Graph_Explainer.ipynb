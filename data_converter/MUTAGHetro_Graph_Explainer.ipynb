{
 "cells": [
  {
   "cell_type": "code",
   "execution_count": 1,
   "id": "0871b86f",
   "metadata": {},
   "outputs": [],
   "source": [
    "import dgl\n",
    "import dgl.function as fn\n",
    "import torch\n",
    "import torch.nn as nn\n",
    "import dgl.nn as dglnn\n",
    "import torch.nn.functional as F\n",
    "from dgl.dataloading import GraphDataLoader\n",
    "from mutagDataset import MUTAG"
   ]
  },
  {
   "cell_type": "code",
   "execution_count": 2,
   "id": "e0b16c5b",
   "metadata": {},
   "outputs": [],
   "source": [
    "data = MUTAG()"
   ]
  },
  {
   "cell_type": "code",
   "execution_count": 3,
   "id": "884fada9",
   "metadata": {},
   "outputs": [],
   "source": [
    "from dgl.dataloading import GraphDataLoader\n",
    "\n",
    "dataloader = GraphDataLoader(data)"
   ]
  },
  {
   "cell_type": "code",
   "execution_count": 4,
   "id": "85546628",
   "metadata": {},
   "outputs": [],
   "source": [
    "for g, l in dataloader:\n",
    "    break"
   ]
  },
  {
   "cell_type": "code",
   "execution_count": 5,
   "id": "d3233a95",
   "metadata": {},
   "outputs": [
    {
     "data": {
      "text/plain": [
       "Graph(num_nodes={'C': 15, 'N': 16, 'O': 18},\n",
       "      num_edges={('C', 'aromatic', 'C'): 32, ('C', 'single', 'N'): 1, ('N', 'double', 'O'): 1, ('N', 'single', 'C'): 1, ('N', 'single', 'O'): 1, ('O', 'double', 'N'): 1, ('O', 'single', 'N'): 1},\n",
       "      metagraph=[('C', 'C', 'aromatic'), ('C', 'N', 'single'), ('N', 'O', 'double'), ('N', 'O', 'single'), ('N', 'C', 'single'), ('O', 'N', 'double'), ('O', 'N', 'single')])"
      ]
     },
     "execution_count": 5,
     "metadata": {},
     "output_type": "execute_result"
    }
   ],
   "source": [
    "g"
   ]
  },
  {
   "cell_type": "code",
   "execution_count": null,
   "id": "c9518b6e",
   "metadata": {},
   "outputs": [],
   "source": []
  },
  {
   "cell_type": "code",
   "execution_count": null,
   "id": "19e16295",
   "metadata": {},
   "outputs": [],
   "source": []
  },
  {
   "cell_type": "code",
   "execution_count": null,
   "id": "cdff139e",
   "metadata": {},
   "outputs": [],
   "source": []
  },
  {
   "cell_type": "code",
   "execution_count": null,
   "id": "ed8888ae",
   "metadata": {},
   "outputs": [],
   "source": []
  }
 ],
 "metadata": {
  "kernelspec": {
   "display_name": "Python 3 (ipykernel)",
   "language": "python",
   "name": "python3"
  },
  "language_info": {
   "codemirror_mode": {
    "name": "ipython",
    "version": 3
   },
   "file_extension": ".py",
   "mimetype": "text/x-python",
   "name": "python",
   "nbconvert_exporter": "python",
   "pygments_lexer": "ipython3",
   "version": "3.9.12"
  }
 },
 "nbformat": 4,
 "nbformat_minor": 5
}
