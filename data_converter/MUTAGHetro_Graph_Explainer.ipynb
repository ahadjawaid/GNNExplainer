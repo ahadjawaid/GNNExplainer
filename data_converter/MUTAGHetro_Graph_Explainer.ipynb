{
 "cells": [
  {
   "cell_type": "code",
   "execution_count": 2,
   "id": "0871b86f",
   "metadata": {},
   "outputs": [],
   "source": [
    "import dgl\n",
    "import dgl.function as fn\n",
    "import torch\n",
    "import torch.nn as nn\n",
    "import dgl.nn as dglnn\n",
    "import torch.nn.functional as F\n",
    "from dgl.dataloading import GraphDataLoader\n",
    "from mutagDataset import MUTAG"
   ]
  },
  {
   "cell_type": "code",
   "execution_count": 3,
   "id": "884fada9",
   "metadata": {},
   "outputs": [],
   "source": [
    "from dgl.dataloading import GraphDataLoader\n",
    "from torch.utils.data.sampler import SubsetRandomSampler\n",
    "\n",
    "data = MUTAG()\n",
    "\n",
    "num_examples = len(data)\n",
    "num_train = int(num_examples * 0.8)\n",
    "\n",
    "train_sampler = SubsetRandomSampler(torch.arange(num_train))\n",
    "test_sampler = SubsetRandomSampler(torch.arange(num_train, num_examples))\n",
    "\n",
    "train_dataloader = GraphDataLoader(\n",
    "    data, sampler=train_sampler)\n",
    "test_dataloader = GraphDataLoader(\n",
    "    data, sampler=test_sampler)"
   ]
  },
  {
   "cell_type": "code",
   "execution_count": 4,
   "id": "3fe46b00",
   "metadata": {},
   "outputs": [],
   "source": [
    "class RGCN(nn.Module):\n",
    "    def __init__(self, in_feats, hid_feats, out_feats, rel_names):\n",
    "        super().__init__()\n",
    "        self.conv1 = dglnn.HeteroGraphConv({\n",
    "            rel: dglnn.GraphConv(in_feats, hid_feats)\n",
    "            for rel in rel_names}, aggregate='sum')\n",
    "        self.conv2 = dglnn.HeteroGraphConv({\n",
    "            rel: dglnn.GraphConv(hid_feats, out_feats)\n",
    "            for rel in rel_names}, aggregate='sum')\n",
    "        self.conv3 = dglnn.HeteroGraphConv({\n",
    "            rel: dglnn.GraphConv(hid_feats, out_feats)\n",
    "            for rel in rel_names}, aggregate='sum')\n",
    "        \n",
    "        \n",
    "    def forward(self, graph, inputs):\n",
    "        # inputs is features of nodes\n",
    "        h = self.conv1(graph, inputs)\n",
    "        h = {k: F.normalize(v) for k, v in h.items()}\n",
    "        h = {k: F.relu(v) for k, v in h.items()}\n",
    "        \n",
    "        h = self.conv2(graph, h)\n",
    "        h = {k: F.relu(v) for k, v in h.items()}\n",
    "        \n",
    "        h = self.conv3(graph, h)\n",
    "        h = {k: F.dropout(v, p=0.3) for k, v in h.items()}\n",
    "        return h\n",
    "\n",
    "class HeteroClassifier(nn.Module):\n",
    "    def __init__(self, in_dim, hidden_dim, n_classes, rel_names):\n",
    "        super().__init__()\n",
    "        self.in_dim = in_dim\n",
    "        self.rgcn = RGCN(in_dim, hidden_dim, hidden_dim, rel_names)\n",
    "        self.linear = nn.Linear(hidden_dim, n_classes)\n",
    "\n",
    "    def forward(self, g, feat=None, eweight=None):\n",
    "        if not feat:\n",
    "            feat = {ntype:torch.zeros((g.num_nodes(ntype), self.in_dim)) for ntype in g.ntypes}\n",
    "    \n",
    "        h = feat    \n",
    "        h = self.rgcn(g, h)\n",
    "\n",
    "        with g.local_scope():\n",
    "            g.ndata['h'] = h\n",
    "    \n",
    "            if eweight is None:\n",
    "                g.update_all(fn.copy_u('h', 'm'), fn.sum('m', 'h'))\n",
    "            else:\n",
    "                g.edata['w'] = eweight\n",
    "                g.update_all(fn.u_mul_e('h', 'w', 'm'), fn.sum('m', 'h'))\n",
    "                \n",
    "            # Calculate graph representation by average readout.\n",
    "            hg = 0\n",
    "            for ntype in g.ntypes: \n",
    "                hg = hg + dgl.mean_nodes(g, 'h', ntype=ntype)\n",
    "            return self.linear(hg)\n"
   ]
  },
  {
   "cell_type": "code",
   "execution_count": 5,
   "id": "df22e4e0",
   "metadata": {},
   "outputs": [],
   "source": [
    "rel_names = set()\n",
    "\n",
    "for graph in data:\n",
    "    for edge in graph[0].etypes:\n",
    "        rel_names.add(str(edge))\n",
    "\n",
    "rel_names = list(rel_names)"
   ]
  },
  {
   "cell_type": "code",
   "execution_count": 6,
   "id": "77b2fd95",
   "metadata": {},
   "outputs": [],
   "source": [
    "model = HeteroClassifier(10, 40, 2, rel_names)"
   ]
  },
  {
   "cell_type": "code",
   "execution_count": null,
   "id": "c9518b6e",
   "metadata": {},
   "outputs": [
    {
     "name": "stderr",
     "output_type": "stream",
     "text": [
      "/Users/tk178/opt/anaconda3/envs/torchenv/lib/python3.9/site-packages/torch/autocast_mode.py:162: UserWarning: User provided device_type of 'cuda', but CUDA is not available. Disabling\n",
      "  warnings.warn('User provided device_type of \\'cuda\\', but CUDA is not available. Disabling')\n"
     ]
    },
    {
     "name": "stdout",
     "output_type": "stream",
     "text": [
      "Epochs 0, Train accuracy: 62.67%, Test accuracy: 68.42%\n",
      "Epochs 5, Train accuracy: 66.00%, Test accuracy: 68.42%\n",
      "Epochs 10, Train accuracy: 66.00%, Test accuracy: 68.42%\n",
      "Epochs 15, Train accuracy: 68.00%, Test accuracy: 68.42%\n",
      "Epochs 20, Train accuracy: 67.33%, Test accuracy: 68.42%\n",
      "Epochs 25, Train accuracy: 67.33%, Test accuracy: 68.42%\n",
      "Epochs 30, Train accuracy: 65.33%, Test accuracy: 68.42%\n",
      "Epochs 35, Train accuracy: 67.33%, Test accuracy: 68.42%\n",
      "Epochs 40, Train accuracy: 68.00%, Test accuracy: 68.42%\n"
     ]
    }
   ],
   "source": [
    "opt = torch.optim.Adam(model.parameters(), lr=0.015)\n",
    "\n",
    "training_loss, test_loss = [], []\n",
    "for epoch in range(50):\n",
    "    num_correct, num_tests, batchLoss = 0, 0, 0\n",
    "    for batched_graph, labels in train_dataloader:\n",
    "        logits = model(batched_graph)\n",
    "        loss = F.cross_entropy(logits, labels)\n",
    "        opt.zero_grad()\n",
    "        loss.backward()\n",
    "        opt.step()\n",
    "        \n",
    "        batchLoss+= loss\n",
    "        num_correct += (logits.argmax(1) == labels).sum().item()\n",
    "        num_tests += len(labels)\n",
    "\n",
    "    training_loss.append(batchLoss/num_tests)\n",
    "    \n",
    "    num_correct_test, num_tests_t = 0, 0 \n",
    "    batchTestLoss = 0\n",
    "    for batched_graph, labels in test_dataloader:\n",
    "        pred = model(batched_graph)\n",
    "        loss = F.cross_entropy(pred, labels)\n",
    "        num_correct_test += (pred.argmax(1) == labels).sum().item()\n",
    "        num_tests_t += len(labels)        \n",
    "        batchTestLoss += loss\n",
    "\n",
    "    test_loss.append(batchTestLoss/num_tests)\n",
    "    \n",
    "    if epoch % 5 == 0:\n",
    "        print(f'Epochs {epoch}, Train accuracy: {num_correct / num_tests * 100:.2f}%, Test accuracy: {num_correct_test / num_tests_t * 100:.2f}%')\n",
    "    \n",
    "    "
   ]
  },
  {
   "cell_type": "code",
   "execution_count": null,
   "id": "4bfac3ab",
   "metadata": {},
   "outputs": [],
   "source": [
    "import matplotlib.pyplot as plt\n",
    "\n",
    "plt.plot(training_loss, label='train_loss')\n",
    "plt.plot(test_loss, label='test_loss')\n",
    "plt.ylabel('Loss')\n",
    "plt.xlabel('Epoch')\n",
    "plt.show()"
   ]
  },
  {
   "cell_type": "code",
   "execution_count": 116,
   "id": "2b147233",
   "metadata": {},
   "outputs": [],
   "source": [
    "# model = torch.save(model, './MUTAG_Trained_Model.pt')\n",
    "# model = torch.load('./MUTAG_Trained_Model.pt')"
   ]
  },
  {
   "cell_type": "code",
   "execution_count": 129,
   "id": "c203bcb6",
   "metadata": {},
   "outputs": [],
   "source": [
    "from gnnexplainer import HeteroGNNExplainer\n",
    "\n",
    "g = data[110][0]\n",
    "feat = {ntype:torch.zeros((g.num_nodes(ntype), 10)) for ntype in g.ntypes}\n",
    "explainer = HeteroGNNExplainer(model, num_hops=3, log=False)\n",
    "feat_mask, edge_mask = explainer.explain_graph(g, feat)"
   ]
  },
  {
   "cell_type": "code",
   "execution_count": 1,
   "id": "d50339d9",
   "metadata": {},
   "outputs": [
    {
     "ename": "NameError",
     "evalue": "name 'model' is not defined",
     "output_type": "error",
     "traceback": [
      "\u001b[0;31m---------------------------------------------------------------------------\u001b[0m",
      "\u001b[0;31mNameError\u001b[0m                                 Traceback (most recent call last)",
      "Input \u001b[0;32mIn [1]\u001b[0m, in \u001b[0;36m<cell line: 1>\u001b[0;34m()\u001b[0m\n\u001b[0;32m----> 1\u001b[0m \u001b[43mmodel\u001b[49m(g)\n",
      "\u001b[0;31mNameError\u001b[0m: name 'model' is not defined"
     ]
    }
   ],
   "source": [
    "model(g)"
   ]
  },
  {
   "cell_type": "code",
   "execution_count": null,
   "id": "419a94e0",
   "metadata": {},
   "outputs": [],
   "source": []
  }
 ],
 "metadata": {
  "kernelspec": {
   "display_name": "Python 3 (ipykernel)",
   "language": "python",
   "name": "python3"
  },
  "language_info": {
   "codemirror_mode": {
    "name": "ipython",
    "version": 3
   },
   "file_extension": ".py",
   "mimetype": "text/x-python",
   "name": "python",
   "nbconvert_exporter": "python",
   "pygments_lexer": "ipython3",
   "version": "3.9.12"
  },
  "vscode": {
   "interpreter": {
    "hash": "52a1247295e863e40f125e885a5b631c695645c0d33ab07351ae8c1fac1d4e67"
   }
  }
 },
 "nbformat": 4,
 "nbformat_minor": 5
}
