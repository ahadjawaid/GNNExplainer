{
 "cells": [
  {
   "cell_type": "code",
   "execution_count": 39,
   "id": "c9303f01",
   "metadata": {},
   "outputs": [],
   "source": [
    "from node_class_model import Model, train\n",
    "import dgl\n",
    "import torch\n",
    "from dgl.data import CoraGraphDataset\n",
    "from dgl.nn import GNNExplainer\n",
    "import networkx as nx"
   ]
  },
  {
   "cell_type": "code",
   "execution_count": 40,
   "id": "62164218",
   "metadata": {},
   "outputs": [
    {
     "name": "stdout",
     "output_type": "stream",
     "text": [
      "  NumNodes: 2708\n",
      "  NumEdges: 10556\n",
      "  NumFeats: 1433\n",
      "  NumClasses: 7\n",
      "  NumTrainingSamples: 140\n",
      "  NumValidationSamples: 500\n",
      "  NumTestSamples: 1000\n",
      "Done loading data from cached files.\n"
     ]
    }
   ],
   "source": [
    "data = CoraGraphDataset()\n",
    "g = data[0]"
   ]
  },
  {
   "cell_type": "code",
   "execution_count": 41,
   "id": "8f15d7ac",
   "metadata": {},
   "outputs": [],
   "source": [
    "# features = g.ndata['feat']\n",
    "# model = Model(features.shape[1], data.num_classes)\n",
    "# train(model, g, epochs=1000, printInterval=99)\n",
    "# torch.save(model, 'Cora_Trained_Model.pt')"
   ]
  },
  {
   "cell_type": "code",
   "execution_count": 42,
   "id": "66d68971",
   "metadata": {},
   "outputs": [],
   "source": [
    "model = torch.load(\"../models/Cora_Trained_Model.pt\")"
   ]
  },
  {
   "cell_type": "code",
   "execution_count": 43,
   "id": "230e23e5",
   "metadata": {},
   "outputs": [],
   "source": [
    "def displaySG(nodeID):\n",
    "    # Defines explainer model and trains model to explain node\n",
    "    features = g.ndata['feat']\n",
    "    explainer = GNNExplainer(model, num_hops=2, lr=0.001, num_epochs=150)\n",
    "    new_center, sg, feat_mask, edge_mask = explainer.explain_node(nodeID, g, features)\n",
    "    \n",
    "    # Draws sub-graph\n",
    "    nx_G = sg.to_networkx().to_undirected()\n",
    "    # Create Node Color Map\n",
    "    colors = ['azure', 'tan', 'wheat', 'lavender', 'lightskyblue', 'lightsalmon', 'lightgreen', 'thistle', \n",
    "              'slateblue', 'roseybrown', 'plum', 'peru', 'pink', 'palegreen', 'olive', 'moccasin', 'mintcream',\n",
    "              'oldlace', 'linen', 'maroon', 'green', 'yellow', 'blue', 'orange', 'lightyellow', 'lightpink',\n",
    "              'lavenderblush', 'ivory', 'purple', 'violet', 'lightgray', 'darkgreen', 'darkyellow', 'darkblue',\n",
    "              'honeydue', 'darkpurple', 'darkorange', 'coral', 'hotpink', 'gainsboro']\n",
    "    color_map = []\n",
    "    for i, node in enumerate(nx_G):\n",
    "        if node == new_center.numpy()[0]:\n",
    "            color_map.append('gray')\n",
    "        else:\n",
    "            color_map.append(colors[sg.ndata['label'].numpy()[i]])\n",
    "        \n",
    "    # Draw Graph\n",
    "    pos = nx.kamada_kawai_layout(nx_G)\n",
    "    nx.draw_networkx(nx_G, pos, node_color=color_map, with_labels=True)\n",
    "    print(colors[sg.ndata['label'].numpy()[new_center.numpy()[0]]])\n",
    "    \n",
    "    return max(feat_mask), edge_mask"
   ]
  },
  {
   "cell_type": "code",
   "execution_count": 45,
   "id": "641d338a",
   "metadata": {},
   "outputs": [
    {
     "name": "stderr",
     "output_type": "stream",
     "text": [
      "Explain node {node_id}: 100%|████████████████| 150/150 [00:00<00:00, 419.53it/s]\n"
     ]
    },
    {
     "name": "stdout",
     "output_type": "stream",
     "text": [
      "lavender\n"
     ]
    },
    {
     "data": {
      "text/plain": [
       "(tensor(0.5939),\n",
       " tensor([0.7038, 0.5737, 0.5809, 0.3816, 0.3450, 0.4209, 0.1253, 0.6122, 0.7289,\n",
       "         0.4301, 0.3884, 0.4838, 0.2096, 0.5976]))"
      ]
     },
     "execution_count": 45,
     "metadata": {},
     "output_type": "execute_result"
    },
    {
     "data": {
      "image/png": "[encoded data removed]",
      "text/plain": [
       "<Figure size 432x288 with 1 Axes>"
      ]
     },
     "metadata": {},
     "output_type": "display_data"
    }
   ],
   "source": [
    "displaySG(21)"
   ]
  },
  {
   "cell_type": "code",
   "execution_count": 38,
   "id": "c462d237",
   "metadata": {},
   "outputs": [
    {
     "name": "stderr",
     "output_type": "stream",
     "text": [
      "Explain node {node_id}: 100%|████████████████| 150/150 [00:00<00:00, 429.16it/s]\n"
     ]
    }
   ],
   "source": [
    "features = g.ndata['feat']\n",
    "explainer = GNNExplainer(model, num_hops=2, lr=0.001, num_epochs=150)\n",
    "new_center, sg, feat_mask, edge_mask = explainer.explain_node(13, g, features)"
   ]
  },
  {
   "cell_type": "code",
   "execution_count": null,
   "id": "6b17e82b",
   "metadata": {},
   "outputs": [],
   "source": []
  },
  {
   "cell_type": "code",
   "execution_count": null,
   "id": "9c128c5d",
   "metadata": {},
   "outputs": [],
   "source": []
  },
  {
   "cell_type": "code",
   "execution_count": null,
   "id": "0b49a4e1",
   "metadata": {},
   "outputs": [],
   "source": []
  },
  {
   "cell_type": "code",
   "execution_count": null,
   "id": "ef122da7",
   "metadata": {},
   "outputs": [],
   "source": []
  },
  {
   "cell_type": "code",
   "execution_count": null,
   "id": "edbf01ae",
   "metadata": {},
   "outputs": [],
   "source": []
  },
  {
   "cell_type": "code",
   "execution_count": null,
   "id": "4e88b911",
   "metadata": {},
   "outputs": [],
   "source": []
  }
 ],
 "metadata": {
  "kernelspec": {
   "display_name": "Python 3 (ipykernel)",
   "language": "python",
   "name": "python3"
  },
  "language_info": {
   "codemirror_mode": {
    "name": "ipython",
    "version": 3
   },
   "file_extension": ".py",
   "mimetype": "text/x-python",
   "name": "python",
   "nbconvert_exporter": "python",
   "pygments_lexer": "ipython3",
   "version": "3.9.12"
  }
 },
 "nbformat": 4,
 "nbformat_minor": 5
}
