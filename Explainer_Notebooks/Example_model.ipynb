{
 "cells": [
  {
   "cell_type": "code",
   "execution_count": 29,
   "id": "28ae54be",
   "metadata": {},
   "outputs": [
    {
     "name": "stdout",
     "output_type": "stream",
     "text": [
      "Done loading data from cached files.\n"
     ]
    },
    {
     "name": "stderr",
     "output_type": "stream",
     "text": [
      "/var/folders/hh/qlc29njs1hlbzhf33lpxrnvr0000gn/T/ipykernel_6754/3667643155.py:43: UserWarning: indexing with dtype torch.uint8 is now deprecated, please use a dtype torch.bool instead. (Triggered internally at  /Users/distiller/project/conda/conda-bld/pytorch_1646756029501/work/aten/src/ATen/native/IndexingUtils.h:28.)\n",
      "  loss = F.cross_entropy(logits[train_mask], labels[train_mask])\n",
      "/Users/tk178/opt/anaconda3/envs/torchenv/lib/python3.9/site-packages/torch/autocast_mode.py:162: UserWarning: User provided device_type of 'cuda', but CUDA is not available. Disabling\n",
      "  warnings.warn('User provided device_type of \\'cuda\\', but CUDA is not available. Disabling')\n",
      "/Users/tk178/opt/anaconda3/envs/torchenv/lib/python3.9/site-packages/torch/autograd/__init__.py:173: UserWarning: indexing with dtype torch.uint8 is now deprecated, please use a dtype torch.bool instead. (Triggered internally at  /Users/distiller/project/conda/conda-bld/pytorch_1646756029501/work/aten/src/ATen/native/IndexingUtils.h:28.)\n",
      "  Variable._execution_engine.run_backward(  # Calls into the C++ engine to run the backward pass\n",
      "Explain node 9528: 100%|██████████████████████| 100/100 [00:04<00:00, 23.91it/s]\n"
     ]
    }
   ],
   "source": [
    "import dgl\n",
    "import torch.nn.functional as F\n",
    "import torch\n",
    "import dgl.function as fn\n",
    "import torch.nn as nn\n",
    "import dgl.nn as dglnn\n",
    "from dgl.data import MUTAGDataset\n",
    "# from dgl.nn import HeteroGNNExplainer\n",
    "from gnnexplainer import HeteroGNNExplainer\n",
    "# Load dataset\n",
    "data = MUTAGDataset()\n",
    "g = data[0]\n",
    "predict_ntype = data.predict_category\n",
    "train_mask = g.nodes[predict_ntype].data['train_mask']\n",
    "test_mask = g.nodes[predict_ntype].data['test_mask']\n",
    "labels = g.nodes[predict_ntype].data['labels']\n",
    "features = {}\n",
    "for ntype in g.ntypes:\n",
    "    features[ntype] = torch.zeros((g.num_nodes(ntype), 10))\n",
    "# Define a model\n",
    "class Model(nn.Module):\n",
    "    def __init__(self, in_feats, out_feats, rel_names):\n",
    "        super(Model, self).__init__()\n",
    "        self.conv1 = dglnn.HeteroGraphConv({\n",
    "            rel: dglnn.GraphConv(in_feats, out_feats)\n",
    "            for rel in rel_names}, aggregate='sum')\n",
    "    def forward(self, graph, feat, eweight=None):\n",
    "        with graph.local_scope():\n",
    "            feat = self.conv1(graph, feat)\n",
    "            feat = {k: F.relu(v) for k, v in feat.items()}\n",
    "            graph.ndata['h'] = feat\n",
    "            if eweight is None:\n",
    "                graph.update_all(fn.copy_u('h', 'm'), fn.sum('m', 'h'))\n",
    "            else:\n",
    "                graph.edata['w'] = eweight\n",
    "                graph.update_all(fn.u_mul_e('h', 'w', 'm'), fn.sum('m', 'h'))\n",
    "            return graph.ndata['h']\n",
    "# Train the model\n",
    "model = Model(len(features[predict_ntype][0]), data.num_classes, g.etypes)\n",
    "optimizer = torch.optim.Adam(model.parameters())\n",
    "for epoch in range(100):\n",
    "    logits = model(g, features)[predict_ntype]\n",
    "    loss = F.cross_entropy(logits[train_mask], labels[train_mask])\n",
    "    optimizer.zero_grad()\n",
    "    loss.backward()\n",
    "    optimizer.step()\n",
    "# Explain the prediction for node 10\n",
    "explainer = HeteroGNNExplainer(model, num_hops=1)\n",
    "new_center, sg, feat_mask, edge_mask = explainer.explain_node(predict_ntype, 9528, g, features)"
   ]
  },
  {
   "cell_type": "code",
   "execution_count": 17,
   "id": "0dd19ba6",
   "metadata": {},
   "outputs": [
    {
     "data": {
      "text/plain": [
       "tensor([23])"
      ]
     },
     "execution_count": 17,
     "metadata": {},
     "output_type": "execute_result"
    }
   ],
   "source": [
    "new_center"
   ]
  },
  {
   "cell_type": "code",
   "execution_count": 30,
   "id": "bc302cc5",
   "metadata": {},
   "outputs": [
    {
     "data": {
      "text/plain": [
       "65"
      ]
     },
     "execution_count": 30,
     "metadata": {},
     "output_type": "execute_result"
    }
   ],
   "source": [
    "sg.num_nodes()"
   ]
  },
  {
   "cell_type": "code",
   "execution_count": 19,
   "id": "c03aab2b",
   "metadata": {},
   "outputs": [
    {
     "data": {
      "text/plain": [
       "{'SCHEMA': tensor([0.2715, 0.2779, 0.2594, 0.2666, 0.3035, 0.2533, 0.2411, 0.2482, 0.2685,\n",
       "         0.2813]),\n",
       " '_Literal': tensor([0.2530, 0.2757, 0.2860, 0.2599, 0.2508, 0.2748, 0.2750, 0.2758, 0.2875,\n",
       "         0.2710]),\n",
       " 'bond': tensor([0.2569, 0.2744, 0.3060, 0.2867, 0.2376, 0.2873, 0.2758, 0.2877, 0.3181,\n",
       "         0.2730]),\n",
       " 'd': tensor([0.2866, 0.2375, 0.2769, 0.2677, 0.2374, 0.2500, 0.2763, 0.2418, 0.2812,\n",
       "         0.2618]),\n",
       " 'hasStructure': tensor([0.2688, 0.2561, 0.2461, 0.2923, 0.2595, 0.2908, 0.2913, 0.2530, 0.2375,\n",
       "         0.2512])}"
      ]
     },
     "execution_count": 19,
     "metadata": {},
     "output_type": "execute_result"
    }
   ],
   "source": [
    "feat_mask"
   ]
  },
  {
   "cell_type": "code",
   "execution_count": 20,
   "id": "00f39b56",
   "metadata": {},
   "outputs": [
    {
     "data": {
      "text/plain": [
       "{('SCHEMA', '22-rdf-syntax-ns#type', 'SCHEMA'): tensor([]),\n",
       " ('SCHEMA', 'owl#disjointWith', 'SCHEMA'): tensor([]),\n",
       " ('SCHEMA', 'rdf-schema#domain', 'SCHEMA'): tensor([]),\n",
       " ('SCHEMA', 'rdf-schema#range', 'SCHEMA'): tensor([]),\n",
       " ('SCHEMA', 'rdf-schema#subClassOf', 'SCHEMA'): tensor([]),\n",
       " ('SCHEMA', 'rev-22-rdf-syntax-ns#type', 'SCHEMA'): tensor([]),\n",
       " ('SCHEMA', 'rev-22-rdf-syntax-ns#type', 'bond'): tensor([]),\n",
       " ('SCHEMA', 'rev-22-rdf-syntax-ns#type', 'd'): tensor([0.7980]),\n",
       " ('SCHEMA', 'rev-owl#disjointWith', 'SCHEMA'): tensor([]),\n",
       " ('SCHEMA', 'rev-rdf-schema#domain', 'SCHEMA'): tensor([]),\n",
       " ('SCHEMA', 'rev-rdf-schema#range', 'SCHEMA'): tensor([]),\n",
       " ('SCHEMA', 'rev-rdf-schema#subClassOf', 'SCHEMA'): tensor([]),\n",
       " ('_Literal', 'rev-amesTestPositive', 'd'): tensor([0.8443]),\n",
       " ('_Literal', 'rev-charge', 'd'): tensor([]),\n",
       " ('_Literal', 'rev-chromaberr', 'd'): tensor([]),\n",
       " ('_Literal', 'rev-chromex', 'd'): tensor([]),\n",
       " ('_Literal', 'rev-cytogen_ca', 'd'): tensor([0.8960]),\n",
       " ('_Literal', 'rev-cytogen_sce', 'd'): tensor([0.1617]),\n",
       " ('_Literal', 'rev-drosophila_rt', 'd'): tensor([]),\n",
       " ('_Literal', 'rev-drosophila_slrl', 'd'): tensor([]),\n",
       " ('_Literal', 'rev-micronuc_f', 'd'): tensor([]),\n",
       " ('_Literal', 'rev-micronuc_m', 'd'): tensor([]),\n",
       " ('_Literal', 'rev-mouse_lymph', 'd'): tensor([0.1913]),\n",
       " ('_Literal', 'rev-salmonella', 'd'): tensor([0.0910]),\n",
       " ('_Literal', 'rev-salmonella_n', 'd'): tensor([]),\n",
       " ('_Literal', 'rev-salmonella_reduc', 'd'): tensor([]),\n",
       " ('bond', '22-rdf-syntax-ns#type', 'SCHEMA'): tensor([]),\n",
       " ('bond',\n",
       "  'inBond',\n",
       "  'd'): tensor([0.2298, 0.1748, 0.2432, 0.2191, 0.1700, 0.2266, 0.8265, 0.1938, 0.2397,\n",
       "         0.2193, 0.2292, 0.1906, 0.2292, 0.1913, 0.8291, 0.1803, 0.2012, 0.8302,\n",
       "         0.2388, 0.2407, 0.8276, 0.8311, 0.2403, 0.1897, 0.2090, 0.8272, 0.2180,\n",
       "         0.2448, 0.2276, 0.2000, 0.8501, 0.8425, 0.1868, 0.1939, 0.1712, 0.2389,\n",
       "         0.1681, 0.2237, 0.2267, 0.8392, 0.2353, 0.8403, 0.2356, 0.2195, 0.2363,\n",
       "         0.8624, 0.8716, 0.2453]),\n",
       " ('bond',\n",
       "  'rev-hasBond',\n",
       "  'd'): tensor([0.2192, 0.8108, 0.2234, 0.2170, 0.1995, 0.2046, 0.8192, 0.2182, 0.8171,\n",
       "         0.1952, 0.2266, 0.1937, 0.2080, 0.8279, 0.2145, 0.2184, 0.1979, 0.2032,\n",
       "         0.2133, 0.8283, 0.2240, 0.2137, 0.8243, 0.8135]),\n",
       " ('d', '22-rdf-syntax-ns#type', 'SCHEMA'): tensor([0.7998]),\n",
       " ('d', 'amesTestPositive', '_Literal'): tensor([0.8411]),\n",
       " ('d', 'charge', '_Literal'): tensor([]),\n",
       " ('d', 'chromaberr', '_Literal'): tensor([]),\n",
       " ('d', 'chromex', '_Literal'): tensor([]),\n",
       " ('d', 'cytogen_ca', '_Literal'): tensor([0.1757]),\n",
       " ('d', 'cytogen_sce', '_Literal'): tensor([0.1760]),\n",
       " ('d', 'drosophila_rt', '_Literal'): tensor([]),\n",
       " ('d', 'drosophila_slrl', '_Literal'): tensor([]),\n",
       " ('d',\n",
       "  'hasAtom',\n",
       "  'd'): tensor([0.1586, 0.2094, 0.2016, 0.2191, 0.2271, 0.1630, 0.2271, 0.8417, 0.2069,\n",
       "         0.8136, 0.2162, 0.2124, 0.1856, 0.1780, 0.2180, 0.2002, 0.2089, 0.8205,\n",
       "         0.8570, 0.8193, 0.2152, 0.8168, 0.8184]),\n",
       " ('d',\n",
       "  'hasBond',\n",
       "  'bond'): tensor([0.8428, 0.2073, 0.2089, 0.2190, 0.1890, 0.8098, 0.8268, 0.8572, 0.2164,\n",
       "         0.2128, 0.1874, 0.2263, 0.2220, 0.1876, 0.1755, 0.1979, 0.8129, 0.2109,\n",
       "         0.8093, 0.1897, 0.8350, 0.2213, 0.8272, 0.2117]),\n",
       " ('d',\n",
       "  'hasStructure',\n",
       "  'hasStructure'): tensor([0.8084, 0.1614, 0.8193, 0.8166, 0.1821, 0.1991, 0.2111, 0.2092, 0.1899,\n",
       "         0.1764, 0.1965, 0.1771, 0.1280, 0.2141, 0.8261]),\n",
       " ('d', 'micronuc_f', '_Literal'): tensor([]),\n",
       " ('d', 'micronuc_m', '_Literal'): tensor([]),\n",
       " ('d', 'mouse_lymph', '_Literal'): tensor([0.1993]),\n",
       " ('d',\n",
       "  'rev-hasAtom',\n",
       "  'd'): tensor([0.8147, 0.8098, 0.2183, 0.8295, 0.2117, 0.2249, 0.2138, 0.8175, 0.8192,\n",
       "         0.1766, 0.8241, 0.2193, 0.2209, 0.2006, 0.1794, 0.1590, 0.8097, 0.1572,\n",
       "         0.8113, 0.8098, 0.1521, 0.2244, 0.2073]),\n",
       " ('d',\n",
       "  'rev-inBond',\n",
       "  'bond'): tensor([0.8313, 0.2343, 0.8327, 0.2230, 0.2039, 0.2187, 0.2307, 0.2477, 0.2429,\n",
       "         0.1973, 0.2212, 0.2380, 0.2080, 0.2249, 0.2134, 0.2195, 0.1980, 0.8396,\n",
       "         0.8539, 0.2270, 0.8343, 0.2446, 0.1705, 0.2262, 0.2263, 0.2355, 0.1454,\n",
       "         0.2176, 0.2410, 0.2275, 0.1969, 0.2282, 0.8275, 0.2448, 0.2284, 0.8284,\n",
       "         0.8557, 0.2106, 0.2222, 0.2145, 0.8319, 0.8273, 0.2271, 0.2304, 0.2249,\n",
       "         0.2427, 0.2342, 0.2206]),\n",
       " ('d', 'salmonella', '_Literal'): tensor([0.2019]),\n",
       " ('d', 'salmonella_n', '_Literal'): tensor([]),\n",
       " ('d', 'salmonella_reduc', '_Literal'): tensor([]),\n",
       " ('hasStructure',\n",
       "  'rev-hasStructure',\n",
       "  'd'): tensor([0.1746, 0.8552, 0.2077, 0.1960, 0.1916, 0.2087, 0.8104, 0.2145, 0.8052,\n",
       "         0.8048, 0.8084, 0.2133, 0.8132, 0.1962, 0.8052])}"
      ]
     },
     "execution_count": 20,
     "metadata": {},
     "output_type": "execute_result"
    }
   ],
   "source": [
    "edge_mask"
   ]
  },
  {
   "cell_type": "code",
   "execution_count": 21,
   "id": "799f5f6e",
   "metadata": {},
   "outputs": [
    {
     "data": {
      "text/plain": [
       "tensor(1)"
      ]
     },
     "execution_count": 21,
     "metadata": {},
     "output_type": "execute_result"
    }
   ],
   "source": [
    "g.ndata['label']['d'][9528]"
   ]
  },
  {
   "cell_type": "code",
   "execution_count": 27,
   "id": "0335f5c0",
   "metadata": {},
   "outputs": [],
   "source": [
    "def createMaskMeanDict(mask):\n",
    "    maskMean = {}\n",
    "    for key in mask:\n",
    "        if list(mask[key]):\n",
    "            maskMean[key] =  torch.mean(mask[key])\n",
    "    return maskMean\n",
    "\n",
    "def getMaxKey(dictionary):\n",
    "    maxKey = None\n",
    "    maxValue = 0\n",
    "    for key in dictionary:\n",
    "        if dictionary[key] > maxValue:\n",
    "            maxValue = dictionary[key]\n",
    "            maxKey = key\n",
    "    \n",
    "    return maxKey, maxValue"
   ]
  },
  {
   "cell_type": "code",
   "execution_count": 28,
   "id": "57603752",
   "metadata": {},
   "outputs": [
    {
     "data": {
      "text/plain": [
       "(('_Literal', 'rev-cytogen_ca', 'd'), tensor(0.8960))"
      ]
     },
     "execution_count": 28,
     "metadata": {},
     "output_type": "execute_result"
    }
   ],
   "source": [
    "getMaxKey(createMaskMeanDict(edge_mask))"
   ]
  },
  {
   "cell_type": "code",
   "execution_count": null,
   "id": "020e9b16",
   "metadata": {},
   "outputs": [],
   "source": []
  },
  {
   "cell_type": "code",
   "execution_count": null,
   "id": "745f5474",
   "metadata": {},
   "outputs": [],
   "source": []
  }
 ],
 "metadata": {
  "kernelspec": {
   "display_name": "Python 3 (ipykernel)",
   "language": "python",
   "name": "python3"
  },
  "language_info": {
   "codemirror_mode": {
    "name": "ipython",
    "version": 3
   },
   "file_extension": ".py",
   "mimetype": "text/x-python",
   "name": "python",
   "nbconvert_exporter": "python",
   "pygments_lexer": "ipython3",
   "version": "3.9.12"
  }
 },
 "nbformat": 4,
 "nbformat_minor": 5
}
