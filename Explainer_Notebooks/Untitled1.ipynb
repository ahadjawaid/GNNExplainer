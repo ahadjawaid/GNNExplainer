{
 "cells": [
  {
   "cell_type": "code",
   "execution_count": 106,
   "id": "5516f9eb",
   "metadata": {},
   "outputs": [],
   "source": [
    "import dgl.function as fn\n",
    "import torch\n",
    "import torch.nn as nn\n",
    "import torch.nn.functional as F\n",
    "from dgl.nn import AvgPooling, GNNExplainer\n",
    "from dgl.dataloading import GraphDataLoader\n",
    "from dgl.data import TUDataset"
   ]
  },
  {
   "cell_type": "code",
   "execution_count": 96,
   "id": "37b89155",
   "metadata": {},
   "outputs": [],
   "source": [
    "data = TUDataset('MUTAG')"
   ]
  },
  {
   "cell_type": "code",
   "execution_count": 101,
   "id": "26472280",
   "metadata": {},
   "outputs": [],
   "source": [
    "# Define a model\n",
    "class Model(nn.Module):\n",
    "    def __init__(self, in_feats, out_feats):\n",
    "        super(Model, self).__init__()\n",
    "        self.linear = nn.Linear(in_feats, out_feats)\n",
    "        self.pool = AvgPooling()\n",
    "    def forward(self, graph, feat, eweight=None):\n",
    "        with graph.local_scope():\n",
    "            feat = self.linear(feat)\n",
    "            graph.ndata['h'] = feat\n",
    "            if eweight is None:\n",
    "                graph.update_all(fn.copy_u('h', 'm'), fn.sum('m', 'h'))\n",
    "            else:\n",
    "                graph.edata['w'] = eweight\n",
    "                graph.update_all(fn.u_mul_e('h', 'w', 'm'), fn.sum('m', 'h'))\n",
    "            return self.pool(graph, graph.ndata['h'])"
   ]
  },
  {
   "cell_type": "code",
   "execution_count": 102,
   "id": "74ee1431",
   "metadata": {},
   "outputs": [],
   "source": [
    "dataloader = GraphDataLoader(data, batch_size=64, shuffle=True)"
   ]
  },
  {
   "cell_type": "code",
   "execution_count": 293,
   "id": "7dc57c33",
   "metadata": {},
   "outputs": [],
   "source": [
    "# # Train the model\n",
    "# model = Model(10, 2)\n",
    "# optimizer = torch.optim.Adam(model.parameters(), lr=1e-2)\n",
    "# for bg, labels in dataloader:\n",
    "#     feats = torch.randn((bg.num_nodes(), 10))\n",
    "#     logits = model(bg, feats)\n",
    "#     loss = F.cross_entropy(logits, labels)\n",
    "#     optimizer.zero_grad()\n",
    "#     loss.backward()\n",
    "#     optimizer.step()"
   ]
  },
  {
   "cell_type": "code",
   "execution_count": 292,
   "id": "d7953f39",
   "metadata": {},
   "outputs": [
    {
     "data": {
      "image/png": "[encoded data removed]",
      "text/plain": [
       "<Figure size 432x288 with 1 Axes>"
      ]
     },
     "metadata": {},
     "output_type": "display_data"
    }
   ],
   "source": [
    "import networkx as nx\n",
    "\n",
    "g = data[5][0]\n",
    "nx_G = g.to_networkx().to_undirected()\n",
    "pos = nx.kamada_kawai_layout(nx_G)\n",
    "nx.draw_networkx(nx_G, pos, with_labels=False)"
   ]
  },
  {
   "cell_type": "code",
   "execution_count": null,
   "id": "c2ed727e",
   "metadata": {},
   "outputs": [],
   "source": []
  },
  {
   "cell_type": "code",
   "execution_count": null,
   "id": "d675f3da",
   "metadata": {},
   "outputs": [],
   "source": []
  },
  {
   "cell_type": "code",
   "execution_count": null,
   "id": "acce144b",
   "metadata": {},
   "outputs": [],
   "source": []
  },
  {
   "cell_type": "code",
   "execution_count": null,
   "id": "ce40e786",
   "metadata": {},
   "outputs": [],
   "source": []
  }
 ],
 "metadata": {
  "kernelspec": {
   "display_name": "Python 3 (ipykernel)",
   "language": "python",
   "name": "python3"
  },
  "language_info": {
   "codemirror_mode": {
    "name": "ipython",
    "version": 3
   },
   "file_extension": ".py",
   "mimetype": "text/x-python",
   "name": "python",
   "nbconvert_exporter": "python",
   "pygments_lexer": "ipython3",
   "version": "3.9.12"
  }
 },
 "nbformat": 4,
 "nbformat_minor": 5
}
