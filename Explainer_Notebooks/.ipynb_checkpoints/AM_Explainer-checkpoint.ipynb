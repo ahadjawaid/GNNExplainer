{
 "cells": [
  {
   "cell_type": "code",
   "execution_count": 2,
   "id": "83166142",
   "metadata": {},
   "outputs": [],
   "source": [
    "import dgl\n",
    "import dgl.function as fn\n",
    "import torch\n",
    "import dgl.nn as dglnn\n",
    "import torch.nn as nn\n",
    "import torch.nn.functional as F\n",
    "from dgl.data import AMDataset"
   ]
  },
  {
   "cell_type": "code",
   "execution_count": 3,
   "id": "492e5b4b",
   "metadata": {},
   "outputs": [],
   "source": [
    "# Define a Heterograph Conv model\n",
    "\n",
    "class RGCN(nn.Module):\n",
    "    def __init__(self, in_feats, hid_feats, out_feats, rel_names):\n",
    "        super().__init__()\n",
    "\n",
    "        self.conv1 = dglnn.HeteroGraphConv({\n",
    "            rel: dglnn.GraphConv(in_feats, hid_feats)\n",
    "            for rel in rel_names}, aggregate='sum')\n",
    "        self.conv2 = dglnn.HeteroGraphConv({\n",
    "            rel: dglnn.GraphConv(hid_feats, hid_feats)\n",
    "            for rel in rel_names}, aggregate='sum')\n",
    "        self.conv3 = dglnn.HeteroGraphConv({\n",
    "            rel: dglnn.GraphConv(hid_feats, hid_feats)\n",
    "            for rel in rel_names}, aggregate='sum')\n",
    "        self.conv4 = dglnn.HeteroGraphConv({\n",
    "            rel: dglnn.GraphConv(hid_feats, out_feats)\n",
    "            for rel in rel_names}, aggregate='sum')\n",
    "\n",
    "    def forward(self, graph, feat, eweight=None):\n",
    "        # inputs are features of nodes\n",
    "        with graph.local_scope():\n",
    "            feat = self.conv1(graph, feat)\n",
    "            feat = {k: F.relu(v) for k, v in feat.items()}\n",
    "            feat = self.conv2(graph, feat)\n",
    "            feat = {k: F.relu(v) for k, v in feat.items()}\n",
    "            feat = self.conv3(graph, feat)\n",
    "            feat = {k: F.relu(v) for k, v in feat.items()}\n",
    "            feat = self.conv4(graph, feat)\n",
    "            graph.ndata['h'] = feat\n",
    "            if eweight is None:\n",
    "                graph.update_all(fn.copy_u('h', 'm'), fn.sum('m', 'h'))\n",
    "            else:\n",
    "                graph.edata['w'] = eweight\n",
    "                graph.update_all(fn.u_mul_e('h', 'w', 'm'), fn.sum('m', 'h'))\n",
    "            return graph.ndata['h']"
   ]
  },
  {
   "cell_type": "code",
   "execution_count": 4,
   "id": "095e61fc",
   "metadata": {},
   "outputs": [],
   "source": [
    "def train(model, hetero_graph, node_features, epochs, printInterval):\n",
    "    opt = torch.optim.Adam(model.parameters())\n",
    "    train_mask = g.nodes[category].data['train_mask']\n",
    "    test_mask = g.nodes[category].data['test_mask']\n",
    "    labels = g.nodes[category].data['labels']\n",
    "\n",
    "    for epoch in range(epochs):\n",
    "        model.train()\n",
    "        # forward propagation by using all nodes and extracting the user embeddings\n",
    "        logits = model(hetero_graph, node_features)[category]\n",
    "        pred = logits.argmax(1)\n",
    "        # compute loss\n",
    "        loss = F.cross_entropy(logits[train_mask], labels[train_mask])\n",
    "        # Compute validation accuracy.  Omitted in this example.\n",
    "        train_acc = (pred[train_mask] == labels[train_mask]).float().mean()\n",
    "        test_acc = (pred[test_mask] == labels[test_mask]).float().mean()\n",
    "        # backward propagation\n",
    "        opt.zero_grad()\n",
    "        loss.backward()\n",
    "        opt.step()\n",
    "        \n",
    "        if epoch % printInterval == 0:\n",
    "            print('In epoch {}, loss: {:.3f}, train acc: {:.3f}, test acc: {:.3f})'.format(\n",
    "                epoch, loss,train_acc, test_acc))\n",
    "    print('In epoch {}, loss: {:.3f}, train acc: {:.3f}, test acc: {:.3f})'.format(\n",
    "                epoch, loss,train_acc, test_acc))\n"
   ]
  },
  {
   "cell_type": "code",
   "execution_count": 5,
   "id": "8aeb4455",
   "metadata": {},
   "outputs": [
    {
     "name": "stdout",
     "output_type": "stream",
     "text": [
      "Done loading data from cached files.\n"
     ]
    }
   ],
   "source": [
    "dataset = AMDataset()\n",
    "g = dataset[0]"
   ]
  },
  {
   "cell_type": "code",
   "execution_count": 6,
   "id": "5401449e",
   "metadata": {},
   "outputs": [],
   "source": [
    "num_classes = dataset.num_classes\n",
    "category = dataset.predict_category"
   ]
  },
  {
   "cell_type": "code",
   "execution_count": 7,
   "id": "12f06fb3",
   "metadata": {},
   "outputs": [],
   "source": [
    "features = {}\n",
    "for ntype in g.ntypes:\n",
    "    features[ntype] = torch.zeros((g.num_nodes(ntype), 10))"
   ]
  },
  {
   "cell_type": "code",
   "execution_count": 10,
   "id": "c33dac3e",
   "metadata": {},
   "outputs": [
    {
     "name": "stderr",
     "output_type": "stream",
     "text": [
      "/var/folders/hh/qlc29njs1hlbzhf33lpxrnvr0000gn/T/ipykernel_48418/3681616590.py:13: UserWarning: indexing with dtype torch.uint8 is now deprecated, please use a dtype torch.bool instead. (Triggered internally at  /Users/distiller/project/conda/conda-bld/pytorch_1646756029501/work/aten/src/ATen/native/IndexingUtils.h:28.)\n",
      "  loss = F.cross_entropy(logits[train_mask], labels[train_mask])\n",
      "/var/folders/hh/qlc29njs1hlbzhf33lpxrnvr0000gn/T/ipykernel_48418/3681616590.py:15: UserWarning: indexing with dtype torch.uint8 is now deprecated, please use a dtype torch.bool instead. (Triggered internally at  /Users/distiller/project/conda/conda-bld/pytorch_1646756029501/work/aten/src/ATen/native/IndexingUtils.h:28.)\n",
      "  train_acc = (pred[train_mask] == labels[train_mask]).float().mean()\n",
      "/var/folders/hh/qlc29njs1hlbzhf33lpxrnvr0000gn/T/ipykernel_48418/3681616590.py:16: UserWarning: indexing with dtype torch.uint8 is now deprecated, please use a dtype torch.bool instead. (Triggered internally at  /Users/distiller/project/conda/conda-bld/pytorch_1646756029501/work/aten/src/ATen/native/IndexingUtils.h:28.)\n",
      "  test_acc = (pred[test_mask] == labels[test_mask]).float().mean()\n",
      "/Users/tk178/opt/anaconda3/envs/torchenv/lib/python3.9/site-packages/torch/autocast_mode.py:162: UserWarning: User provided device_type of 'cuda', but CUDA is not available. Disabling\n",
      "  warnings.warn('User provided device_type of \\'cuda\\', but CUDA is not available. Disabling')\n",
      "/Users/tk178/opt/anaconda3/envs/torchenv/lib/python3.9/site-packages/torch/autograd/__init__.py:173: UserWarning: indexing with dtype torch.uint8 is now deprecated, please use a dtype torch.bool instead. (Triggered internally at  /Users/distiller/project/conda/conda-bld/pytorch_1646756029501/work/aten/src/ATen/native/IndexingUtils.h:28.)\n",
      "  Variable._execution_engine.run_backward(  # Calls into the C++ engine to run the backward pass\n"
     ]
    },
    {
     "name": "stdout",
     "output_type": "stream",
     "text": [
      "In epoch 0, loss: 2.398, train acc: 0.347, test acc: 0.348)\n",
      "In epoch 1, loss: 2.255, train acc: 0.335, test acc: 0.348)\n",
      "In epoch 1, loss: 2.255, train acc: 0.335, test acc: 0.348)\n"
     ]
    }
   ],
   "source": [
    "model = RGCN(10, 20, num_classes, g.etypes)\n",
    "train(model, g, features, epochs=2, printInterval=1)\n",
    "torch.save(model, 'AM_Trained_Model.pt')"
   ]
  },
  {
   "cell_type": "code",
   "execution_count": 11,
   "id": "dfd4dcaf",
   "metadata": {},
   "outputs": [],
   "source": [
    "from gnnexplainer import HeteroGNNExplainer\n",
    "3\n",
    "explainer = HeteroGNNExplainer(model, 4)"
   ]
  },
  {
   "cell_type": "code",
   "execution_count": null,
   "id": "b458c1b3",
   "metadata": {},
   "outputs": [],
   "source": []
  },
  {
   "cell_type": "code",
   "execution_count": null,
   "id": "51b0cb69",
   "metadata": {},
   "outputs": [],
   "source": []
  },
  {
   "cell_type": "code",
   "execution_count": null,
   "id": "5d6e82c0",
   "metadata": {},
   "outputs": [],
   "source": []
  }
 ],
 "metadata": {
  "kernelspec": {
   "display_name": "Python 3 (ipykernel)",
   "language": "python",
   "name": "python3"
  },
  "language_info": {
   "codemirror_mode": {
    "name": "ipython",
    "version": 3
   },
   "file_extension": ".py",
   "mimetype": "text/x-python",
   "name": "python",
   "nbconvert_exporter": "python",
   "pygments_lexer": "ipython3",
   "version": "3.9.12"
  }
 },
 "nbformat": 4,
 "nbformat_minor": 5
}
