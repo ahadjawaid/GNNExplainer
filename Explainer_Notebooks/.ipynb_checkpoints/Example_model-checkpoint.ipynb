{
 "cells": [
  {
   "cell_type": "code",
   "execution_count": 18,
   "id": "28ae54be",
   "metadata": {},
   "outputs": [
    {
     "name": "stdout",
     "output_type": "stream",
     "text": [
      "Done loading data from cached files.\n"
     ]
    },
    {
     "name": "stderr",
     "output_type": "stream",
     "text": [
      "/var/folders/hh/qlc29njs1hlbzhf33lpxrnvr0000gn/T/ipykernel_53085/1980547607.py:41: UserWarning: indexing with dtype torch.uint8 is now deprecated, please use a dtype torch.bool instead. (Triggered internally at  /Users/distiller/project/conda/conda-bld/pytorch_1646756029501/work/aten/src/ATen/native/IndexingUtils.h:28.)\n",
      "  loss = F.cross_entropy(logits[train_mask], labels[train_mask])\n",
      "Explain node 10: 100%|████████████████████████| 100/100 [00:04<00:00, 24.12it/s]\n"
     ]
    }
   ],
   "source": [
    "import dgl\n",
    "import torch.nn.functional as F\n",
    "import torch.nn as nn\n",
    "import dgl.nn as dglnn\n",
    "from dgl.data import MUTAGDataset\n",
    "# from dgl.nn import HeteroGNNExplainer\n",
    "from gnnexplainer import HeteroGNNExplainer\n",
    "# Load dataset\n",
    "data = MUTAGDataset()\n",
    "g = data[0]\n",
    "predict_ntype = data.predict_category\n",
    "train_mask = g.nodes[predict_ntype].data['train_mask']\n",
    "test_mask = g.nodes[predict_ntype].data['test_mask']\n",
    "labels = g.nodes[predict_ntype].data['labels']\n",
    "features = {}\n",
    "for ntype in g.ntypes:\n",
    "    features[ntype] = torch.zeros((g.num_nodes(ntype), 10))\n",
    "# Define a model\n",
    "class Model(nn.Module):\n",
    "    def __init__(self, in_feats, out_feats, rel_names):\n",
    "        super(Model, self).__init__()\n",
    "        self.conv1 = dglnn.HeteroGraphConv({\n",
    "            rel: dglnn.GraphConv(in_feats, out_feats)\n",
    "            for rel in rel_names}, aggregate='sum')\n",
    "    def forward(self, graph, feat, eweight=None):\n",
    "        with graph.local_scope():\n",
    "            feat = self.conv1(graph, feat)\n",
    "            feat = {k: F.relu(v) for k, v in feat.items()}\n",
    "            graph.ndata['h'] = feat\n",
    "            if eweight is None:\n",
    "                graph.update_all(fn.copy_u('h', 'm'), fn.sum('m', 'h'))\n",
    "            else:\n",
    "                graph.edata['w'] = eweight\n",
    "                graph.update_all(fn.u_mul_e('h', 'w', 'm'), fn.sum('m', 'h'))\n",
    "            return graph.ndata['h']\n",
    "# Train the model\n",
    "model = Model(len(features[predict_ntype][0]), data.num_classes, g.etypes)\n",
    "optimizer = torch.optim.Adam(model.parameters())\n",
    "for epoch in range(10):\n",
    "    logits = model(g, features)[predict_ntype]\n",
    "    loss = F.cross_entropy(logits[train_mask], labels[train_mask])\n",
    "    optimizer.zero_grad()\n",
    "    loss.backward()\n",
    "    optimizer.step()\n",
    "# Explain the prediction for node 10\n",
    "explainer = HeteroGNNExplainer(model, num_hops=8)\n",
    "new_center, sg, feat_mask, edge_mask = explainer.explain_node(predict_ntype, 10, g, features)"
   ]
  },
  {
   "cell_type": "code",
   "execution_count": 19,
   "id": "0dd19ba6",
   "metadata": {},
   "outputs": [
    {
     "data": {
      "text/plain": [
       "tensor([0])"
      ]
     },
     "execution_count": 19,
     "metadata": {},
     "output_type": "execute_result"
    }
   ],
   "source": [
    "new_center"
   ]
  },
  {
   "cell_type": "code",
   "execution_count": 20,
   "id": "bc302cc5",
   "metadata": {},
   "outputs": [
    {
     "data": {
      "text/plain": [
       "10"
      ]
     },
     "execution_count": 20,
     "metadata": {},
     "output_type": "execute_result"
    }
   ],
   "source": [
    "sg.num_edges()"
   ]
  },
  {
   "cell_type": "code",
   "execution_count": 21,
   "id": "c03aab2b",
   "metadata": {},
   "outputs": [
    {
     "data": {
      "text/plain": [
       "{'SCHEMA': tensor([0.2595, 0.2569, 0.2505, 0.2719, 0.2575, 0.2746, 0.2882, 0.2612, 0.2582,\n",
       "         0.2774]),\n",
       " '_Literal': tensor([0.2729, 0.2802, 0.2796, 0.2739, 0.2619, 0.2903, 0.2771, 0.2515, 0.2879,\n",
       "         0.2734]),\n",
       " 'bond': tensor([0.3162, 0.2492, 0.2246, 0.2584, 0.2525, 0.2435, 0.2575, 0.2880, 0.3060,\n",
       "         0.2872]),\n",
       " 'd': tensor([0.2628, 0.2904, 0.2877, 0.2416, 0.2869, 0.2561, 0.2542, 0.2945, 0.2757,\n",
       "         0.2786]),\n",
       " 'hasStructure': tensor([0.2896, 0.2622, 0.2715, 0.3015, 0.2753, 0.2617, 0.2518, 0.2856, 0.2686,\n",
       "         0.2764])}"
      ]
     },
     "execution_count": 21,
     "metadata": {},
     "output_type": "execute_result"
    }
   ],
   "source": [
    "feat_mask"
   ]
  },
  {
   "cell_type": "code",
   "execution_count": null,
   "id": "00f39b56",
   "metadata": {},
   "outputs": [],
   "source": []
  },
  {
   "cell_type": "code",
   "execution_count": null,
   "id": "799f5f6e",
   "metadata": {},
   "outputs": [],
   "source": []
  }
 ],
 "metadata": {
  "kernelspec": {
   "display_name": "Python 3 (ipykernel)",
   "language": "python",
   "name": "python3"
  },
  "language_info": {
   "codemirror_mode": {
    "name": "ipython",
    "version": 3
   },
   "file_extension": ".py",
   "mimetype": "text/x-python",
   "name": "python",
   "nbconvert_exporter": "python",
   "pygments_lexer": "ipython3",
   "version": "3.9.12"
  }
 },
 "nbformat": 4,
 "nbformat_minor": 5
}
