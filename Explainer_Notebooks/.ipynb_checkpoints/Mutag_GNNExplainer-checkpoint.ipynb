{
 "cells": [
  {
   "cell_type": "code",
   "execution_count": 57,
   "id": "b2d2be01",
   "metadata": {},
   "outputs": [],
   "source": [
    "import dgl\n",
    "import dgl.function as fn\n",
    "import torch\n",
    "import torch.nn as nn\n",
    "import dgl.nn as dglnn\n",
    "import torch.nn.functional as F\n",
    "from dgl.data import MUTAGDataset"
   ]
  },
  {
   "cell_type": "code",
   "execution_count": 69,
   "id": "66fd6f9d",
   "metadata": {},
   "outputs": [],
   "source": [
    "# Define a Heterograph Conv model\n",
    "\n",
    "class RGCN(nn.Module):\n",
    "    def __init__(self, in_feats, hid_feats, out_feats, rel_names):\n",
    "        super().__init__()\n",
    "\n",
    "        self.conv1 = dglnn.HeteroGraphConv({\n",
    "            rel: dglnn.GraphConv(in_feats, hid_feats)\n",
    "            for rel in rel_names}, aggregate='sum')\n",
    "        self.conv2 = dglnn.HeteroGraphConv({\n",
    "            rel: dglnn.GraphConv(hid_feats, hid_feats)\n",
    "            for rel in rel_names}, aggregate='sum')\n",
    "        self.conv3 = dglnn.HeteroGraphConv({\n",
    "            rel: dglnn.GraphConv(hid_feats, hid_feats)\n",
    "            for rel in rel_names}, aggregate='sum')\n",
    "        self.conv4 = dglnn.HeteroGraphConv({\n",
    "            rel: dglnn.GraphConv(hid_feats, out_feats)\n",
    "            for rel in rel_names}, aggregate='sum')\n",
    "\n",
    "    def forward(self, graph, feat, eweight=None):\n",
    "        # inputs are features of nodes\n",
    "        with graph.local_scope():\n",
    "            feat = self.conv1(graph, feat)\n",
    "            feat = {k: F.relu(v) for k, v in feat.items()}\n",
    "            feat = self.conv2(graph, feat)\n",
    "            feat = {k: F.relu(v) for k, v in feat.items()}\n",
    "            feat = self.conv3(graph, feat)\n",
    "            feat = {k: F.relu(v) for k, v in feat.items()}\n",
    "            feat = self.conv4(graph, feat)\n",
    "            graph.ndata['h'] = feat\n",
    "            if eweight is None:\n",
    "                graph.update_all(fn.copy_u('h', 'm'), fn.sum('m', 'h'))\n",
    "            else:\n",
    "                graph.edata['w'] = eweight\n",
    "                graph.update_all(fn.u_mul_e('h', 'w', 'm'), fn.sum('m', 'h'))\n",
    "            return graph.ndata['h']"
   ]
  },
  {
   "cell_type": "code",
   "execution_count": 70,
   "id": "1c29eefc",
   "metadata": {},
   "outputs": [],
   "source": [
    "def train(model, g,node_features, category, epochs, printInterval):\n",
    "    opt = torch.optim.Adam(model.parameters())\n",
    "    train_mask = g.nodes[category].data['train_mask']\n",
    "    test_mask = g.nodes[category].data['test_mask']\n",
    "    labels = g.nodes[category].data['labels']\n",
    "\n",
    "    for epoch in range(epochs):\n",
    "        model.train()\n",
    "        # forward propagation by using all nodes and extracting the user embeddings\n",
    "        logits = model(g, node_features)[category]\n",
    "        pred = logits.argmax(1)\n",
    "        # compute loss\n",
    "        loss = F.cross_entropy(logits[train_mask], labels[train_mask])\n",
    "        # Calculate training and test accuracy\n",
    "        train_acc = (pred[train_mask] == labels[train_mask]).float().mean()\n",
    "        test_acc = (pred[test_mask] == labels[test_mask]).float().mean()\n",
    "        # Backward propagation\n",
    "        opt.zero_grad()\n",
    "        loss.backward()\n",
    "        opt.step()\n",
    "        \n",
    "        if epoch % printInterval == 0:\n",
    "            print('In epoch {}, loss: {:.3f}, train acc: {:.3f}, test acc: {:.3f})'.format(\n",
    "                epoch, loss,train_acc, test_acc))\n",
    "    print('In epoch {}, loss: {:.3f}, train acc: {:.3f}, test acc: {:.3f})'.format(\n",
    "                epoch, loss,train_acc, test_acc))\n"
   ]
  },
  {
   "cell_type": "code",
   "execution_count": 71,
   "id": "85e8e5fd",
   "metadata": {},
   "outputs": [
    {
     "name": "stdout",
     "output_type": "stream",
     "text": [
      "Done loading data from cached files.\n"
     ]
    }
   ],
   "source": [
    "data = MUTAGDataset()\n",
    "g = data[0]"
   ]
  },
  {
   "cell_type": "code",
   "execution_count": 72,
   "id": "866a793c",
   "metadata": {},
   "outputs": [],
   "source": [
    "category = data.predict_category\n",
    "num_classes = data.num_classes"
   ]
  },
  {
   "cell_type": "code",
   "execution_count": 73,
   "id": "574fc8e8",
   "metadata": {},
   "outputs": [],
   "source": [
    "features = {}\n",
    "for ntype in g.ntypes:\n",
    "    features[ntype] = torch.zeros((g.num_nodes(ntype), 10))"
   ]
  },
  {
   "cell_type": "code",
   "execution_count": 74,
   "id": "14665b6a",
   "metadata": {},
   "outputs": [],
   "source": [
    "# model = RGCN(10, 20, num_classes, g.etypes)\n",
    "# train(model, g, features, category, 300, 50)\n",
    "# torch.save(model, '../models/Mutag_Trained_Model.pt')"
   ]
  },
  {
   "cell_type": "code",
   "execution_count": 75,
   "id": "28b87b16",
   "metadata": {},
   "outputs": [],
   "source": [
    "model = torch.load(\"../models/Mutag_Trained_Model.pt\")"
   ]
  },
  {
   "cell_type": "code",
   "execution_count": 76,
   "id": "82ba9185",
   "metadata": {},
   "outputs": [
    {
     "name": "stderr",
     "output_type": "stream",
     "text": [
      "Explain node 10:   0%|                                  | 0/100 [00:00<?, ?it/s]/Users/tk178/opt/anaconda3/envs/torchenv/lib/python3.9/site-packages/torch/autocast_mode.py:162: UserWarning: User provided device_type of 'cuda', but CUDA is not available. Disabling\n",
      "  warnings.warn('User provided device_type of \\'cuda\\', but CUDA is not available. Disabling')\n",
      "Explain node 10: 100%|████████████████████████| 100/100 [00:28<00:00,  3.47it/s]\n"
     ]
    }
   ],
   "source": [
    "from gnnexplainer import HeteroGNNExplainer\n",
    "\n",
    "predict_ntype = data.predict_category\n",
    "explainer = HeteroGNNExplainer(model, num_hops=4)\n",
    "new_center, sg, feat_mask, edge_mask = explainer.explain_node(predict_ntype, 10, g, features)"
   ]
  },
  {
   "cell_type": "code",
   "execution_count": null,
   "id": "e6341f4f",
   "metadata": {},
   "outputs": [],
   "source": []
  },
  {
   "cell_type": "code",
   "execution_count": null,
   "id": "d386772c",
   "metadata": {},
   "outputs": [],
   "source": []
  },
  {
   "cell_type": "code",
   "execution_count": null,
   "id": "12e98f64",
   "metadata": {},
   "outputs": [],
   "source": []
  },
  {
   "cell_type": "code",
   "execution_count": null,
   "id": "bab5f3ee",
   "metadata": {},
   "outputs": [],
   "source": []
  }
 ],
 "metadata": {
  "kernelspec": {
   "display_name": "Python 3 (ipykernel)",
   "language": "python",
   "name": "python3"
  },
  "language_info": {
   "codemirror_mode": {
    "name": "ipython",
    "version": 3
   },
   "file_extension": ".py",
   "mimetype": "text/x-python",
   "name": "python",
   "nbconvert_exporter": "python",
   "pygments_lexer": "ipython3",
   "version": "3.9.12"
  }
 },
 "nbformat": 4,
 "nbformat_minor": 5
}
