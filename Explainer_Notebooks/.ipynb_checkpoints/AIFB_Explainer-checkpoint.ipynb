{
 "cells": [
  {
   "cell_type": "code",
   "execution_count": 10,
   "id": "226c7682",
   "metadata": {},
   "outputs": [],
   "source": [
    "from hetro_node_class import RGCN, train\n",
    "import dgl\n",
    "import torch\n",
    "from dgl.data import AIFBDataset"
   ]
  },
  {
   "cell_type": "code",
   "execution_count": 11,
   "id": "2770f7fb",
   "metadata": {},
   "outputs": [
    {
     "name": "stdout",
     "output_type": "stream",
     "text": [
      "Done loading data from cached files.\n"
     ]
    }
   ],
   "source": [
    "data = AIFBDataset()\n",
    "g = data[0]"
   ]
  },
  {
   "cell_type": "code",
   "execution_count": 13,
   "id": "895a950d",
   "metadata": {},
   "outputs": [],
   "source": [
    "predict_ntype = data.predict_category\n",
    "train_mask = g.nodes[predict_ntype].data['train_mask']\n",
    "test_mask = g.nodes[predict_ntype].data['test_mask']\n",
    "labels = g.nodes[predict_ntype].data['labels']\n",
    "features = {}\n",
    "for ntype in g.ntypes:\n",
    "    features[ntype] = torch.zeros((g.num_nodes(ntype), 10))\n",
    "f = features"
   ]
  },
  {
   "cell_type": "code",
   "execution_count": 14,
   "id": "0efdec61",
   "metadata": {},
   "outputs": [
    {
     "name": "stderr",
     "output_type": "stream",
     "text": [
      "/Users/tk178/ml/Explainer_Notebooks/hetro_node_class.py:60: UserWarning: indexing with dtype torch.uint8 is now deprecated, please use a dtype torch.bool instead. (Triggered internally at  /Users/distiller/project/conda/conda-bld/pytorch_1646756029501/work/aten/src/ATen/native/IndexingUtils.h:28.)\n",
      "  loss = F.cross_entropy(logits[train_mask], labels[train_mask])\n",
      "/Users/tk178/ml/Explainer_Notebooks/hetro_node_class.py:62: UserWarning: indexing with dtype torch.uint8 is now deprecated, please use a dtype torch.bool instead. (Triggered internally at  /Users/distiller/project/conda/conda-bld/pytorch_1646756029501/work/aten/src/ATen/native/IndexingUtils.h:28.)\n",
      "  train_acc = (pred[train_mask] == labels[train_mask]).float().mean()\n",
      "/Users/tk178/ml/Explainer_Notebooks/hetro_node_class.py:63: UserWarning: indexing with dtype torch.uint8 is now deprecated, please use a dtype torch.bool instead. (Triggered internally at  /Users/distiller/project/conda/conda-bld/pytorch_1646756029501/work/aten/src/ATen/native/IndexingUtils.h:28.)\n",
      "  test_acc = (pred[test_mask] == labels[test_mask]).float().mean()\n",
      "/Users/tk178/opt/anaconda3/envs/torchenv/lib/python3.9/site-packages/torch/autocast_mode.py:162: UserWarning: User provided device_type of 'cuda', but CUDA is not available. Disabling\n",
      "  warnings.warn('User provided device_type of \\'cuda\\', but CUDA is not available. Disabling')\n",
      "/Users/tk178/opt/anaconda3/envs/torchenv/lib/python3.9/site-packages/torch/autograd/__init__.py:173: UserWarning: indexing with dtype torch.uint8 is now deprecated, please use a dtype torch.bool instead. (Triggered internally at  /Users/distiller/project/conda/conda-bld/pytorch_1646756029501/work/aten/src/ATen/native/IndexingUtils.h:28.)\n",
      "  Variable._execution_engine.run_backward(  # Calls into the C++ engine to run the backward pass\n"
     ]
    },
    {
     "name": "stdout",
     "output_type": "stream",
     "text": [
      "In epoch 0, loss: 1.386, train acc: 0.414, test acc: 0.417)\n",
      "In epoch 25, loss: 1.361, train acc: 0.600, test acc: 0.667)\n",
      "In epoch 50, loss: 1.271, train acc: 0.557, test acc: 0.611)\n",
      "In epoch 75, loss: 1.038, train acc: 0.593, test acc: 0.611)\n",
      "In epoch 99, loss: 1.026, train acc: 0.564, test acc: 0.611)\n"
     ]
    }
   ],
   "source": [
    "model = RGCN(len(features[predict_ntype][0]), 20, data.num_classes, g.etypes)\n",
    "train(model, g, features, predict_ntype, lr=0.01, epochs=10, printInterval=2)\n",
    "torch.save(model, '../models/AIFB_Trained_Model.pt')"
   ]
  },
  {
   "cell_type": "code",
   "execution_count": 15,
   "id": "17a1ffb5",
   "metadata": {},
   "outputs": [],
   "source": [
    "model = torch.load('../models/AIFB_Trained_Model.pt')"
   ]
  },
  {
   "cell_type": "code",
   "execution_count": 16,
   "id": "084d5a78",
   "metadata": {},
   "outputs": [
    {
     "ename": "DGLError",
     "evalue": "[20:54:08] /tmp/dgl_src/src/array/cpu/./spmm.h:133: Check  notnull: indices \nStack trace:\n  [bt] (0) 1   libdgl.dylib                        0x0000000123fcbb2f dmlc::LogMessageFatal::~LogMessageFatal() + 111\n  [bt] (1) 2   libdgl.dylib                        0x00000001242275b9 void dgl::aten::cpu::SpMMSumCsr<long long, float, dgl::aten::cpu::op::CopyLhs<float> >(dgl::BcastOff const&, dgl::aten::CSRMatrix const&, dgl::runtime::NDArray, dgl::runtime::NDArray, dgl::runtime::NDArray) + 441\n  [bt] (2) 3   libdgl.dylib                        0x000000012424e633 void dgl::aten::SpMMCsrHetero<1, long long, 32>(std::__1::basic_string<char, std::__1::char_traits<char>, std::__1::allocator<char> > const&, std::__1::basic_string<char, std::__1::char_traits<char>, std::__1::allocator<char> > const&, dgl::BcastOff const&, std::__1::vector<dgl::aten::CSRMatrix, std::__1::allocator<dgl::aten::CSRMatrix> > const&, std::__1::vector<dgl::runtime::NDArray, std::__1::allocator<dgl::runtime::NDArray> > const&, std::__1::vector<dgl::runtime::NDArray, std::__1::allocator<dgl::runtime::NDArray> > const&, std::__1::vector<dgl::runtime::NDArray, std::__1::allocator<dgl::runtime::NDArray> >*, std::__1::vector<std::__1::vector<dgl::runtime::NDArray, std::__1::allocator<dgl::runtime::NDArray> >, std::__1::allocator<std::__1::vector<dgl::runtime::NDArray, std::__1::allocator<dgl::runtime::NDArray> > > >*, std::__1::vector<unsigned long long, std::__1::allocator<unsigned long long> > const&, std::__1::vector<unsigned long long, std::__1::allocator<unsigned long long> > const&) + 15971\n  [bt] (3) 4   libdgl.dylib                        0x00000001242b3617 dgl::aten::SpMMHetero(std::__1::basic_string<char, std::__1::char_traits<char>, std::__1::allocator<char> > const&, std::__1::basic_string<char, std::__1::char_traits<char>, std::__1::allocator<char> > const&, std::__1::shared_ptr<dgl::BaseHeteroGraph>, std::__1::vector<dgl::runtime::NDArray, std::__1::allocator<dgl::runtime::NDArray> > const&, std::__1::vector<dgl::runtime::NDArray, std::__1::allocator<dgl::runtime::NDArray> > const&, std::__1::vector<dgl::runtime::NDArray, std::__1::allocator<dgl::runtime::NDArray> >*, std::__1::vector<std::__1::vector<dgl::runtime::NDArray, std::__1::allocator<dgl::runtime::NDArray> >, std::__1::allocator<std::__1::vector<dgl::runtime::NDArray, std::__1::allocator<dgl::runtime::NDArray> > > >*) + 4263\n  [bt] (4) 5   libdgl.dylib                        0x00000001242cb359 std::__1::__function::__func<dgl::aten::$_7, std::__1::allocator<dgl::aten::$_7>, void (dgl::runtime::DGLArgs, dgl::runtime::DGLRetValue*)>::operator()(dgl::runtime::DGLArgs&&, dgl::runtime::DGLRetValue*&&) + 4953\n  [bt] (5) 6   libdgl.dylib                        0x00000001243102d6 DGLFuncCall + 70\n  [bt] (6) 7   core.cpython-39-darwin.so           0x000000010c08c2f7 __pyx_f_3dgl_4_ffi_4_cy3_4core_FuncCall(void*, _object*, DGLValue*, int*) + 903\n  [bt] (7) 8   core.cpython-39-darwin.so           0x000000010c0906f4 __pyx_pw_3dgl_4_ffi_4_cy3_4core_12FunctionBase_5__call__(_object*, _object*, _object*) + 52\n  [bt] (8) 9   python3.9                           0x00000001001dda06 _PyObject_MakeTpCall + 134\n\n",
     "output_type": "error",
     "traceback": [
      "\u001b[0;31m---------------------------------------------------------------------------\u001b[0m",
      "\u001b[0;31mDGLError\u001b[0m                                  Traceback (most recent call last)",
      "Input \u001b[0;32mIn [16]\u001b[0m, in \u001b[0;36m<cell line: 4>\u001b[0;34m()\u001b[0m\n\u001b[1;32m      1\u001b[0m \u001b[38;5;28;01mfrom\u001b[39;00m \u001b[38;5;21;01mgnnexplainer\u001b[39;00m \u001b[38;5;28;01mimport\u001b[39;00m HeteroGNNExplainer\n\u001b[1;32m      3\u001b[0m explainer \u001b[38;5;241m=\u001b[39m HeteroGNNExplainer(model, num_hops\u001b[38;5;241m=\u001b[39m\u001b[38;5;241m2\u001b[39m, lr\u001b[38;5;241m=\u001b[39m\u001b[38;5;241m0.01\u001b[39m, num_epochs\u001b[38;5;241m=\u001b[39m\u001b[38;5;241m150\u001b[39m)\n\u001b[0;32m----> 4\u001b[0m new_center, sg, feat_mask, edge_mask \u001b[38;5;241m=\u001b[39m \u001b[43mexplainer\u001b[49m\u001b[38;5;241;43m.\u001b[39;49m\u001b[43mexplain_node\u001b[49m\u001b[43m(\u001b[49m\u001b[43mpredict_ntype\u001b[49m\u001b[43m,\u001b[49m\u001b[43m \u001b[49m\u001b[38;5;241;43m32\u001b[39;49m\u001b[43m,\u001b[49m\u001b[43m \u001b[49m\u001b[43mg\u001b[49m\u001b[43m,\u001b[49m\u001b[43m \u001b[49m\u001b[43mfeatures\u001b[49m\u001b[43m)\u001b[49m\n",
      "File \u001b[0;32m~/ml/Explainer_Notebooks/gnnexplainer.py:688\u001b[0m, in \u001b[0;36mHeteroGNNExplainer.explain_node\u001b[0;34m(self, ntype, node_id, graph, feat, **kwargs)\u001b[0m\n\u001b[1;32m    686\u001b[0m \u001b[38;5;66;03m# Get the initial prediction.\u001b[39;00m\n\u001b[1;32m    687\u001b[0m \u001b[38;5;28;01mwith\u001b[39;00m torch\u001b[38;5;241m.\u001b[39mno_grad():\n\u001b[0;32m--> 688\u001b[0m     logits \u001b[38;5;241m=\u001b[39m \u001b[38;5;28;43mself\u001b[39;49m\u001b[38;5;241;43m.\u001b[39;49m\u001b[43mmodel\u001b[49m\u001b[43m(\u001b[49m\u001b[43msg\u001b[49m\u001b[43m,\u001b[49m\u001b[43m \u001b[49m\u001b[43mfeatures\u001b[49m\u001b[43m,\u001b[49m\u001b[43m \u001b[49m\u001b[38;5;241;43m*\u001b[39;49m\u001b[38;5;241;43m*\u001b[39;49m\u001b[43mkwargs\u001b[49m\u001b[43m)\u001b[49m[ntype]\n\u001b[1;32m    689\u001b[0m     pred_label \u001b[38;5;241m=\u001b[39m logits\u001b[38;5;241m.\u001b[39margmax(dim\u001b[38;5;241m=\u001b[39m\u001b[38;5;241m-\u001b[39m\u001b[38;5;241m1\u001b[39m)\n\u001b[1;32m    691\u001b[0m feat_mask, edge_mask \u001b[38;5;241m=\u001b[39m \u001b[38;5;28mself\u001b[39m\u001b[38;5;241m.\u001b[39m_init_masks(sg, features)\n",
      "File \u001b[0;32m~/opt/anaconda3/envs/torchenv/lib/python3.9/site-packages/torch/nn/modules/module.py:1110\u001b[0m, in \u001b[0;36mModule._call_impl\u001b[0;34m(self, *input, **kwargs)\u001b[0m\n\u001b[1;32m   1106\u001b[0m \u001b[38;5;66;03m# If we don't have any hooks, we want to skip the rest of the logic in\u001b[39;00m\n\u001b[1;32m   1107\u001b[0m \u001b[38;5;66;03m# this function, and just call forward.\u001b[39;00m\n\u001b[1;32m   1108\u001b[0m \u001b[38;5;28;01mif\u001b[39;00m \u001b[38;5;129;01mnot\u001b[39;00m (\u001b[38;5;28mself\u001b[39m\u001b[38;5;241m.\u001b[39m_backward_hooks \u001b[38;5;129;01mor\u001b[39;00m \u001b[38;5;28mself\u001b[39m\u001b[38;5;241m.\u001b[39m_forward_hooks \u001b[38;5;129;01mor\u001b[39;00m \u001b[38;5;28mself\u001b[39m\u001b[38;5;241m.\u001b[39m_forward_pre_hooks \u001b[38;5;129;01mor\u001b[39;00m _global_backward_hooks\n\u001b[1;32m   1109\u001b[0m         \u001b[38;5;129;01mor\u001b[39;00m _global_forward_hooks \u001b[38;5;129;01mor\u001b[39;00m _global_forward_pre_hooks):\n\u001b[0;32m-> 1110\u001b[0m     \u001b[38;5;28;01mreturn\u001b[39;00m \u001b[43mforward_call\u001b[49m\u001b[43m(\u001b[49m\u001b[38;5;241;43m*\u001b[39;49m\u001b[38;5;28;43minput\u001b[39;49m\u001b[43m,\u001b[49m\u001b[43m \u001b[49m\u001b[38;5;241;43m*\u001b[39;49m\u001b[38;5;241;43m*\u001b[39;49m\u001b[43mkwargs\u001b[49m\u001b[43m)\u001b[49m\n\u001b[1;32m   1111\u001b[0m \u001b[38;5;66;03m# Do not call functions when jit is used\u001b[39;00m\n\u001b[1;32m   1112\u001b[0m full_backward_hooks, non_full_backward_hooks \u001b[38;5;241m=\u001b[39m [], []\n",
      "File \u001b[0;32m~/ml/Explainer_Notebooks/hetro_node_class.py:34\u001b[0m, in \u001b[0;36mRGCN.forward\u001b[0;34m(self, graph, feat, eweight)\u001b[0m\n\u001b[1;32m     32\u001b[0m graph\u001b[38;5;241m.\u001b[39mndata[\u001b[38;5;124m'\u001b[39m\u001b[38;5;124mh\u001b[39m\u001b[38;5;124m'\u001b[39m] \u001b[38;5;241m=\u001b[39m feat\n\u001b[1;32m     33\u001b[0m \u001b[38;5;28;01mif\u001b[39;00m eweight \u001b[38;5;129;01mis\u001b[39;00m \u001b[38;5;28;01mNone\u001b[39;00m:\n\u001b[0;32m---> 34\u001b[0m     \u001b[43mgraph\u001b[49m\u001b[38;5;241;43m.\u001b[39;49m\u001b[43mupdate_all\u001b[49m\u001b[43m(\u001b[49m\u001b[43mfn\u001b[49m\u001b[38;5;241;43m.\u001b[39;49m\u001b[43mcopy_u\u001b[49m\u001b[43m(\u001b[49m\u001b[38;5;124;43m'\u001b[39;49m\u001b[38;5;124;43mh\u001b[39;49m\u001b[38;5;124;43m'\u001b[39;49m\u001b[43m,\u001b[49m\u001b[43m \u001b[49m\u001b[38;5;124;43m'\u001b[39;49m\u001b[38;5;124;43mm\u001b[39;49m\u001b[38;5;124;43m'\u001b[39;49m\u001b[43m)\u001b[49m\u001b[43m,\u001b[49m\u001b[43m \u001b[49m\u001b[43mfn\u001b[49m\u001b[38;5;241;43m.\u001b[39;49m\u001b[43msum\u001b[49m\u001b[43m(\u001b[49m\u001b[38;5;124;43m'\u001b[39;49m\u001b[38;5;124;43mm\u001b[39;49m\u001b[38;5;124;43m'\u001b[39;49m\u001b[43m,\u001b[49m\u001b[43m \u001b[49m\u001b[38;5;124;43m'\u001b[39;49m\u001b[38;5;124;43mh\u001b[39;49m\u001b[38;5;124;43m'\u001b[39;49m\u001b[43m)\u001b[49m\u001b[43m)\u001b[49m\n\u001b[1;32m     35\u001b[0m \u001b[38;5;28;01melse\u001b[39;00m:\n\u001b[1;32m     36\u001b[0m     graph\u001b[38;5;241m.\u001b[39medata[\u001b[38;5;124m'\u001b[39m\u001b[38;5;124mw\u001b[39m\u001b[38;5;124m'\u001b[39m] \u001b[38;5;241m=\u001b[39m eweight\n",
      "File \u001b[0;32m~/opt/anaconda3/envs/torchenv/lib/python3.9/site-packages/dgl/heterograph.py:4911\u001b[0m, in \u001b[0;36mDGLHeteroGraph.update_all\u001b[0;34m(self, message_func, reduce_func, apply_node_func, etype)\u001b[0m\n\u001b[1;32m   4907\u001b[0m     \u001b[38;5;28;01mraise\u001b[39;00m \u001b[38;5;167;01mNotImplementedError\u001b[39;00m(\u001b[38;5;124m\"\u001b[39m\u001b[38;5;124mCannot set both intra-type and inter-type reduce \u001b[39m\u001b[38;5;124m\"\u001b[39m\n\u001b[1;32m   4908\u001b[0m                               \u001b[38;5;124m\"\u001b[39m\u001b[38;5;124moperators as \u001b[39m\u001b[38;5;124m'\u001b[39m\u001b[38;5;124mmean\u001b[39m\u001b[38;5;124m'\u001b[39m\u001b[38;5;124m using update_all. Please use \u001b[39m\u001b[38;5;124m\"\u001b[39m\n\u001b[1;32m   4909\u001b[0m                               \u001b[38;5;124m\"\u001b[39m\u001b[38;5;124mmulti_update_all instead.\u001b[39m\u001b[38;5;124m\"\u001b[39m)\n\u001b[1;32m   4910\u001b[0m g \u001b[38;5;241m=\u001b[39m \u001b[38;5;28mself\u001b[39m\n\u001b[0;32m-> 4911\u001b[0m all_out \u001b[38;5;241m=\u001b[39m \u001b[43mcore\u001b[49m\u001b[38;5;241;43m.\u001b[39;49m\u001b[43mmessage_passing\u001b[49m\u001b[43m(\u001b[49m\u001b[43mg\u001b[49m\u001b[43m,\u001b[49m\u001b[43m \u001b[49m\u001b[43mmessage_func\u001b[49m\u001b[43m,\u001b[49m\u001b[43m \u001b[49m\u001b[43mreduce_func\u001b[49m\u001b[43m,\u001b[49m\u001b[43m \u001b[49m\u001b[43mapply_node_func\u001b[49m\u001b[43m)\u001b[49m\n\u001b[1;32m   4912\u001b[0m key \u001b[38;5;241m=\u001b[39m \u001b[38;5;28mlist\u001b[39m(all_out\u001b[38;5;241m.\u001b[39mkeys())[\u001b[38;5;241m0\u001b[39m]\n\u001b[1;32m   4913\u001b[0m out_tensor_tuples \u001b[38;5;241m=\u001b[39m all_out[key]\n",
      "File \u001b[0;32m~/opt/anaconda3/envs/torchenv/lib/python3.9/site-packages/dgl/core.py:357\u001b[0m, in \u001b[0;36mmessage_passing\u001b[0;34m(g, mfunc, rfunc, afunc)\u001b[0m\n\u001b[1;32m    336\u001b[0m \u001b[38;5;124;03m\"\"\"Invoke message passing computation on the whole graph.\u001b[39;00m\n\u001b[1;32m    337\u001b[0m \n\u001b[1;32m    338\u001b[0m \u001b[38;5;124;03mParameters\u001b[39;00m\n\u001b[0;32m   (...)\u001b[0m\n\u001b[1;32m    352\u001b[0m \u001b[38;5;124;03m    Results from the message passing computation.\u001b[39;00m\n\u001b[1;32m    353\u001b[0m \u001b[38;5;124;03m\"\"\"\u001b[39;00m\n\u001b[1;32m    354\u001b[0m \u001b[38;5;28;01mif\u001b[39;00m (is_builtin(mfunc) \u001b[38;5;129;01mand\u001b[39;00m is_builtin(rfunc) \u001b[38;5;129;01mand\u001b[39;00m\n\u001b[1;32m    355\u001b[0m         \u001b[38;5;28mgetattr\u001b[39m(ops, \u001b[38;5;124m'\u001b[39m\u001b[38;5;132;01m{}\u001b[39;00m\u001b[38;5;124m_\u001b[39m\u001b[38;5;132;01m{}\u001b[39;00m\u001b[38;5;124m'\u001b[39m\u001b[38;5;241m.\u001b[39mformat(mfunc\u001b[38;5;241m.\u001b[39mname, rfunc\u001b[38;5;241m.\u001b[39mname), \u001b[38;5;28;01mNone\u001b[39;00m) \u001b[38;5;129;01mis\u001b[39;00m \u001b[38;5;129;01mnot\u001b[39;00m \u001b[38;5;28;01mNone\u001b[39;00m):\n\u001b[1;32m    356\u001b[0m     \u001b[38;5;66;03m# invoke fused message passing\u001b[39;00m\n\u001b[0;32m--> 357\u001b[0m     ndata \u001b[38;5;241m=\u001b[39m \u001b[43minvoke_gspmm\u001b[49m\u001b[43m(\u001b[49m\u001b[43mg\u001b[49m\u001b[43m,\u001b[49m\u001b[43m \u001b[49m\u001b[43mmfunc\u001b[49m\u001b[43m,\u001b[49m\u001b[43m \u001b[49m\u001b[43mrfunc\u001b[49m\u001b[43m)\u001b[49m\n\u001b[1;32m    358\u001b[0m \u001b[38;5;28;01melse\u001b[39;00m:\n\u001b[1;32m    359\u001b[0m     \u001b[38;5;66;03m# invoke message passing in two separate steps\u001b[39;00m\n\u001b[1;32m    360\u001b[0m     \u001b[38;5;66;03m# message phase\u001b[39;00m\n\u001b[1;32m    361\u001b[0m     \u001b[38;5;28;01mif\u001b[39;00m is_builtin(mfunc):\n",
      "File \u001b[0;32m~/opt/anaconda3/envs/torchenv/lib/python3.9/site-packages/dgl/core.py:332\u001b[0m, in \u001b[0;36minvoke_gspmm\u001b[0;34m(graph, mfunc, rfunc, srcdata, dstdata, edata)\u001b[0m\n\u001b[1;32m    330\u001b[0m         \u001b[38;5;28;01melse\u001b[39;00m: \u001b[38;5;66;03m# \"copy_e\"\u001b[39;00m\n\u001b[1;32m    331\u001b[0m             x \u001b[38;5;241m=\u001b[39m data_dict_to_list(graph, x, mfunc, \u001b[38;5;124m'\u001b[39m\u001b[38;5;124me\u001b[39m\u001b[38;5;124m'\u001b[39m)\n\u001b[0;32m--> 332\u001b[0m     z \u001b[38;5;241m=\u001b[39m \u001b[43mop\u001b[49m\u001b[43m(\u001b[49m\u001b[43mgraph\u001b[49m\u001b[43m,\u001b[49m\u001b[43m \u001b[49m\u001b[43mx\u001b[49m\u001b[43m)\u001b[49m\n\u001b[1;32m    333\u001b[0m \u001b[38;5;28;01mreturn\u001b[39;00m {rfunc\u001b[38;5;241m.\u001b[39mout_field : z}\n",
      "File \u001b[0;32m~/opt/anaconda3/envs/torchenv/lib/python3.9/site-packages/dgl/ops/spmm.py:189\u001b[0m, in \u001b[0;36m_gen_copy_reduce_func.<locals>.func\u001b[0;34m(g, x)\u001b[0m\n\u001b[1;32m    187\u001b[0m \u001b[38;5;28;01mdef\u001b[39;00m \u001b[38;5;21mfunc\u001b[39m(g, x):\n\u001b[1;32m    188\u001b[0m     \u001b[38;5;28;01mif\u001b[39;00m binary_op \u001b[38;5;241m==\u001b[39m \u001b[38;5;124m'\u001b[39m\u001b[38;5;124mcopy_u\u001b[39m\u001b[38;5;124m'\u001b[39m:\n\u001b[0;32m--> 189\u001b[0m         \u001b[38;5;28;01mreturn\u001b[39;00m \u001b[43mgspmm\u001b[49m\u001b[43m(\u001b[49m\u001b[43mg\u001b[49m\u001b[43m,\u001b[49m\u001b[43m \u001b[49m\u001b[38;5;124;43m'\u001b[39;49m\u001b[38;5;124;43mcopy_lhs\u001b[39;49m\u001b[38;5;124;43m'\u001b[39;49m\u001b[43m,\u001b[49m\u001b[43m \u001b[49m\u001b[43mreduce_op\u001b[49m\u001b[43m,\u001b[49m\u001b[43m \u001b[49m\u001b[43mx\u001b[49m\u001b[43m,\u001b[49m\u001b[43m \u001b[49m\u001b[38;5;28;43;01mNone\u001b[39;49;00m\u001b[43m)\u001b[49m\n\u001b[1;32m    190\u001b[0m     \u001b[38;5;28;01melse\u001b[39;00m:\n\u001b[1;32m    191\u001b[0m         \u001b[38;5;28;01mreturn\u001b[39;00m gspmm(g, \u001b[38;5;124m'\u001b[39m\u001b[38;5;124mcopy_rhs\u001b[39m\u001b[38;5;124m'\u001b[39m, reduce_op, \u001b[38;5;28;01mNone\u001b[39;00m, x)\n",
      "File \u001b[0;32m~/opt/anaconda3/envs/torchenv/lib/python3.9/site-packages/dgl/ops/spmm.py:84\u001b[0m, in \u001b[0;36mgspmm\u001b[0;34m(g, op, reduce_op, lhs_data, rhs_data)\u001b[0m\n\u001b[1;32m     82\u001b[0m     \u001b[38;5;66;03m# TODO (Israt): Call reshape func\u001b[39;00m\n\u001b[1;32m     83\u001b[0m     lhs_and_rhs_tuple \u001b[38;5;241m=\u001b[39m \u001b[38;5;28mtuple\u001b[39m(\u001b[38;5;28mlist\u001b[39m(lhs_data) \u001b[38;5;241m+\u001b[39m \u001b[38;5;28mlist\u001b[39m(rhs_data))\n\u001b[0;32m---> 84\u001b[0m     ret \u001b[38;5;241m=\u001b[39m \u001b[43mgspmm_internal_hetero\u001b[49m\u001b[43m(\u001b[49m\u001b[43mg\u001b[49m\u001b[38;5;241;43m.\u001b[39;49m\u001b[43m_graph\u001b[49m\u001b[43m,\u001b[49m\u001b[43m \u001b[49m\u001b[43mop\u001b[49m\u001b[43m,\u001b[49m\n\u001b[1;32m     85\u001b[0m \u001b[43m                                \u001b[49m\u001b[38;5;124;43m'\u001b[39;49m\u001b[38;5;124;43msum\u001b[39;49m\u001b[38;5;124;43m'\u001b[39;49m\u001b[43m \u001b[49m\u001b[38;5;28;43;01mif\u001b[39;49;00m\u001b[43m \u001b[49m\u001b[43mreduce_op\u001b[49m\u001b[43m \u001b[49m\u001b[38;5;241;43m==\u001b[39;49m\u001b[43m \u001b[49m\u001b[38;5;124;43m'\u001b[39;49m\u001b[38;5;124;43mmean\u001b[39;49m\u001b[38;5;124;43m'\u001b[39;49m\u001b[43m \u001b[49m\u001b[38;5;28;43;01melse\u001b[39;49;00m\u001b[43m \u001b[49m\u001b[43mreduce_op\u001b[49m\u001b[43m,\u001b[49m\n\u001b[1;32m     86\u001b[0m \u001b[43m                                \u001b[49m\u001b[38;5;28;43mlen\u001b[39;49m\u001b[43m(\u001b[49m\u001b[43mlhs_data\u001b[49m\u001b[43m)\u001b[49m\u001b[43m,\u001b[49m\u001b[43m \u001b[49m\u001b[38;5;241;43m*\u001b[39;49m\u001b[43mlhs_and_rhs_tuple\u001b[49m\u001b[43m)\u001b[49m\n\u001b[1;32m     87\u001b[0m \u001b[38;5;66;03m# TODO (Israt): Add support for 'mean' in heterograph\u001b[39;00m\n\u001b[1;32m     88\u001b[0m \u001b[38;5;66;03m# divide in degrees for mean reducer.\u001b[39;00m\n\u001b[1;32m     89\u001b[0m \u001b[38;5;28;01mif\u001b[39;00m reduce_op \u001b[38;5;241m==\u001b[39m \u001b[38;5;124m'\u001b[39m\u001b[38;5;124mmean\u001b[39m\u001b[38;5;124m'\u001b[39m:\n",
      "File \u001b[0;32m~/opt/anaconda3/envs/torchenv/lib/python3.9/site-packages/dgl/backend/pytorch/sparse.py:780\u001b[0m, in \u001b[0;36mgspmm_hetero\u001b[0;34m(g, op, reduce_op, lhs_len, *lhs_and_rhs_tuple)\u001b[0m\n\u001b[1;32m    778\u001b[0m \u001b[38;5;28;01mif\u001b[39;00m op \u001b[38;5;129;01min\u001b[39;00m [\u001b[38;5;124m'\u001b[39m\u001b[38;5;124madd\u001b[39m\u001b[38;5;124m'\u001b[39m, \u001b[38;5;124m'\u001b[39m\u001b[38;5;124mmul\u001b[39m\u001b[38;5;124m'\u001b[39m]:\n\u001b[1;32m    779\u001b[0m     lhs_and_rhs_tuple \u001b[38;5;241m=\u001b[39m \u001b[38;5;28mtuple\u001b[39m(\u001b[38;5;28mlist\u001b[39m(lhs_tuple) \u001b[38;5;241m+\u001b[39m \u001b[38;5;28mlist\u001b[39m(rhs_tuple))\n\u001b[0;32m--> 780\u001b[0m \u001b[38;5;28;01mreturn\u001b[39;00m \u001b[43mGSpMM_hetero\u001b[49m\u001b[38;5;241;43m.\u001b[39;49m\u001b[43mapply\u001b[49m\u001b[43m(\u001b[49m\u001b[43mg\u001b[49m\u001b[43m,\u001b[49m\u001b[43m \u001b[49m\u001b[43mop\u001b[49m\u001b[43m,\u001b[49m\u001b[43m \u001b[49m\u001b[43mreduce_op\u001b[49m\u001b[43m,\u001b[49m\u001b[43m \u001b[49m\u001b[43mlhs_len\u001b[49m\u001b[43m,\u001b[49m\u001b[43m \u001b[49m\u001b[38;5;241;43m*\u001b[39;49m\u001b[43mlhs_and_rhs_tuple\u001b[49m\u001b[43m)\u001b[49m\n",
      "File \u001b[0;32m~/opt/anaconda3/envs/torchenv/lib/python3.9/site-packages/torch/cuda/amp/autocast_mode.py:118\u001b[0m, in \u001b[0;36mcustom_fwd.<locals>.decorate_fwd\u001b[0;34m(*args, **kwargs)\u001b[0m\n\u001b[1;32m    116\u001b[0m         \u001b[38;5;28;01mreturn\u001b[39;00m fwd(\u001b[38;5;241m*\u001b[39m_cast(args, cast_inputs), \u001b[38;5;241m*\u001b[39m\u001b[38;5;241m*\u001b[39m_cast(kwargs, cast_inputs))\n\u001b[1;32m    117\u001b[0m \u001b[38;5;28;01melse\u001b[39;00m:\n\u001b[0;32m--> 118\u001b[0m     \u001b[38;5;28;01mreturn\u001b[39;00m \u001b[43mfwd\u001b[49m\u001b[43m(\u001b[49m\u001b[38;5;241;43m*\u001b[39;49m\u001b[43margs\u001b[49m\u001b[43m,\u001b[49m\u001b[43m \u001b[49m\u001b[38;5;241;43m*\u001b[39;49m\u001b[38;5;241;43m*\u001b[39;49m\u001b[43mkwargs\u001b[49m\u001b[43m)\u001b[49m\n",
      "File \u001b[0;32m~/opt/anaconda3/envs/torchenv/lib/python3.9/site-packages/dgl/backend/pytorch/sparse.py:200\u001b[0m, in \u001b[0;36mGSpMM_hetero.forward\u001b[0;34m(ctx, gidx, op, reduce_op, X_len, *feats)\u001b[0m\n\u001b[1;32m    197\u001b[0m \u001b[38;5;129m@staticmethod\u001b[39m\n\u001b[1;32m    198\u001b[0m \u001b[38;5;129m@custom_fwd\u001b[39m(cast_inputs\u001b[38;5;241m=\u001b[39mth\u001b[38;5;241m.\u001b[39mfloat16)\n\u001b[1;32m    199\u001b[0m \u001b[38;5;28;01mdef\u001b[39;00m \u001b[38;5;21mforward\u001b[39m(ctx, gidx, op, reduce_op, X_len, \u001b[38;5;241m*\u001b[39mfeats): \u001b[38;5;66;03m# feats = lhs_data + rhs_data\u001b[39;00m\n\u001b[0;32m--> 200\u001b[0m     out, (argX, argY, argX_ntype, argY_etype) \u001b[38;5;241m=\u001b[39m \u001b[43m_gspmm_hetero\u001b[49m\u001b[43m(\u001b[49m\u001b[43mgidx\u001b[49m\u001b[43m,\u001b[49m\u001b[43m \u001b[49m\u001b[43mop\u001b[49m\u001b[43m,\u001b[49m\u001b[43m \u001b[49m\u001b[43mreduce_op\u001b[49m\u001b[43m,\u001b[49m\u001b[43m \u001b[49m\u001b[43mX_len\u001b[49m\u001b[43m,\u001b[49m\u001b[43m \u001b[49m\u001b[43mfeats\u001b[49m\u001b[43m)\u001b[49m\n\u001b[1;32m    201\u001b[0m     X, Y \u001b[38;5;241m=\u001b[39m feats[:X_len], feats[X_len:]\n\u001b[1;32m    202\u001b[0m     \u001b[38;5;66;03m# TODO (Israt): check target to decide src_id/dst_id?\u001b[39;00m\n",
      "File \u001b[0;32m~/opt/anaconda3/envs/torchenv/lib/python3.9/site-packages/dgl/sparse.py:359\u001b[0m, in \u001b[0;36m_gspmm_hetero\u001b[0;34m(gidx, op, reduce_op, u_len, u_and_e_tuple)\u001b[0m\n\u001b[1;32m    356\u001b[0m     list_arg_e_etype_nd[dst_id] \u001b[38;5;241m=\u001b[39m to_dgl_nd_for_write(list_arg_e_etype[dst_id])\n\u001b[1;32m    358\u001b[0m \u001b[38;5;28;01mif\u001b[39;00m gidx\u001b[38;5;241m.\u001b[39mnumber_of_edges(\u001b[38;5;241m0\u001b[39m) \u001b[38;5;241m>\u001b[39m \u001b[38;5;241m0\u001b[39m:\n\u001b[0;32m--> 359\u001b[0m     \u001b[43m_CAPI_DGLKernelSpMMHetero\u001b[49m\u001b[43m(\u001b[49m\u001b[43mgidx\u001b[49m\u001b[43m,\u001b[49m\u001b[43m \u001b[49m\u001b[43mop\u001b[49m\u001b[43m,\u001b[49m\u001b[43m \u001b[49m\u001b[43mreduce_op\u001b[49m\u001b[43m,\u001b[49m\n\u001b[1;32m    360\u001b[0m \u001b[43m                              \u001b[49m\u001b[43m[\u001b[49m\u001b[43mto_dgl_nd\u001b[49m\u001b[43m(\u001b[49m\u001b[43mu_i\u001b[49m\u001b[43m)\u001b[49m\u001b[43m \u001b[49m\u001b[38;5;28;43;01mfor\u001b[39;49;00m\u001b[43m \u001b[49m\u001b[43mu_i\u001b[49m\u001b[43m \u001b[49m\u001b[38;5;129;43;01min\u001b[39;49;00m\u001b[43m \u001b[49m\u001b[43mlist_u\u001b[49m\u001b[43m]\u001b[49m\u001b[43m,\u001b[49m\n\u001b[1;32m    361\u001b[0m \u001b[43m                              \u001b[49m\u001b[43m[\u001b[49m\u001b[43mto_dgl_nd\u001b[49m\u001b[43m(\u001b[49m\u001b[43me_i\u001b[49m\u001b[43m)\u001b[49m\u001b[43m \u001b[49m\u001b[38;5;28;43;01mfor\u001b[39;49;00m\u001b[43m \u001b[49m\u001b[43me_i\u001b[49m\u001b[43m \u001b[49m\u001b[38;5;129;43;01min\u001b[39;49;00m\u001b[43m \u001b[49m\u001b[43mlist_e\u001b[49m\u001b[43m]\u001b[49m\u001b[43m,\u001b[49m\n\u001b[1;32m    362\u001b[0m \u001b[43m                              \u001b[49m\u001b[43m[\u001b[49m\u001b[43mto_dgl_nd_for_write\u001b[49m\u001b[43m(\u001b[49m\u001b[43mv_i\u001b[49m\u001b[43m)\u001b[49m\u001b[43m \u001b[49m\u001b[38;5;28;43;01mfor\u001b[39;49;00m\u001b[43m \u001b[49m\u001b[43mv_i\u001b[49m\u001b[43m \u001b[49m\u001b[38;5;129;43;01min\u001b[39;49;00m\u001b[43m \u001b[49m\u001b[43mlist_v\u001b[49m\u001b[43m]\u001b[49m\u001b[43m,\u001b[49m\n\u001b[1;32m    363\u001b[0m \u001b[43m                              \u001b[49m\u001b[43mlist_arg_u_nd\u001b[49m\u001b[43m,\u001b[49m\u001b[43m \u001b[49m\u001b[43mlist_arg_e_nd\u001b[49m\u001b[43m,\u001b[49m\n\u001b[1;32m    364\u001b[0m \u001b[43m                              \u001b[49m\u001b[43mlist_arg_u_ntype_nd\u001b[49m\u001b[43m,\u001b[49m\u001b[43m \u001b[49m\u001b[43mlist_arg_e_etype_nd\u001b[49m\u001b[43m)\u001b[49m\n\u001b[1;32m    365\u001b[0m \u001b[38;5;28;01mfor\u001b[39;00m l, arg_u_nd \u001b[38;5;129;01min\u001b[39;00m \u001b[38;5;28menumerate\u001b[39m(list_arg_u_nd):\n\u001b[1;32m    366\u001b[0m     \u001b[38;5;66;03m# TODO(Israt): l or src_id as index of lhs\u001b[39;00m\n\u001b[1;32m    367\u001b[0m     list_arg_u[l] \u001b[38;5;241m=\u001b[39m \u001b[38;5;28;01mNone\u001b[39;00m \u001b[38;5;28;01mif\u001b[39;00m list_arg_u[l] \u001b[38;5;129;01mis\u001b[39;00m \u001b[38;5;28;01mNone\u001b[39;00m \u001b[38;5;28;01melse\u001b[39;00m F\u001b[38;5;241m.\u001b[39mzerocopy_from_dgl_ndarray(arg_u_nd)\n",
      "File \u001b[0;32mdgl/_ffi/_cython/./function.pxi:293\u001b[0m, in \u001b[0;36mdgl._ffi._cy3.core.FunctionBase.__call__\u001b[0;34m()\u001b[0m\n",
      "File \u001b[0;32mdgl/_ffi/_cython/./function.pxi:239\u001b[0m, in \u001b[0;36mdgl._ffi._cy3.core.FuncCall\u001b[0;34m()\u001b[0m\n",
      "\u001b[0;31mDGLError\u001b[0m: [20:54:08] /tmp/dgl_src/src/array/cpu/./spmm.h:133: Check  notnull: indices \nStack trace:\n  [bt] (0) 1   libdgl.dylib                        0x0000000123fcbb2f dmlc::LogMessageFatal::~LogMessageFatal() + 111\n  [bt] (1) 2   libdgl.dylib                        0x00000001242275b9 void dgl::aten::cpu::SpMMSumCsr<long long, float, dgl::aten::cpu::op::CopyLhs<float> >(dgl::BcastOff const&, dgl::aten::CSRMatrix const&, dgl::runtime::NDArray, dgl::runtime::NDArray, dgl::runtime::NDArray) + 441\n  [bt] (2) 3   libdgl.dylib                        0x000000012424e633 void dgl::aten::SpMMCsrHetero<1, long long, 32>(std::__1::basic_string<char, std::__1::char_traits<char>, std::__1::allocator<char> > const&, std::__1::basic_string<char, std::__1::char_traits<char>, std::__1::allocator<char> > const&, dgl::BcastOff const&, std::__1::vector<dgl::aten::CSRMatrix, std::__1::allocator<dgl::aten::CSRMatrix> > const&, std::__1::vector<dgl::runtime::NDArray, std::__1::allocator<dgl::runtime::NDArray> > const&, std::__1::vector<dgl::runtime::NDArray, std::__1::allocator<dgl::runtime::NDArray> > const&, std::__1::vector<dgl::runtime::NDArray, std::__1::allocator<dgl::runtime::NDArray> >*, std::__1::vector<std::__1::vector<dgl::runtime::NDArray, std::__1::allocator<dgl::runtime::NDArray> >, std::__1::allocator<std::__1::vector<dgl::runtime::NDArray, std::__1::allocator<dgl::runtime::NDArray> > > >*, std::__1::vector<unsigned long long, std::__1::allocator<unsigned long long> > const&, std::__1::vector<unsigned long long, std::__1::allocator<unsigned long long> > const&) + 15971\n  [bt] (3) 4   libdgl.dylib                        0x00000001242b3617 dgl::aten::SpMMHetero(std::__1::basic_string<char, std::__1::char_traits<char>, std::__1::allocator<char> > const&, std::__1::basic_string<char, std::__1::char_traits<char>, std::__1::allocator<char> > const&, std::__1::shared_ptr<dgl::BaseHeteroGraph>, std::__1::vector<dgl::runtime::NDArray, std::__1::allocator<dgl::runtime::NDArray> > const&, std::__1::vector<dgl::runtime::NDArray, std::__1::allocator<dgl::runtime::NDArray> > const&, std::__1::vector<dgl::runtime::NDArray, std::__1::allocator<dgl::runtime::NDArray> >*, std::__1::vector<std::__1::vector<dgl::runtime::NDArray, std::__1::allocator<dgl::runtime::NDArray> >, std::__1::allocator<std::__1::vector<dgl::runtime::NDArray, std::__1::allocator<dgl::runtime::NDArray> > > >*) + 4263\n  [bt] (4) 5   libdgl.dylib                        0x00000001242cb359 std::__1::__function::__func<dgl::aten::$_7, std::__1::allocator<dgl::aten::$_7>, void (dgl::runtime::DGLArgs, dgl::runtime::DGLRetValue*)>::operator()(dgl::runtime::DGLArgs&&, dgl::runtime::DGLRetValue*&&) + 4953\n  [bt] (5) 6   libdgl.dylib                        0x00000001243102d6 DGLFuncCall + 70\n  [bt] (6) 7   core.cpython-39-darwin.so           0x000000010c08c2f7 __pyx_f_3dgl_4_ffi_4_cy3_4core_FuncCall(void*, _object*, DGLValue*, int*) + 903\n  [bt] (7) 8   core.cpython-39-darwin.so           0x000000010c0906f4 __pyx_pw_3dgl_4_ffi_4_cy3_4core_12FunctionBase_5__call__(_object*, _object*, _object*) + 52\n  [bt] (8) 9   python3.9                           0x00000001001dda06 _PyObject_MakeTpCall + 134\n\n"
     ]
    }
   ],
   "source": [
    "from gnnexplainer import HeteroGNNExplainer\n",
    "\n",
    "explainer = HeteroGNNExplainer(model, num_hops=2, lr=0.01, num_epochs=150)\n",
    "new_center, sg, feat_mask, edge_mask = explainer.explain_node(predict_ntype, 32, g, features)"
   ]
  },
  {
   "cell_type": "code",
   "execution_count": null,
   "id": "d310c7cd",
   "metadata": {},
   "outputs": [],
   "source": []
  },
  {
   "cell_type": "code",
   "execution_count": null,
   "id": "627b580f",
   "metadata": {},
   "outputs": [],
   "source": []
  },
  {
   "cell_type": "code",
   "execution_count": null,
   "id": "74405a5b",
   "metadata": {},
   "outputs": [],
   "source": []
  }
 ],
 "metadata": {
  "kernelspec": {
   "display_name": "Python 3 (ipykernel)",
   "language": "python",
   "name": "python3"
  },
  "language_info": {
   "codemirror_mode": {
    "name": "ipython",
    "version": 3
   },
   "file_extension": ".py",
   "mimetype": "text/x-python",
   "name": "python",
   "nbconvert_exporter": "python",
   "pygments_lexer": "ipython3",
   "version": "3.9.12"
  }
 },
 "nbformat": 4,
 "nbformat_minor": 5
}
