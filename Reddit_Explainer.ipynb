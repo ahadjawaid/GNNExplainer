{
 "cells": [
  {
   "cell_type": "code",
   "execution_count": 37,
   "id": "8b17213f",
   "metadata": {},
   "outputs": [],
   "source": [
    "from node_class_model import Model, train\n",
    "import dgl\n",
    "import torch\n",
    "from dgl.data import RedditDataset\n",
    "from dgl.nn import GNNExplainer\n",
    "import networkx as nx"
   ]
  },
  {
   "cell_type": "code",
   "execution_count": 38,
   "id": "45c417ca",
   "metadata": {},
   "outputs": [],
   "source": [
    "data = RedditDataset()\n",
    "g = data[0]"
   ]
  },
  {
   "cell_type": "code",
   "execution_count": 39,
   "id": "df8d38e9",
   "metadata": {},
   "outputs": [],
   "source": [
    "model = torch.load('./models/Reddit_Trained_Model.pt', map_location=torch.device('cpu'))"
   ]
  },
  {
   "cell_type": "code",
   "execution_count": 61,
   "id": "3e87706f",
   "metadata": {},
   "outputs": [],
   "source": [
    "def displaySG(nodeID):\n",
    "    # Defines explainer model and trains model to explain node\n",
    "    features = g.ndata['feat']\n",
    "    explainer = GNNExplainer(model, num_hops=2, lr=0.001, num_epochs=150)\n",
    "    new_center, sg, feat_mask, edge_mask = explainer.explain_node(nodeID, g, features)\n",
    "    \n",
    "    # Draws sub-graph\n",
    "    nx_G = sg.to_networkx().to_undirected()\n",
    "    # Create Node Color Map\n",
    "    colors = ['azure', 'tan', 'wheat', 'lavender', 'lightskyblue', 'lightsalmon', 'lightgreen', 'thistle', \n",
    "              'slateblue', 'roseybrown', 'plum', 'peru', 'pink', 'palegreen', 'olive', 'moccasin', 'mintcream',\n",
    "              'oldlace', 'linen', 'maroon', 'green', 'yellow', 'blue', 'orange', 'lightyellow', 'lightpink',\n",
    "              'lavenderblush', 'ivory', 'purple', 'violet', 'lightgray', 'darkgreen', 'darkyellow', 'darkblue',\n",
    "              'honeydue', 'darkpurple', 'darkorange', 'coral', 'hotpink', 'gainsboro']\n",
    "    color_map = []\n",
    "    for i, node in enumerate(nx_G):\n",
    "        if node == new_center.numpy()[0]:\n",
    "            color_map.append('gray')\n",
    "        else:\n",
    "            color_map.append(colors[sg.ndata['label'].numpy()[i]])\n",
    "        \n",
    "    # Draw Graph\n",
    "    pos = nx.kamada_kawai_layout(nx_G)\n",
    "    nx.draw_networkx(nx_G, pos, node_color=color_map, with_labels=True)\n",
    "    print(colors[sg.ndata['label'].numpy()[new_center.numpy()[0]]])\n",
    "    \n",
    "    return feat_mask, edge_mask"
   ]
  },
  {
   "cell_type": "code",
   "execution_count": 69,
   "id": "85088a56",
   "metadata": {},
   "outputs": [
    {
     "name": "stderr",
     "output_type": "stream",
     "text": [
      "\n",
      "  0%|                                                   | 0/150 [00:00<?, ?it/s]\u001b[A\n",
      "Explain node {node_id}:   0%|                           | 0/150 [00:00<?, ?it/s]\u001b[A\n",
      "Explain node {node_id}:  18%|███              | 27/150 [00:00<00:00, 269.11it/s]\u001b[A\n",
      "Explain node {node_id}:  47%|████████         | 71/150 [00:00<00:00, 365.11it/s]\u001b[A\n",
      "Explain node {node_id}: 100%|████████████████| 150/150 [00:00<00:00, 400.79it/s]\u001b[A"
     ]
    },
    {
     "name": "stdout",
     "output_type": "stream",
     "text": [
      "yellow\n"
     ]
    },
    {
     "name": "stderr",
     "output_type": "stream",
     "text": [
      "\n"
     ]
    },
    {
     "data": {
      "text/plain": [
       "(tensor(0.6415),\n",
       " tensor([0.6230, 0.5875, 0.3384, 0.6385, 0.4159, 0.4205, 0.3714, 0.3128, 0.5930,\n",
       "         0.7435, 0.6199, 0.6055]))"
      ]
     },
     "execution_count": 69,
     "metadata": {},
     "output_type": "execute_result"
    },
    {
     "data": {
      "image/png": "[encoded data removed]",
      "text/plain": [
       "<Figure size 432x288 with 1 Axes>"
      ]
     },
     "metadata": {},
     "output_type": "display_data"
    }
   ],
   "source": [
    "displaySG(10)"
   ]
  },
  {
   "cell_type": "code",
   "execution_count": 71,
   "id": "69eb7d5e",
   "metadata": {},
   "outputs": [
    {
     "data": {
      "text/plain": [
       "tensor([[-1.6059e-01, -7.6637e-02,  1.1214e+00,  ..., -1.9343e+00,\n",
       "         -1.6794e+00,  6.4439e-01],\n",
       "        [-1.6059e-01, -1.7232e-01, -7.0364e-01,  ..., -9.8743e-01,\n",
       "         -7.9956e-01,  3.6791e-03],\n",
       "        [-1.5508e-01, -1.4541e-01, -7.5313e-01,  ..., -1.7663e+00,\n",
       "         -1.6759e-01, -1.4485e+00],\n",
       "        ...,\n",
       "        [-1.4957e-01, -1.7232e-01, -1.4371e+00,  ..., -4.6292e-01,\n",
       "          1.0051e-01, -2.6023e-01],\n",
       "        [ 4.0104e+00,  1.4380e+01,  1.4166e+00,  ..., -2.6940e-02,\n",
       "          2.0250e-01, -2.3690e-01],\n",
       "        [-1.6059e-01, -1.9325e-01, -6.3091e-01,  ..., -1.2201e+00,\n",
       "         -6.4677e-01, -1.2522e+00]])"
      ]
     },
     "execution_count": 71,
     "metadata": {},
     "output_type": "execute_result"
    }
   ],
   "source": []
  },
  {
   "cell_type": "code",
   "execution_count": 70,
   "id": "76f49a65",
   "metadata": {},
   "outputs": [
    {
     "data": {
      "text/plain": [
       "tensor([22, 22, 22,  ..., 30, 30, 22])"
      ]
     },
     "execution_count": 70,
     "metadata": {},
     "output_type": "execute_result"
    }
   ],
   "source": [
    "g.ndata['label']"
   ]
  },
  {
   "cell_type": "code",
   "execution_count": 72,
   "id": "d5d0a049",
   "metadata": {},
   "outputs": [
    {
     "data": {
      "text/plain": [
       "Graph(num_nodes=232965, num_edges=114615892,\n",
       "      ndata_schemes={'label': Scheme(shape=(), dtype=torch.int64), 'feat': Scheme(shape=(602,), dtype=torch.float32), 'val_mask': Scheme(shape=(), dtype=torch.bool), 'test_mask': Scheme(shape=(), dtype=torch.bool), 'train_mask': Scheme(shape=(), dtype=torch.bool)}\n",
       "      edata_schemes={'__orig__': Scheme(shape=(), dtype=torch.int64)})"
      ]
     },
     "execution_count": 72,
     "metadata": {},
     "output_type": "execute_result"
    }
   ],
   "source": [
    "g"
   ]
  },
  {
   "cell_type": "code",
   "execution_count": null,
   "id": "70738126",
   "metadata": {},
   "outputs": [],
   "source": []
  }
 ],
 "metadata": {
  "kernelspec": {
   "display_name": "Python 3 (ipykernel)",
   "language": "python",
   "name": "python3"
  },
  "language_info": {
   "codemirror_mode": {
    "name": "ipython",
    "version": 3
   },
   "file_extension": ".py",
   "mimetype": "text/x-python",
   "name": "python",
   "nbconvert_exporter": "python",
   "pygments_lexer": "ipython3",
   "version": "3.9.12"
  }
 },
 "nbformat": 4,
 "nbformat_minor": 5
}
