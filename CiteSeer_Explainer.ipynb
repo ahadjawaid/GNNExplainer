{
 "cells": [
  {
   "cell_type": "code",
   "execution_count": 2,
   "id": "0710274a",
   "metadata": {},
   "outputs": [],
   "source": [
    "from node_class_model import Model, train\n",
    "import dgl\n",
    "import torch\n",
    "from dgl.data import CiteseerGraphDataset\n",
    "from dgl.nn import GNNExplainer\n",
    "import networkx as nx"
   ]
  },
  {
   "cell_type": "code",
   "execution_count": 3,
   "id": "20346df9",
   "metadata": {},
   "outputs": [
    {
     "name": "stdout",
     "output_type": "stream",
     "text": [
      "  NumNodes: 3327\n",
      "  NumEdges: 9228\n",
      "  NumFeats: 3703\n",
      "  NumClasses: 6\n",
      "  NumTrainingSamples: 120\n",
      "  NumValidationSamples: 500\n",
      "  NumTestSamples: 1000\n",
      "Done loading data from cached files.\n"
     ]
    }
   ],
   "source": [
    "data = CiteseerGraphDataset()\n",
    "g = data[0]"
   ]
  },
  {
   "cell_type": "code",
   "execution_count": 5,
   "id": "fec951bd",
   "metadata": {},
   "outputs": [],
   "source": [
    "# features = g.ndata['feat']\n",
    "# model = Model(features.shape[1], data.num_classes)\n",
    "# train(model, g, epochs=300, printInterval=10, lr=0.001)\n",
    "# torch.save(model, './models/CiteSeer_Trained_Model.pt')"
   ]
  },
  {
   "cell_type": "code",
   "execution_count": 6,
   "id": "b278f945",
   "metadata": {},
   "outputs": [],
   "source": [
    "model = torch.load('./models/CiteSeer_Trained_Model.pt')"
   ]
  },
  {
   "cell_type": "code",
   "execution_count": 20,
   "id": "02b4b6bd",
   "metadata": {},
   "outputs": [],
   "source": [
    "def displaySG(nodeID):\n",
    "    # Defines explainer model and trains model to explain node\n",
    "    features = g.ndata['feat']\n",
    "    explainer = GNNExplainer(model, num_hops=2, lr=0.001, num_epochs=150)\n",
    "    new_center, sg, feat_mask, edge_mask = explainer.explain_node(nodeID, g, features)\n",
    "    \n",
    "    # Draws sub-graph\n",
    "    nx_G = sg.to_networkx().to_undirected()\n",
    "    # Create Node Color Map\n",
    "    colors = ['azure', 'tan', 'wheat', 'lavender', 'lightskyblue', 'lightsalmon', 'lightgreen', 'thistle', \n",
    "              'slateblue', 'roseybrown', 'plum', 'peru', 'pink', 'palegreen', 'olive', 'moccasin', 'mintcream',\n",
    "              'oldlace', 'linen', 'maroon', 'green', 'yellow', 'blue', 'orange', 'lightyellow', 'lightpink',\n",
    "              'lavenderblush', 'ivory', 'purple', 'violet', 'lightgray', 'darkgreen', 'darkyellow', 'darkblue',\n",
    "              'honeydue', 'darkpurple', 'darkorange', 'coral', 'hotpink', 'gainsboro']\n",
    "    color_map = []\n",
    "    for i, node in enumerate(nx_G):\n",
    "        if node == new_center.numpy()[0]:\n",
    "            color_map.append('gray')\n",
    "        else:\n",
    "            color_map.append(colors[sg.ndata['label'].numpy()[i]])\n",
    "        \n",
    "    # Draw Graph\n",
    "    pos = nx.kamada_kawai_layout(nx_G)\n",
    "    nx.draw_networkx(nx_G, pos, node_color=color_map, with_labels=True)\n",
    "    print(colors[sg.ndata['label'].numpy()[new_center.numpy()[0]]])\n",
    "    \n",
    "    return max(feat_mask), edge_mask"
   ]
  },
  {
   "cell_type": "code",
   "execution_count": 21,
   "id": "0dd9b439",
   "metadata": {},
   "outputs": [
    {
     "name": "stderr",
     "output_type": "stream",
     "text": [
      "Explain node {node_id}: 100%|████████████████| 150/150 [00:00<00:00, 358.36it/s]"
     ]
    },
    {
     "name": "stdout",
     "output_type": "stream",
     "text": [
      "lightskyblue\n"
     ]
    },
    {
     "name": "stderr",
     "output_type": "stream",
     "text": [
      "\n"
     ]
    },
    {
     "data": {
      "text/plain": [
       "(tensor(0.6418),\n",
       " tensor([0.6211, 0.4716, 0.5941, 0.5846, 0.3156, 0.4714, 0.6058, 0.7005, 0.3517,\n",
       "         0.4329, 0.2920, 0.3511, 0.6480, 0.6402, 0.7227, 0.6187, 0.6785, 0.3621,\n",
       "         0.5028, 0.3221, 0.6609, 0.6066]))"
      ]
     },
     "execution_count": 21,
     "metadata": {},
     "output_type": "execute_result"
    },
    {
     "data": {
      "image/png": "[encoded data removed]",
      "text/plain": [
       "<Figure size 432x288 with 1 Axes>"
      ]
     },
     "metadata": {},
     "output_type": "display_data"
    }
   ],
   "source": [
    "displaySG(7)"
   ]
  },
  {
   "cell_type": "code",
   "execution_count": null,
   "id": "13bedc2e",
   "metadata": {},
   "outputs": [],
   "source": []
  }
 ],
 "metadata": {
  "kernelspec": {
   "display_name": "Python 3 (ipykernel)",
   "language": "python",
   "name": "python3"
  },
  "language_info": {
   "codemirror_mode": {
    "name": "ipython",
    "version": 3
   },
   "file_extension": ".py",
   "mimetype": "text/x-python",
   "name": "python",
   "nbconvert_exporter": "python",
   "pygments_lexer": "ipython3",
   "version": "3.9.12"
  }
 },
 "nbformat": 4,
 "nbformat_minor": 5
}
