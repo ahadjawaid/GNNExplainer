{
 "cells": [
  {
   "cell_type": "code",
   "execution_count": 9,
   "id": "83166142",
   "metadata": {},
   "outputs": [],
   "source": [
    "import dgl\n",
    "import dgl.function as fn\n",
    "import torch\n",
    "import dgl.nn as dglnn\n",
    "import torch.nn as nn\n",
    "import torch.nn.functional as F\n",
    "from dgl.data import AMDataset"
   ]
  },
  {
   "cell_type": "code",
   "execution_count": 10,
   "id": "492e5b4b",
   "metadata": {},
   "outputs": [],
   "source": [
    "# Define a Heterograph Conv model\n",
    "\n",
    "class RGCN(nn.Module):\n",
    "    def __init__(self, in_feats, hid_feats, out_feats, rel_names):\n",
    "        super().__init__()\n",
    "\n",
    "        self.conv1 = dglnn.HeteroGraphConv({\n",
    "            rel: dglnn.GraphConv(in_feats, hid_feats)\n",
    "            for rel in rel_names}, aggregate='sum')\n",
    "#         self.conv2 = dglnn.HeteroGraphConv({\n",
    "#             rel: dglnn.GraphConv(hid_feats, hid_feats)\n",
    "#             for rel in rel_names}, aggregate='sum')\n",
    "#         self.conv3 = dglnn.HeteroGraphConv({\n",
    "#             rel: dglnn.GraphConv(hid_feats, hid_feats)\n",
    "#             for rel in rel_names}, aggregate='sum')\n",
    "#         self.conv4 = dglnn.HeteroGraphConv({\n",
    "#             rel: dglnn.GraphConv(hid_feats, out_feats)\n",
    "#             for rel in rel_names}, aggregate='sum')\n",
    "\n",
    "    def forward(self, graph, feat, eweight=None):\n",
    "        # inputs are features of nodes\n",
    "        with graph.local_scope():\n",
    "            feat = self.conv1(graph, feat)\n",
    "            feat = {k: F.relu(v) for k, v in feat.items()}\n",
    "#             feat = self.conv2(graph, feat)\n",
    "#             feat = {k: F.relu(v) for k, v in feat.items()}\n",
    "#             feat = self.conv3(graph, feat)\n",
    "#             feat = {k: F.relu(v) for k, v in feat.items()}\n",
    "#             feat = self.conv4(graph, feat)\n",
    "            graph.ndata['h'] = feat\n",
    "            if eweight is None:\n",
    "                graph.update_all(fn.copy_u('h', 'm'), fn.sum('m', 'h'))\n",
    "            else:\n",
    "                graph.edata['w'] = eweight\n",
    "                graph.update_all(fn.u_mul_e('h', 'w', 'm'), fn.sum('m', 'h'))\n",
    "            return graph.ndata['h']"
   ]
  },
  {
   "cell_type": "code",
   "execution_count": 11,
   "id": "095e61fc",
   "metadata": {},
   "outputs": [],
   "source": [
    "def train(model, hetero_graph, node_features, epochs, printInterval):\n",
    "    opt = torch.optim.Adam(model.parameters())\n",
    "    train_mask = g.nodes[category].data['train_mask']\n",
    "    test_mask = g.nodes[category].data['test_mask']\n",
    "    labels = g.nodes[category].data['labels']\n",
    "\n",
    "    for epoch in range(epochs):\n",
    "        model.train()\n",
    "        # forward propagation by using all nodes and extracting the user embeddings\n",
    "        logits = model(hetero_graph, node_features)[category]\n",
    "        pred = logits.argmax(1)\n",
    "        # compute loss\n",
    "        loss = F.cross_entropy(logits[train_mask], labels[train_mask])\n",
    "        # Compute validation accuracy.  Omitted in this example.\n",
    "        train_acc = (pred[train_mask] == labels[train_mask]).float().mean()\n",
    "        test_acc = (pred[test_mask] == labels[test_mask]).float().mean()\n",
    "        # backward propagation\n",
    "        opt.zero_grad()\n",
    "        loss.backward()\n",
    "        opt.step()\n",
    "        \n",
    "        if epoch % printInterval == 0:\n",
    "            print('In epoch {}, loss: {:.3f}, train acc: {:.3f}, test acc: {:.3f})'.format(\n",
    "                epoch, loss,train_acc, test_acc))\n",
    "    print('In epoch {}, loss: {:.3f}, train acc: {:.3f}, test acc: {:.3f})'.format(\n",
    "                epoch, loss,train_acc, test_acc))\n"
   ]
  },
  {
   "cell_type": "code",
   "execution_count": 12,
   "id": "8aeb4455",
   "metadata": {},
   "outputs": [
    {
     "name": "stdout",
     "output_type": "stream",
     "text": [
      "Done loading data from cached files.\n"
     ]
    }
   ],
   "source": [
    "dataset = AMDataset()\n",
    "g = dataset[0]"
   ]
  },
  {
   "cell_type": "code",
   "execution_count": 13,
   "id": "5401449e",
   "metadata": {},
   "outputs": [],
   "source": [
    "num_classes = dataset.num_classes\n",
    "category = dataset.predict_category"
   ]
  },
  {
   "cell_type": "code",
   "execution_count": 14,
   "id": "12f06fb3",
   "metadata": {},
   "outputs": [],
   "source": [
    "features = {}\n",
    "for ntype in g.ntypes:\n",
    "    features[ntype] = torch.zeros((g.num_nodes(ntype), 10))"
   ]
  },
  {
   "cell_type": "code",
   "execution_count": 15,
   "id": "c33dac3e",
   "metadata": {},
   "outputs": [
    {
     "name": "stderr",
     "output_type": "stream",
     "text": [
      "/var/folders/hh/qlc29njs1hlbzhf33lpxrnvr0000gn/T/ipykernel_6667/3681616590.py:13: UserWarning: indexing with dtype torch.uint8 is now deprecated, please use a dtype torch.bool instead. (Triggered internally at  /Users/distiller/project/conda/conda-bld/pytorch_1646756029501/work/aten/src/ATen/native/IndexingUtils.h:28.)\n",
      "  loss = F.cross_entropy(logits[train_mask], labels[train_mask])\n",
      "/var/folders/hh/qlc29njs1hlbzhf33lpxrnvr0000gn/T/ipykernel_6667/3681616590.py:15: UserWarning: indexing with dtype torch.uint8 is now deprecated, please use a dtype torch.bool instead. (Triggered internally at  /Users/distiller/project/conda/conda-bld/pytorch_1646756029501/work/aten/src/ATen/native/IndexingUtils.h:28.)\n",
      "  train_acc = (pred[train_mask] == labels[train_mask]).float().mean()\n",
      "/var/folders/hh/qlc29njs1hlbzhf33lpxrnvr0000gn/T/ipykernel_6667/3681616590.py:16: UserWarning: indexing with dtype torch.uint8 is now deprecated, please use a dtype torch.bool instead. (Triggered internally at  /Users/distiller/project/conda/conda-bld/pytorch_1646756029501/work/aten/src/ATen/native/IndexingUtils.h:28.)\n",
      "  test_acc = (pred[test_mask] == labels[test_mask]).float().mean()\n"
     ]
    },
    {
     "name": "stdout",
     "output_type": "stream",
     "text": [
      "In epoch 0, loss: 2.996, train acc: 0.347, test acc: 0.348)\n",
      "In epoch 1, loss: 2.996, train acc: 0.347, test acc: 0.348)\n",
      "In epoch 1, loss: 2.996, train acc: 0.347, test acc: 0.348)\n"
     ]
    }
   ],
   "source": [
    "model = RGCN(10, 20, num_classes, g.etypes)\n",
    "train(model, g, features, epochs=2, printInterval=1)\n",
    "torch.save(model, 'AM_Trained_Model.pt')"
   ]
  },
  {
   "cell_type": "code",
   "execution_count": 17,
   "id": "dfd4dcaf",
   "metadata": {},
   "outputs": [
    {
     "name": "stderr",
     "output_type": "stream",
     "text": [
      "Explain node 32: 100%|████████████████████████| 150/150 [00:13<00:00, 11.11it/s]\n"
     ]
    }
   ],
   "source": [
    "from gnnexplainer import HeteroGNNExplainer\n",
    "\n",
    "explainer = HeteroGNNExplainer(model, num_hops=1, lr=0.01, num_epochs=150)\n",
    "new_center, sg, feat_mask, edge_mask = explainer.explain_node(category, 32, g, features)"
   ]
  },
  {
   "cell_type": "code",
   "execution_count": 26,
   "id": "b458c1b3",
   "metadata": {},
   "outputs": [
    {
     "data": {
      "text/plain": [
       "{'TYPE': tensor([0.1979, 0.1968, 0.1828, 0.1847, 0.1761, 0.1910, 0.2116, 0.2108, 0.1597,\n",
       "         0.2061]),\n",
       " '_BNode': tensor([0.1997, 0.1969, 0.2070, 0.1955, 0.1915, 0.1837, 0.1921, 0.2019, 0.1834,\n",
       "         0.2056]),\n",
       " 'aggregation': tensor([0.1956, 0.1971, 0.1883, 0.2087, 0.1977, 0.1782, 0.1929, 0.2099, 0.2100,\n",
       "         0.1964]),\n",
       " 'p': tensor([0.1985, 0.1913, 0.1896, 0.2207, 0.2088, 0.1855, 0.2107, 0.2033, 0.2044,\n",
       "         0.2050]),\n",
       " 'physical': tensor([0.1996, 0.2027, 0.1963, 0.1982, 0.2002, 0.2121, 0.2018, 0.1795, 0.1987,\n",
       "         0.1821]),\n",
       " 'proxy': tensor([0.1954, 0.1960, 0.1966, 0.1810, 0.2008, 0.1999, 0.2007, 0.2011, 0.2108,\n",
       "         0.1814]),\n",
       " 't': tensor([0.1864, 0.1943, 0.2178, 0.1862, 0.2217, 0.1977, 0.1964, 0.1986, 0.1838,\n",
       "         0.1957])}"
      ]
     },
     "execution_count": 26,
     "metadata": {},
     "output_type": "execute_result"
    }
   ],
   "source": [
    "feat_mask"
   ]
  },
  {
   "cell_type": "code",
   "execution_count": 27,
   "id": "51b0cb69",
   "metadata": {},
   "outputs": [
    {
     "data": {
      "text/plain": [
       "{('TYPE', 'rev-dimensionPart', '_BNode'): tensor([]),\n",
       " ('TYPE',\n",
       "  'rev-http://www_w3_org/1999/02/22-rdf-syntax-ns#type',\n",
       "  '_BNode'): tensor([]),\n",
       " ('TYPE',\n",
       "  'rev-http://www_w3_org/1999/02/22-rdf-syntax-ns#type',\n",
       "  'p'): tensor([]),\n",
       " ('TYPE',\n",
       "  'rev-http://www_w3_org/1999/02/22-rdf-syntax-ns#type',\n",
       "  't'): tensor([]),\n",
       " ('TYPE', 'rev-http://www_w3_org/2004/02/skos/core#inScheme', 't'): tensor([]),\n",
       " ('TYPE', 'rev-http://www_w3_org/2004/02/skos/core#narrower', 't'): tensor([]),\n",
       " ('_BNode', 'alternativeNumberInstitution', 't'): tensor([]),\n",
       " ('_BNode', 'currentLocation', 't'): tensor([]),\n",
       " ('_BNode', 'currentLocationFitness', 't'): tensor([]),\n",
       " ('_BNode', 'dimensionNotes', 't'): tensor([]),\n",
       " ('_BNode', 'dimensionPart', 'TYPE'): tensor([]),\n",
       " ('_BNode', 'dimensionPart', 't'): tensor([]),\n",
       " ('_BNode', 'dimensionType', 't'): tensor([]),\n",
       " ('_BNode', 'documentationAuthor', 'p'): tensor([]),\n",
       " ('_BNode', 'documentationTitle', 't'): tensor([]),\n",
       " ('_BNode', 'exhibitionOrganiser', 'p'): tensor([]),\n",
       " ('_BNode', 'exhibitionVenue', 't'): tensor([]),\n",
       " ('_BNode',\n",
       "  'http://www_w3_org/1999/02/22-rdf-syntax-ns#type',\n",
       "  'TYPE'): tensor([]),\n",
       " ('_BNode',\n",
       "  'http://www_w3_org/1999/02/22-rdf-syntax-ns#value',\n",
       "  'p'): tensor([]),\n",
       " ('_BNode', 'reproductionCreator', 'p'): tensor([]),\n",
       " ('_BNode', 'reproductionType', 't'): tensor([]),\n",
       " ('_BNode', 'rev-ahmteksten', 'proxy'): tensor([]),\n",
       " ('_BNode', 'rev-alternativenumber', 'proxy'): tensor([]),\n",
       " ('_BNode', 'rev-dimension', 'proxy'): tensor([0.8930]),\n",
       " ('_BNode', 'rev-documentation', 'proxy'): tensor([]),\n",
       " ('_BNode', 'rev-exhibition', 'proxy'): tensor([0.9287]),\n",
       " ('_BNode',\n",
       "  'rev-http://www_w3_org/2004/02/skos/core#related',\n",
       "  't'): tensor([]),\n",
       " ('_BNode', 'rev-locat', 'proxy'): tensor([0.8884, 0.1107]),\n",
       " ('_BNode', 'rev-maker', 'proxy'): tensor([0.1178]),\n",
       " ('_BNode', 'rev-reproduction', 'proxy'): tensor([0.1128, 0.8926]),\n",
       " ('_BNode', 'rev-termType', 't'): tensor([]),\n",
       " ('_BNode', 'rev-wasPresentAt', 'p'): tensor([]),\n",
       " ('aggregation',\n",
       "  'http://www_europeana_eu/schemas/edm/aggregatedCHO',\n",
       "  'physical'): tensor([0.8965]),\n",
       " ('aggregation',\n",
       "  'http://www_openarchives_org/ore/terms/aggregates',\n",
       "  'physical'): tensor([0.0156]),\n",
       " ('aggregation',\n",
       "  'rev-http://www_openarchives_org/ore/terms/proxyIn',\n",
       "  'proxy'): tensor([0.1106]),\n",
       " ('p', 'http://www_w3_org/1999/02/22-rdf-syntax-ns#type', 'TYPE'): tensor([]),\n",
       " ('p', 'rev-associationPerson', 'proxy'): tensor([]),\n",
       " ('p', 'rev-contentPersonName', 'proxy'): tensor([]),\n",
       " ('p', 'rev-documentationAuthor', '_BNode'): tensor([]),\n",
       " ('p', 'rev-exhibitionOrganiser', '_BNode'): tensor([]),\n",
       " ('p',\n",
       "  'rev-http://www_w3_org/1999/02/22-rdf-syntax-ns#value',\n",
       "  '_BNode'): tensor([]),\n",
       " ('p', 'rev-reproductionCreator', '_BNode'): tensor([]),\n",
       " ('p', 'wasPresentAt', '_BNode'): tensor([]),\n",
       " ('physical',\n",
       "  'rev-http://www_europeana_eu/schemas/edm/aggregatedCHO',\n",
       "  'aggregation'): tensor([0.8921]),\n",
       " ('physical',\n",
       "  'rev-http://www_openarchives_org/ore/terms/aggregates',\n",
       "  'aggregation'): tensor([0.9407]),\n",
       " ('physical',\n",
       "  'rev-http://www_openarchives_org/ore/terms/proxyFor',\n",
       "  'proxy'): tensor([0.0585]),\n",
       " ('proxy', 'acquisitionMethod', 't'): tensor([0.0368]),\n",
       " ('proxy', 'ahmteksten', '_BNode'): tensor([]),\n",
       " ('proxy', 'alternativenumber', '_BNode'): tensor([]),\n",
       " ('proxy', 'associationPerson', 'p'): tensor([]),\n",
       " ('proxy', 'associationSubject', 't'): tensor([]),\n",
       " ('proxy', 'collection', 't'): tensor([]),\n",
       " ('proxy', 'contentMotifGeneral', 't'): tensor([]),\n",
       " ('proxy', 'contentPersonName', 'p'): tensor([]),\n",
       " ('proxy', 'contentSubject', 't'): tensor([]),\n",
       " ('proxy', 'creditLine', 't'): tensor([0.1115]),\n",
       " ('proxy', 'dimension', '_BNode'): tensor([0.0678]),\n",
       " ('proxy', 'documentation', '_BNode'): tensor([]),\n",
       " ('proxy', 'exhibition', '_BNode'): tensor([0.8838]),\n",
       " ('proxy',\n",
       "  'http://www_openarchives_org/ore/terms/proxyFor',\n",
       "  'physical'): tensor([0.9668]),\n",
       " ('proxy',\n",
       "  'http://www_openarchives_org/ore/terms/proxyIn',\n",
       "  'aggregation'): tensor([0.9115]),\n",
       " ('proxy', 'locat', '_BNode'): tensor([0.9479, 0.0998]),\n",
       " ('proxy', 'maker', '_BNode'): tensor([0.0839]),\n",
       " ('proxy', 'objectName', 't'): tensor([0.1167, 0.9677]),\n",
       " ('proxy', 'partOfReference', 'proxy'): tensor([]),\n",
       " ('proxy', 'partsReference', 'proxy'): tensor([]),\n",
       " ('proxy', 'productionPeriod', 't'): tensor([]),\n",
       " ('proxy', 'productionPlace', 't'): tensor([0.8824]),\n",
       " ('proxy', 'relatedObjectReference', 'proxy'): tensor([]),\n",
       " ('proxy', 'reproduction', '_BNode'): tensor([0.9558, 0.1080]),\n",
       " ('proxy', 'rev-partOfReference', 'proxy'): tensor([]),\n",
       " ('proxy', 'rev-partsReference', 'proxy'): tensor([]),\n",
       " ('proxy', 'rev-relatedObjectReference', 'proxy'): tensor([]),\n",
       " ('proxy', 'technique', 't'): tensor([0.8842]),\n",
       " ('t', 'http://www_w3_org/1999/02/22-rdf-syntax-ns#type', 'TYPE'): tensor([]),\n",
       " ('t', 'http://www_w3_org/2004/02/skos/core#broader', 't'): tensor([0.0977]),\n",
       " ('t', 'http://www_w3_org/2004/02/skos/core#exactMatch', 't'): tensor([]),\n",
       " ('t', 'http://www_w3_org/2004/02/skos/core#inScheme', 'TYPE'): tensor([]),\n",
       " ('t', 'http://www_w3_org/2004/02/skos/core#narrower', 'TYPE'): tensor([]),\n",
       " ('t', 'http://www_w3_org/2004/02/skos/core#narrower', 't'): tensor([0.9179]),\n",
       " ('t', 'http://www_w3_org/2004/02/skos/core#related', '_BNode'): tensor([]),\n",
       " ('t', 'http://www_w3_org/2004/02/skos/core#related', 't'): tensor([]),\n",
       " ('t', 'rev-acquisitionMethod', 'proxy'): tensor([0.8874]),\n",
       " ('t', 'rev-alternativeNumberInstitution', '_BNode'): tensor([]),\n",
       " ('t', 'rev-associationSubject', 'proxy'): tensor([]),\n",
       " ('t', 'rev-collection', 'proxy'): tensor([]),\n",
       " ('t', 'rev-contentMotifGeneral', 'proxy'): tensor([]),\n",
       " ('t', 'rev-contentSubject', 'proxy'): tensor([]),\n",
       " ('t', 'rev-creditLine', 'proxy'): tensor([0.9084]),\n",
       " ('t', 'rev-currentLocation', '_BNode'): tensor([]),\n",
       " ('t', 'rev-currentLocationFitness', '_BNode'): tensor([]),\n",
       " ('t', 'rev-dimensionNotes', '_BNode'): tensor([]),\n",
       " ('t', 'rev-dimensionPart', '_BNode'): tensor([]),\n",
       " ('t', 'rev-dimensionType', '_BNode'): tensor([]),\n",
       " ('t', 'rev-documentationTitle', '_BNode'): tensor([]),\n",
       " ('t', 'rev-exhibitionVenue', '_BNode'): tensor([]),\n",
       " ('t',\n",
       "  'rev-http://www_w3_org/2004/02/skos/core#broader',\n",
       "  't'): tensor([0.1048]),\n",
       " ('t', 'rev-http://www_w3_org/2004/02/skos/core#exactMatch', 't'): tensor([]),\n",
       " ('t',\n",
       "  'rev-http://www_w3_org/2004/02/skos/core#narrower',\n",
       "  't'): tensor([0.1114]),\n",
       " ('t', 'rev-http://www_w3_org/2004/02/skos/core#related', 't'): tensor([]),\n",
       " ('t', 'rev-objectName', 'proxy'): tensor([0.0942, 0.0797]),\n",
       " ('t', 'rev-productionPeriod', 'proxy'): tensor([]),\n",
       " ('t', 'rev-productionPlace', 'proxy'): tensor([0.1170]),\n",
       " ('t', 'rev-reproductionType', '_BNode'): tensor([]),\n",
       " ('t', 'rev-technique', 'proxy'): tensor([0.9284]),\n",
       " ('t', 'rev-termType', 't'): tensor([]),\n",
       " ('t', 'termType', '_BNode'): tensor([]),\n",
       " ('t', 'termType', 't'): tensor([])}"
      ]
     },
     "execution_count": 27,
     "metadata": {},
     "output_type": "execute_result"
    }
   ],
   "source": [
    "edge_mask"
   ]
  },
  {
   "cell_type": "code",
   "execution_count": 28,
   "id": "5d6e82c0",
   "metadata": {},
   "outputs": [
    {
     "data": {
      "text/plain": [
       "Graph(num_nodes={'TYPE': 0, '_BNode': 7, 'aggregation': 1, 'p': 0, 'physical': 1, 'proxy': 1, 't': 6},\n",
       "      num_edges={('TYPE', 'rev-dimensionPart', '_BNode'): 0, ('TYPE', 'rev-http://www_w3_org/1999/02/22-rdf-syntax-ns#type', '_BNode'): 0, ('TYPE', 'rev-http://www_w3_org/1999/02/22-rdf-syntax-ns#type', 'p'): 0, ('TYPE', 'rev-http://www_w3_org/1999/02/22-rdf-syntax-ns#type', 't'): 0, ('TYPE', 'rev-http://www_w3_org/2004/02/skos/core#inScheme', 't'): 0, ('TYPE', 'rev-http://www_w3_org/2004/02/skos/core#narrower', 't'): 0, ('_BNode', 'alternativeNumberInstitution', 't'): 0, ('_BNode', 'currentLocation', 't'): 0, ('_BNode', 'currentLocationFitness', 't'): 0, ('_BNode', 'dimensionNotes', 't'): 0, ('_BNode', 'dimensionPart', 'TYPE'): 0, ('_BNode', 'dimensionPart', 't'): 0, ('_BNode', 'dimensionType', 't'): 0, ('_BNode', 'documentationAuthor', 'p'): 0, ('_BNode', 'documentationTitle', 't'): 0, ('_BNode', 'exhibitionOrganiser', 'p'): 0, ('_BNode', 'exhibitionVenue', 't'): 0, ('_BNode', 'http://www_w3_org/1999/02/22-rdf-syntax-ns#type', 'TYPE'): 0, ('_BNode', 'http://www_w3_org/1999/02/22-rdf-syntax-ns#value', 'p'): 0, ('_BNode', 'reproductionCreator', 'p'): 0, ('_BNode', 'reproductionType', 't'): 0, ('_BNode', 'rev-ahmteksten', 'proxy'): 0, ('_BNode', 'rev-alternativenumber', 'proxy'): 0, ('_BNode', 'rev-dimension', 'proxy'): 1, ('_BNode', 'rev-documentation', 'proxy'): 0, ('_BNode', 'rev-exhibition', 'proxy'): 1, ('_BNode', 'rev-http://www_w3_org/2004/02/skos/core#related', 't'): 0, ('_BNode', 'rev-locat', 'proxy'): 2, ('_BNode', 'rev-maker', 'proxy'): 1, ('_BNode', 'rev-reproduction', 'proxy'): 2, ('_BNode', 'rev-termType', 't'): 0, ('_BNode', 'rev-wasPresentAt', 'p'): 0, ('aggregation', 'http://www_europeana_eu/schemas/edm/aggregatedCHO', 'physical'): 1, ('aggregation', 'http://www_openarchives_org/ore/terms/aggregates', 'physical'): 1, ('aggregation', 'rev-http://www_openarchives_org/ore/terms/proxyIn', 'proxy'): 1, ('p', 'http://www_w3_org/1999/02/22-rdf-syntax-ns#type', 'TYPE'): 0, ('p', 'rev-associationPerson', 'proxy'): 0, ('p', 'rev-contentPersonName', 'proxy'): 0, ('p', 'rev-documentationAuthor', '_BNode'): 0, ('p', 'rev-exhibitionOrganiser', '_BNode'): 0, ('p', 'rev-http://www_w3_org/1999/02/22-rdf-syntax-ns#value', '_BNode'): 0, ('p', 'rev-reproductionCreator', '_BNode'): 0, ('p', 'wasPresentAt', '_BNode'): 0, ('physical', 'rev-http://www_europeana_eu/schemas/edm/aggregatedCHO', 'aggregation'): 1, ('physical', 'rev-http://www_openarchives_org/ore/terms/aggregates', 'aggregation'): 1, ('physical', 'rev-http://www_openarchives_org/ore/terms/proxyFor', 'proxy'): 1, ('proxy', 'acquisitionMethod', 't'): 1, ('proxy', 'ahmteksten', '_BNode'): 0, ('proxy', 'alternativenumber', '_BNode'): 0, ('proxy', 'associationPerson', 'p'): 0, ('proxy', 'associationSubject', 't'): 0, ('proxy', 'collection', 't'): 0, ('proxy', 'contentMotifGeneral', 't'): 0, ('proxy', 'contentPersonName', 'p'): 0, ('proxy', 'contentSubject', 't'): 0, ('proxy', 'creditLine', 't'): 1, ('proxy', 'dimension', '_BNode'): 1, ('proxy', 'documentation', '_BNode'): 0, ('proxy', 'exhibition', '_BNode'): 1, ('proxy', 'http://www_openarchives_org/ore/terms/proxyFor', 'physical'): 1, ('proxy', 'http://www_openarchives_org/ore/terms/proxyIn', 'aggregation'): 1, ('proxy', 'locat', '_BNode'): 2, ('proxy', 'maker', '_BNode'): 1, ('proxy', 'objectName', 't'): 2, ('proxy', 'partOfReference', 'proxy'): 0, ('proxy', 'partsReference', 'proxy'): 0, ('proxy', 'productionPeriod', 't'): 0, ('proxy', 'productionPlace', 't'): 1, ('proxy', 'relatedObjectReference', 'proxy'): 0, ('proxy', 'reproduction', '_BNode'): 2, ('proxy', 'rev-partOfReference', 'proxy'): 0, ('proxy', 'rev-partsReference', 'proxy'): 0, ('proxy', 'rev-relatedObjectReference', 'proxy'): 0, ('proxy', 'technique', 't'): 1, ('t', 'http://www_w3_org/1999/02/22-rdf-syntax-ns#type', 'TYPE'): 0, ('t', 'http://www_w3_org/2004/02/skos/core#broader', 't'): 1, ('t', 'http://www_w3_org/2004/02/skos/core#exactMatch', 't'): 0, ('t', 'http://www_w3_org/2004/02/skos/core#inScheme', 'TYPE'): 0, ('t', 'http://www_w3_org/2004/02/skos/core#narrower', 'TYPE'): 0, ('t', 'http://www_w3_org/2004/02/skos/core#narrower', 't'): 1, ('t', 'http://www_w3_org/2004/02/skos/core#related', '_BNode'): 0, ('t', 'http://www_w3_org/2004/02/skos/core#related', 't'): 0, ('t', 'rev-acquisitionMethod', 'proxy'): 1, ('t', 'rev-alternativeNumberInstitution', '_BNode'): 0, ('t', 'rev-associationSubject', 'proxy'): 0, ('t', 'rev-collection', 'proxy'): 0, ('t', 'rev-contentMotifGeneral', 'proxy'): 0, ('t', 'rev-contentSubject', 'proxy'): 0, ('t', 'rev-creditLine', 'proxy'): 1, ('t', 'rev-currentLocation', '_BNode'): 0, ('t', 'rev-currentLocationFitness', '_BNode'): 0, ('t', 'rev-dimensionNotes', '_BNode'): 0, ('t', 'rev-dimensionPart', '_BNode'): 0, ('t', 'rev-dimensionType', '_BNode'): 0, ('t', 'rev-documentationTitle', '_BNode'): 0, ('t', 'rev-exhibitionVenue', '_BNode'): 0, ('t', 'rev-http://www_w3_org/2004/02/skos/core#broader', 't'): 1, ('t', 'rev-http://www_w3_org/2004/02/skos/core#exactMatch', 't'): 0, ('t', 'rev-http://www_w3_org/2004/02/skos/core#narrower', 't'): 1, ('t', 'rev-http://www_w3_org/2004/02/skos/core#related', 't'): 0, ('t', 'rev-objectName', 'proxy'): 2, ('t', 'rev-productionPeriod', 'proxy'): 0, ('t', 'rev-productionPlace', 'proxy'): 1, ('t', 'rev-reproductionType', '_BNode'): 0, ('t', 'rev-technique', 'proxy'): 1, ('t', 'rev-termType', 't'): 0, ('t', 'termType', '_BNode'): 0, ('t', 'termType', 't'): 0},\n",
       "      metagraph=[('TYPE', '_BNode', 'rev-dimensionPart'), ('TYPE', '_BNode', 'rev-http://www_w3_org/1999/02/22-rdf-syntax-ns#type'), ('TYPE', 'p', 'rev-http://www_w3_org/1999/02/22-rdf-syntax-ns#type'), ('TYPE', 't', 'rev-http://www_w3_org/1999/02/22-rdf-syntax-ns#type'), ('TYPE', 't', 'rev-http://www_w3_org/2004/02/skos/core#inScheme'), ('TYPE', 't', 'rev-http://www_w3_org/2004/02/skos/core#narrower'), ('_BNode', 't', 'alternativeNumberInstitution'), ('_BNode', 't', 'currentLocation'), ('_BNode', 't', 'currentLocationFitness'), ('_BNode', 't', 'dimensionNotes'), ('_BNode', 't', 'dimensionPart'), ('_BNode', 't', 'dimensionType'), ('_BNode', 't', 'documentationTitle'), ('_BNode', 't', 'exhibitionVenue'), ('_BNode', 't', 'reproductionType'), ('_BNode', 't', 'rev-http://www_w3_org/2004/02/skos/core#related'), ('_BNode', 't', 'rev-termType'), ('_BNode', 'TYPE', 'dimensionPart'), ('_BNode', 'TYPE', 'http://www_w3_org/1999/02/22-rdf-syntax-ns#type'), ('_BNode', 'p', 'documentationAuthor'), ('_BNode', 'p', 'exhibitionOrganiser'), ('_BNode', 'p', 'http://www_w3_org/1999/02/22-rdf-syntax-ns#value'), ('_BNode', 'p', 'reproductionCreator'), ('_BNode', 'p', 'rev-wasPresentAt'), ('_BNode', 'proxy', 'rev-ahmteksten'), ('_BNode', 'proxy', 'rev-alternativenumber'), ('_BNode', 'proxy', 'rev-dimension'), ('_BNode', 'proxy', 'rev-documentation'), ('_BNode', 'proxy', 'rev-exhibition'), ('_BNode', 'proxy', 'rev-locat'), ('_BNode', 'proxy', 'rev-maker'), ('_BNode', 'proxy', 'rev-reproduction'), ('p', 'TYPE', 'http://www_w3_org/1999/02/22-rdf-syntax-ns#type'), ('p', 'proxy', 'rev-associationPerson'), ('p', 'proxy', 'rev-contentPersonName'), ('p', '_BNode', 'rev-documentationAuthor'), ('p', '_BNode', 'rev-exhibitionOrganiser'), ('p', '_BNode', 'rev-http://www_w3_org/1999/02/22-rdf-syntax-ns#value'), ('p', '_BNode', 'rev-reproductionCreator'), ('p', '_BNode', 'wasPresentAt'), ('t', 'TYPE', 'http://www_w3_org/1999/02/22-rdf-syntax-ns#type'), ('t', 'TYPE', 'http://www_w3_org/2004/02/skos/core#inScheme'), ('t', 'TYPE', 'http://www_w3_org/2004/02/skos/core#narrower'), ('t', 't', 'http://www_w3_org/2004/02/skos/core#broader'), ('t', 't', 'http://www_w3_org/2004/02/skos/core#exactMatch'), ('t', 't', 'http://www_w3_org/2004/02/skos/core#narrower'), ('t', 't', 'http://www_w3_org/2004/02/skos/core#related'), ('t', 't', 'rev-http://www_w3_org/2004/02/skos/core#broader'), ('t', 't', 'rev-http://www_w3_org/2004/02/skos/core#exactMatch'), ('t', 't', 'rev-http://www_w3_org/2004/02/skos/core#narrower'), ('t', 't', 'rev-http://www_w3_org/2004/02/skos/core#related'), ('t', 't', 'rev-termType'), ('t', 't', 'termType'), ('t', '_BNode', 'http://www_w3_org/2004/02/skos/core#related'), ('t', '_BNode', 'rev-alternativeNumberInstitution'), ('t', '_BNode', 'rev-currentLocation'), ('t', '_BNode', 'rev-currentLocationFitness'), ('t', '_BNode', 'rev-dimensionNotes'), ('t', '_BNode', 'rev-dimensionPart'), ('t', '_BNode', 'rev-dimensionType'), ('t', '_BNode', 'rev-documentationTitle'), ('t', '_BNode', 'rev-exhibitionVenue'), ('t', '_BNode', 'rev-reproductionType'), ('t', '_BNode', 'termType'), ('t', 'proxy', 'rev-acquisitionMethod'), ('t', 'proxy', 'rev-associationSubject'), ('t', 'proxy', 'rev-collection'), ('t', 'proxy', 'rev-contentMotifGeneral'), ('t', 'proxy', 'rev-contentSubject'), ('t', 'proxy', 'rev-creditLine'), ('t', 'proxy', 'rev-objectName'), ('t', 'proxy', 'rev-productionPeriod'), ('t', 'proxy', 'rev-productionPlace'), ('t', 'proxy', 'rev-technique'), ('proxy', 't', 'acquisitionMethod'), ('proxy', 't', 'associationSubject'), ('proxy', 't', 'collection'), ('proxy', 't', 'contentMotifGeneral'), ('proxy', 't', 'contentSubject'), ('proxy', 't', 'creditLine'), ('proxy', 't', 'objectName'), ('proxy', 't', 'productionPeriod'), ('proxy', 't', 'productionPlace'), ('proxy', 't', 'technique'), ('proxy', '_BNode', 'ahmteksten'), ('proxy', '_BNode', 'alternativenumber'), ('proxy', '_BNode', 'dimension'), ('proxy', '_BNode', 'documentation'), ('proxy', '_BNode', 'exhibition'), ('proxy', '_BNode', 'locat'), ('proxy', '_BNode', 'maker'), ('proxy', '_BNode', 'reproduction'), ('proxy', 'p', 'associationPerson'), ('proxy', 'p', 'contentPersonName'), ('proxy', 'physical', 'http://www_openarchives_org/ore/terms/proxyFor'), ('proxy', 'aggregation', 'http://www_openarchives_org/ore/terms/proxyIn'), ('proxy', 'proxy', 'partOfReference'), ('proxy', 'proxy', 'partsReference'), ('proxy', 'proxy', 'relatedObjectReference'), ('proxy', 'proxy', 'rev-partOfReference'), ('proxy', 'proxy', 'rev-partsReference'), ('proxy', 'proxy', 'rev-relatedObjectReference'), ('aggregation', 'physical', 'http://www_europeana_eu/schemas/edm/aggregatedCHO'), ('aggregation', 'physical', 'http://www_openarchives_org/ore/terms/aggregates'), ('aggregation', 'proxy', 'rev-http://www_openarchives_org/ore/terms/proxyIn'), ('physical', 'aggregation', 'rev-http://www_europeana_eu/schemas/edm/aggregatedCHO'), ('physical', 'aggregation', 'rev-http://www_openarchives_org/ore/terms/aggregates'), ('physical', 'proxy', 'rev-http://www_openarchives_org/ore/terms/proxyFor')])"
      ]
     },
     "execution_count": 28,
     "metadata": {},
     "output_type": "execute_result"
    }
   ],
   "source": [
    "sg"
   ]
  },
  {
   "cell_type": "code",
   "execution_count": null,
   "id": "cfadae74",
   "metadata": {},
   "outputs": [],
   "source": []
  }
 ],
 "metadata": {
  "kernelspec": {
   "display_name": "Python 3 (ipykernel)",
   "language": "python",
   "name": "python3"
  },
  "language_info": {
   "codemirror_mode": {
    "name": "ipython",
    "version": 3
   },
   "file_extension": ".py",
   "mimetype": "text/x-python",
   "name": "python",
   "nbconvert_exporter": "python",
   "pygments_lexer": "ipython3",
   "version": "3.9.12"
  }
 },
 "nbformat": 4,
 "nbformat_minor": 5
}
