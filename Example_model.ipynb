{
 "cells": [
  {
   "cell_type": "code",
   "execution_count": 16,
   "id": "28ae54be",
   "metadata": {},
   "outputs": [
    {
     "name": "stdout",
     "output_type": "stream",
     "text": [
      "Done loading data from cached files.\n"
     ]
    },
    {
     "name": "stderr",
     "output_type": "stream",
     "text": [
      "/var/folders/hh/qlc29njs1hlbzhf33lpxrnvr0000gn/T/ipykernel_11512/3366345599.py:43: UserWarning: indexing with dtype torch.uint8 is now deprecated, please use a dtype torch.bool instead. (Triggered internally at  /Users/distiller/project/conda/conda-bld/pytorch_1646756029501/work/aten/src/ATen/native/IndexingUtils.h:28.)\n",
      "  loss = F.cross_entropy(logits[train_mask], labels[train_mask])\n",
      "Explain node 23: 100%|████████████████████████| 100/100 [00:04<00:00, 24.30it/s]\n"
     ]
    }
   ],
   "source": [
    "import dgl\n",
    "import torch.nn.functional as F\n",
    "import torch\n",
    "import dgl.function as fn\n",
    "import torch.nn as nn\n",
    "import dgl.nn as dglnn\n",
    "from dgl.data import MUTAGDataset\n",
    "# from dgl.nn import HeteroGNNExplainer\n",
    "from gnnexplainer import HeteroGNNExplainer\n",
    "# Load dataset\n",
    "data = MUTAGDataset()\n",
    "g = data[0]\n",
    "predict_ntype = data.predict_category\n",
    "train_mask = g.nodes[predict_ntype].data['train_mask']\n",
    "test_mask = g.nodes[predict_ntype].data['test_mask']\n",
    "labels = g.nodes[predict_ntype].data['labels']\n",
    "features = {}\n",
    "for ntype in g.ntypes:\n",
    "    features[ntype] = torch.zeros((g.num_nodes(ntype), 10))\n",
    "# Define a model\n",
    "class Model(nn.Module):\n",
    "    def __init__(self, in_feats, out_feats, rel_names):\n",
    "        super(Model, self).__init__()\n",
    "        self.conv1 = dglnn.HeteroGraphConv({\n",
    "            rel: dglnn.GraphConv(in_feats, out_feats)\n",
    "            for rel in rel_names}, aggregate='sum')\n",
    "    def forward(self, graph, feat, eweight=None):\n",
    "        with graph.local_scope():\n",
    "            feat = self.conv1(graph, feat)\n",
    "            feat = {k: F.relu(v) for k, v in feat.items()}\n",
    "            graph.ndata['h'] = feat\n",
    "            if eweight is None:\n",
    "                graph.update_all(fn.copy_u('h', 'm'), fn.sum('m', 'h'))\n",
    "            else:\n",
    "                graph.edata['w'] = eweight\n",
    "                graph.update_all(fn.u_mul_e('h', 'w', 'm'), fn.sum('m', 'h'))\n",
    "            return graph.ndata['h']\n",
    "# Train the model\n",
    "model = Model(len(features[predict_ntype][0]), data.num_classes, g.etypes)\n",
    "optimizer = torch.optim.Adam(model.parameters())\n",
    "for epoch in range(10):\n",
    "    logits = model(g, features)[predict_ntype]\n",
    "    loss = F.cross_entropy(logits[train_mask], labels[train_mask])\n",
    "    optimizer.zero_grad()\n",
    "    loss.backward()\n",
    "    optimizer.step()\n",
    "# Explain the prediction for node 10\n",
    "explainer = HeteroGNNExplainer(model, num_hops=1)\n",
    "new_center, sg, feat_mask, edge_mask = explainer.explain_node(predict_ntype, 23, g, features)"
   ]
  },
  {
   "cell_type": "code",
   "execution_count": 17,
   "id": "0dd19ba6",
   "metadata": {},
   "outputs": [
    {
     "data": {
      "text/plain": [
       "tensor([0])"
      ]
     },
     "execution_count": 17,
     "metadata": {},
     "output_type": "execute_result"
    }
   ],
   "source": [
    "new_center"
   ]
  },
  {
   "cell_type": "code",
   "execution_count": 18,
   "id": "bc302cc5",
   "metadata": {},
   "outputs": [
    {
     "data": {
      "text/plain": [
       "5"
      ]
     },
     "execution_count": 18,
     "metadata": {},
     "output_type": "execute_result"
    }
   ],
   "source": [
    "sg.num_nodes()"
   ]
  },
  {
   "cell_type": "code",
   "execution_count": 19,
   "id": "c03aab2b",
   "metadata": {},
   "outputs": [
    {
     "data": {
      "text/plain": [
       "{'SCHEMA': tensor([0.2978, 0.2735, 0.2618, 0.2601, 0.2320, 0.2645, 0.2795, 0.2812, 0.2774,\n",
       "         0.2777]),\n",
       " '_Literal': tensor([0.2591, 0.2965, 0.2651, 0.3066, 0.2702, 0.2980, 0.3261, 0.3015, 0.2642,\n",
       "         0.2909]),\n",
       " 'bond': tensor([0.2386, 0.2759, 0.2739, 0.2762, 0.2892, 0.2817, 0.2889, 0.2984, 0.2520,\n",
       "         0.2521]),\n",
       " 'd': tensor([0.3003, 0.2939, 0.2714, 0.2745, 0.2751, 0.2384, 0.3025, 0.2379, 0.3005,\n",
       "         0.2823]),\n",
       " 'hasStructure': tensor([0.2902, 0.2823, 0.2649, 0.2675, 0.2985, 0.2650, 0.2838, 0.2440, 0.3224,\n",
       "         0.2721])}"
      ]
     },
     "execution_count": 19,
     "metadata": {},
     "output_type": "execute_result"
    }
   ],
   "source": [
    "feat_mask"
   ]
  },
  {
   "cell_type": "code",
   "execution_count": 20,
   "id": "00f39b56",
   "metadata": {},
   "outputs": [
    {
     "data": {
      "text/plain": [
       "{('SCHEMA', '22-rdf-syntax-ns#type', 'SCHEMA'): tensor([]),\n",
       " ('SCHEMA', 'owl#disjointWith', 'SCHEMA'): tensor([]),\n",
       " ('SCHEMA', 'rdf-schema#domain', 'SCHEMA'): tensor([]),\n",
       " ('SCHEMA', 'rdf-schema#range', 'SCHEMA'): tensor([]),\n",
       " ('SCHEMA', 'rdf-schema#subClassOf', 'SCHEMA'): tensor([]),\n",
       " ('SCHEMA', 'rev-22-rdf-syntax-ns#type', 'SCHEMA'): tensor([]),\n",
       " ('SCHEMA', 'rev-22-rdf-syntax-ns#type', 'bond'): tensor([]),\n",
       " ('SCHEMA', 'rev-22-rdf-syntax-ns#type', 'd'): tensor([0.1438]),\n",
       " ('SCHEMA', 'rev-owl#disjointWith', 'SCHEMA'): tensor([]),\n",
       " ('SCHEMA', 'rev-rdf-schema#domain', 'SCHEMA'): tensor([]),\n",
       " ('SCHEMA', 'rev-rdf-schema#range', 'SCHEMA'): tensor([]),\n",
       " ('SCHEMA', 'rev-rdf-schema#subClassOf', 'SCHEMA'): tensor([]),\n",
       " ('_Literal', 'rev-amesTestPositive', 'd'): tensor([]),\n",
       " ('_Literal', 'rev-charge', 'd'): tensor([0.0960]),\n",
       " ('_Literal', 'rev-chromaberr', 'd'): tensor([]),\n",
       " ('_Literal', 'rev-chromex', 'd'): tensor([]),\n",
       " ('_Literal', 'rev-cytogen_ca', 'd'): tensor([]),\n",
       " ('_Literal', 'rev-cytogen_sce', 'd'): tensor([]),\n",
       " ('_Literal', 'rev-drosophila_rt', 'd'): tensor([]),\n",
       " ('_Literal', 'rev-drosophila_slrl', 'd'): tensor([]),\n",
       " ('_Literal', 'rev-micronuc_f', 'd'): tensor([]),\n",
       " ('_Literal', 'rev-micronuc_m', 'd'): tensor([]),\n",
       " ('_Literal', 'rev-mouse_lymph', 'd'): tensor([]),\n",
       " ('_Literal', 'rev-salmonella', 'd'): tensor([]),\n",
       " ('_Literal', 'rev-salmonella_n', 'd'): tensor([]),\n",
       " ('_Literal', 'rev-salmonella_reduc', 'd'): tensor([]),\n",
       " ('bond', '22-rdf-syntax-ns#type', 'SCHEMA'): tensor([]),\n",
       " ('bond', 'inBond', 'd'): tensor([0.9240]),\n",
       " ('bond', 'rev-hasBond', 'd'): tensor([0.8225]),\n",
       " ('d', '22-rdf-syntax-ns#type', 'SCHEMA'): tensor([0.1713]),\n",
       " ('d', 'amesTestPositive', '_Literal'): tensor([]),\n",
       " ('d', 'charge', '_Literal'): tensor([0.2091]),\n",
       " ('d', 'chromaberr', '_Literal'): tensor([]),\n",
       " ('d', 'chromex', '_Literal'): tensor([]),\n",
       " ('d', 'cytogen_ca', '_Literal'): tensor([]),\n",
       " ('d', 'cytogen_sce', '_Literal'): tensor([]),\n",
       " ('d', 'drosophila_rt', '_Literal'): tensor([]),\n",
       " ('d', 'drosophila_slrl', '_Literal'): tensor([]),\n",
       " ('d', 'hasAtom', 'd'): tensor([0.8009]),\n",
       " ('d', 'hasBond', 'bond'): tensor([0.8067]),\n",
       " ('d', 'hasStructure', 'hasStructure'): tensor([]),\n",
       " ('d', 'micronuc_f', '_Literal'): tensor([]),\n",
       " ('d', 'micronuc_m', '_Literal'): tensor([]),\n",
       " ('d', 'mouse_lymph', '_Literal'): tensor([]),\n",
       " ('d', 'rev-hasAtom', 'd'): tensor([0.1502]),\n",
       " ('d', 'rev-inBond', 'bond'): tensor([0.8548]),\n",
       " ('d', 'salmonella', '_Literal'): tensor([]),\n",
       " ('d', 'salmonella_n', '_Literal'): tensor([]),\n",
       " ('d', 'salmonella_reduc', '_Literal'): tensor([]),\n",
       " ('hasStructure', 'rev-hasStructure', 'd'): tensor([])}"
      ]
     },
     "execution_count": 20,
     "metadata": {},
     "output_type": "execute_result"
    }
   ],
   "source": [
    "edge_mask"
   ]
  },
  {
   "cell_type": "code",
   "execution_count": null,
   "id": "799f5f6e",
   "metadata": {},
   "outputs": [],
   "source": []
  },
  {
   "cell_type": "code",
   "execution_count": null,
   "id": "0335f5c0",
   "metadata": {},
   "outputs": [],
   "source": []
  }
 ],
 "metadata": {
  "kernelspec": {
   "display_name": "Python 3 (ipykernel)",
   "language": "python",
   "name": "python3"
  },
  "language_info": {
   "codemirror_mode": {
    "name": "ipython",
    "version": 3
   },
   "file_extension": ".py",
   "mimetype": "text/x-python",
   "name": "python",
   "nbconvert_exporter": "python",
   "pygments_lexer": "ipython3",
   "version": "3.9.12"
  }
 },
 "nbformat": 4,
 "nbformat_minor": 5
}
